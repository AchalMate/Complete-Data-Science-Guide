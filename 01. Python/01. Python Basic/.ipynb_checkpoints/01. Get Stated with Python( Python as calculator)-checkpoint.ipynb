{
 "cells": [
  {
   "cell_type": "markdown",
   "id": "78464ff2",
   "metadata": {},
   "source": [
    "### 1. Mathematical Operation"
   ]
  },
  {
   "cell_type": "code",
   "execution_count": 2,
   "id": "a458bfac",
   "metadata": {},
   "outputs": [
    {
     "data": {
      "text/plain": [
       "13"
      ]
     },
     "execution_count": 2,
     "metadata": {},
     "output_type": "execute_result"
    }
   ],
   "source": [
    "# 1. Addition\n",
    "\n",
    "9+4"
   ]
  },
  {
   "cell_type": "code",
   "execution_count": 3,
   "id": "4dc8ebaa",
   "metadata": {},
   "outputs": [
    {
     "data": {
      "text/plain": [
       "4"
      ]
     },
     "execution_count": 3,
     "metadata": {},
     "output_type": "execute_result"
    }
   ],
   "source": [
    "# 2. Subtraction\n",
    "9-5"
   ]
  },
  {
   "cell_type": "code",
   "execution_count": 4,
   "id": "b1333f9c",
   "metadata": {},
   "outputs": [
    {
     "data": {
      "text/plain": [
       "72"
      ]
     },
     "execution_count": 4,
     "metadata": {},
     "output_type": "execute_result"
    }
   ],
   "source": [
    "# 3 Multiplication\n",
    "9*8"
   ]
  },
  {
   "cell_type": "code",
   "execution_count": 5,
   "id": "4fe0e814",
   "metadata": {},
   "outputs": [
    {
     "data": {
      "text/plain": [
       "1.8"
      ]
     },
     "execution_count": 5,
     "metadata": {},
     "output_type": "execute_result"
    }
   ],
   "source": [
    "# 4a. Division\n",
    "9/5"
   ]
  },
  {
   "cell_type": "markdown",
   "id": "f20db686",
   "metadata": {},
   "source": [
    "the answer given is in float datatype"
   ]
  },
  {
   "cell_type": "code",
   "execution_count": 7,
   "id": "4808729e",
   "metadata": {},
   "outputs": [
    {
     "data": {
      "text/plain": [
       "1"
      ]
     },
     "execution_count": 7,
     "metadata": {},
     "output_type": "execute_result"
    }
   ],
   "source": [
    "# 4b.Division(int division)\n",
    "9//5"
   ]
  },
  {
   "cell_type": "code",
   "execution_count": 8,
   "id": "d0b8420c",
   "metadata": {},
   "outputs": [
    {
     "data": {
      "text/plain": [
       "13.142857142857142"
      ]
     },
     "execution_count": 8,
     "metadata": {},
     "output_type": "execute_result"
    }
   ],
   "source": [
    "# 5. BODMOS operation\n",
    "8+9*4/7"
   ]
  },
  {
   "cell_type": "code",
   "execution_count": 11,
   "id": "344dbbba",
   "metadata": {},
   "outputs": [
    {
     "data": {
      "text/plain": [
       "8"
      ]
     },
     "execution_count": 11,
     "metadata": {},
     "output_type": "execute_result"
    }
   ],
   "source": [
    "# 6. Power of\n",
    "\n",
    "2*2*2"
   ]
  },
  {
   "cell_type": "code",
   "execution_count": 12,
   "id": "295b90af",
   "metadata": {},
   "outputs": [
    {
     "data": {
      "text/plain": [
       "8"
      ]
     },
     "execution_count": 12,
     "metadata": {},
     "output_type": "execute_result"
    }
   ],
   "source": [
    "2**3"
   ]
  },
  {
   "cell_type": "code",
   "execution_count": 13,
   "id": "5c637484",
   "metadata": {},
   "outputs": [
    {
     "data": {
      "text/plain": [
       "1"
      ]
     },
     "execution_count": 13,
     "metadata": {},
     "output_type": "execute_result"
    }
   ],
   "source": [
    "# 7. Modulus\n",
    "10 % 3"
   ]
  },
  {
   "cell_type": "code",
   "execution_count": 14,
   "id": "a2535c1b",
   "metadata": {},
   "outputs": [
    {
     "data": {
      "text/plain": [
       "'achal'"
      ]
     },
     "execution_count": 14,
     "metadata": {},
     "output_type": "execute_result"
    }
   ],
   "source": [
    "'achal'"
   ]
  },
  {
   "cell_type": "code",
   "execution_count": 15,
   "id": "65041cb3",
   "metadata": {},
   "outputs": [
    {
     "name": "stdout",
     "output_type": "stream",
     "text": [
      "achal\n"
     ]
    }
   ],
   "source": [
    "print('achal')"
   ]
  },
  {
   "cell_type": "code",
   "execution_count": 16,
   "id": "de7a3134",
   "metadata": {},
   "outputs": [
    {
     "data": {
      "text/plain": [
       "'achal achal achal achal achal achal achal achal achal achal '"
      ]
     },
     "execution_count": 16,
     "metadata": {},
     "output_type": "execute_result"
    }
   ],
   "source": [
    "10*'achal '"
   ]
  },
  {
   "cell_type": "markdown",
   "id": "225c86dc",
   "metadata": {},
   "source": [
    "### 2. Comments in Python"
   ]
  },
  {
   "cell_type": "code",
   "execution_count": null,
   "id": "b2091acc",
   "metadata": {},
   "outputs": [],
   "source": [
    "1. Single line Comment = \"#\" is used for single line comment"
   ]
  },
  {
   "cell_type": "markdown",
   "id": "54cc9527",
   "metadata": {},
   "source": [
    "### 3. Print Statement"
   ]
  },
  {
   "cell_type": "code",
   "execution_count": 1,
   "id": "e27a4ae5",
   "metadata": {},
   "outputs": [
    {
     "name": "stdout",
     "output_type": "stream",
     "text": [
      "This is line 1\n",
      "This is line 2\n"
     ]
    }
   ],
   "source": [
    "print(\"This is line 1\")\n",
    "print(\"This is line 2\")"
   ]
  },
  {
   "cell_type": "markdown",
   "id": "bb376a03",
   "metadata": {},
   "source": [
    "Both sentence get printed in seperate line, what if we want to print them on same line ?"
   ]
  },
  {
   "cell_type": "code",
   "execution_count": 3,
   "id": "9ec5fdcb",
   "metadata": {},
   "outputs": [
    {
     "name": "stdout",
     "output_type": "stream",
     "text": [
      "This is line 1 This is line 2\n"
     ]
    }
   ],
   "source": [
    "print(\"This is line 1\",end = \" \")\n",
    "print(\"This is line 2\")"
   ]
  },
  {
   "cell_type": "markdown",
   "id": "463d69ee",
   "metadata": {},
   "source": [
    "There end is nothing but newline charater"
   ]
  },
  {
   "cell_type": "markdown",
   "id": "d2539a39",
   "metadata": {},
   "source": [
    "what if we want to used single print statement to print both sentence?"
   ]
  },
  {
   "cell_type": "code",
   "execution_count": 5,
   "id": "6690dd2d",
   "metadata": {},
   "outputs": [
    {
     "name": "stdout",
     "output_type": "stream",
     "text": [
      "This is line 1 This is line 2 This is line 3 "
     ]
    }
   ],
   "source": [
    "print(\"This is line 1\",\"This is line 2\",\"This is line 3\",end = \" \")"
   ]
  },
  {
   "cell_type": "code",
   "execution_count": 6,
   "id": "71c86b55",
   "metadata": {},
   "outputs": [
    {
     "name": "stdout",
     "output_type": "stream",
     "text": [
      "This is line 1 This is line 2 This is line 3\n"
     ]
    }
   ],
   "source": [
    "print(\"This is line 1\",\"This is line 2\",\"This is line 3\")"
   ]
  },
  {
   "cell_type": "markdown",
   "id": "e4582ebf",
   "metadata": {},
   "source": [
    ", add space in the sentence"
   ]
  },
  {
   "cell_type": "markdown",
   "id": "36d5f6bd",
   "metadata": {},
   "source": [
    "### 4. Escape Sequence Character"
   ]
  },
  {
   "cell_type": "markdown",
   "id": "12c01ab6",
   "metadata": {},
   "source": [
    "1. \\'  --> Single Quote\n",
    "2. \\\\  --> Backslash\n",
    "3. \\n  --> New Line\n",
    "4. \\r  --> Carriage Return\n",
    "5. \\t  --> Tab\n",
    "6. \\b  --> Backspace\n",
    "7. \\f  --> Form Feed\n",
    "8. \\ooo--> Octal value\n",
    "9. \\xhh--> Hex value"
   ]
  },
  {
   "cell_type": "code",
   "execution_count": 8,
   "id": "ff97cc7c",
   "metadata": {},
   "outputs": [
    {
     "name": "stdout",
     "output_type": "stream",
     "text": [
      "It's alright.\n"
     ]
    }
   ],
   "source": [
    "txt = 'It\\'s alright.'\n",
    "print(txt) "
   ]
  },
  {
   "cell_type": "code",
   "execution_count": 9,
   "id": "4f8899a8",
   "metadata": {},
   "outputs": [
    {
     "name": "stdout",
     "output_type": "stream",
     "text": [
      "This will insert one \\ (backslash).\n"
     ]
    }
   ],
   "source": [
    "txt = \"This will insert one \\\\ (backslash).\"\n",
    "print(txt) "
   ]
  },
  {
   "cell_type": "code",
   "execution_count": 10,
   "id": "543aa3d0",
   "metadata": {},
   "outputs": [
    {
     "name": "stdout",
     "output_type": "stream",
     "text": [
      "Hello\n",
      "World!\n"
     ]
    }
   ],
   "source": [
    "txt = \"Hello\\nWorld!\"\n",
    "print(txt) \n"
   ]
  },
  {
   "cell_type": "code",
   "execution_count": 11,
   "id": "1e297011",
   "metadata": {},
   "outputs": [
    {
     "name": "stdout",
     "output_type": "stream",
     "text": [
      "Hello\r",
      "Python!\n"
     ]
    }
   ],
   "source": [
    "txt = \"Hello\\rPython!\"\n",
    "print(txt) \n"
   ]
  },
  {
   "cell_type": "code",
   "execution_count": 12,
   "id": "1faad465",
   "metadata": {},
   "outputs": [
    {
     "name": "stdout",
     "output_type": "stream",
     "text": [
      "Hello\tPython!\n"
     ]
    }
   ],
   "source": [
    "txt = \"Hello\\tPython!\"\n",
    "print(txt) "
   ]
  },
  {
   "cell_type": "code",
   "execution_count": 13,
   "id": "37a53288",
   "metadata": {},
   "outputs": [
    {
     "name": "stdout",
     "output_type": "stream",
     "text": [
      "Hello \bWorld!\n"
     ]
    }
   ],
   "source": [
    "#This example erases one character (backspace):\n",
    "txt = \"Hello \\bWorld!\"\n",
    "print(txt)"
   ]
  },
  {
   "cell_type": "code",
   "execution_count": 18,
   "id": "cd0ab289",
   "metadata": {},
   "outputs": [
    {
     "name": "stdout",
     "output_type": "stream",
     "text": [
      "Hello\n"
     ]
    }
   ],
   "source": [
    "#A backslash followed by three integers will result in a octal value:\n",
    "txt1 = \"\\110\\145\\154\\154\\157\"\n",
    "print(txt1) \n"
   ]
  },
  {
   "cell_type": "code",
   "execution_count": 19,
   "id": "065ec64f",
   "metadata": {},
   "outputs": [
    {
     "name": "stdout",
     "output_type": "stream",
     "text": [
      "Hello\n"
     ]
    }
   ],
   "source": [
    "#A backslash followed by an 'x' and a hex number represents a hex value:\n",
    "txt = \"\\x48\\x65\\x6c\\x6c\\x6f\"\n",
    "print(txt) \n"
   ]
  },
  {
   "cell_type": "code",
   "execution_count": null,
   "id": "3e3ce198",
   "metadata": {},
   "outputs": [],
   "source": []
  }
 ],
 "metadata": {
  "kernelspec": {
   "display_name": "Python 3 (ipykernel)",
   "language": "python",
   "name": "python3"
  },
  "language_info": {
   "codemirror_mode": {
    "name": "ipython",
    "version": 3
   },
   "file_extension": ".py",
   "mimetype": "text/x-python",
   "name": "python",
   "nbconvert_exporter": "python",
   "pygments_lexer": "ipython3",
   "version": "3.11.5"
  }
 },
 "nbformat": 4,
 "nbformat_minor": 5
}
