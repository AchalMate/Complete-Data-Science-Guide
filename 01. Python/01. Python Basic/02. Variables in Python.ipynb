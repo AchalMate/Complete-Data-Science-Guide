{
 "cells": [
  {
   "cell_type": "markdown",
   "id": "051b13a9",
   "metadata": {},
   "source": [
    "### 1. Variables in Python"
   ]
  },
  {
   "cell_type": "markdown",
   "id": "6dff9828",
   "metadata": {},
   "source": [
    "* Python has no command for declaring a variable.\n",
    "* A variable is created the moment you first assign a value to it."
   ]
  },
  {
   "cell_type": "code",
   "execution_count": 1,
   "id": "50837a30",
   "metadata": {},
   "outputs": [
    {
     "name": "stdout",
     "output_type": "stream",
     "text": [
      "123\n",
      "123.44\n",
      "Python World\n"
     ]
    }
   ],
   "source": [
    "var1 = 123\n",
    "var2 = 123.44\n",
    "var3 = \"Python World\"\n",
    "\n",
    "print(var1)\n",
    "print(var2)\n",
    "print(var3)"
   ]
  },
  {
   "cell_type": "markdown",
   "id": "393163a8",
   "metadata": {},
   "source": [
    "#### Check type of variables\n"
   ]
  },
  {
   "cell_type": "code",
   "execution_count": 3,
   "id": "27ccd845",
   "metadata": {},
   "outputs": [
    {
     "name": "stdout",
     "output_type": "stream",
     "text": [
      "Var1 Type is :- <class 'int'>\n",
      "Var2 Type is :- <class 'float'>\n",
      "Var3 Type is :- <class 'str'>\n"
     ]
    }
   ],
   "source": [
    "print(\"Var1 Type is :-\",type(var1))\n",
    "print(\"Var2 Type is :-\",type(var2))\n",
    "print(\"Var3 Type is :-\",type(var3))"
   ]
  },
  {
   "cell_type": "markdown",
   "id": "d1ea8ff6",
   "metadata": {},
   "source": [
    "Variables do not need to be declared with any particular type, and can even change type after they have been set."
   ]
  },
  {
   "cell_type": "code",
   "execution_count": 4,
   "id": "e74d5f16",
   "metadata": {},
   "outputs": [
    {
     "name": "stdout",
     "output_type": "stream",
     "text": [
      "Hello World\n"
     ]
    }
   ],
   "source": [
    "var = 345\n",
    "var = \"Hello World\"\n",
    "print(var)"
   ]
  },
  {
   "cell_type": "markdown",
   "id": "a756c0ba",
   "metadata": {},
   "source": [
    "#### Variable names"
   ]
  },
  {
   "cell_type": "markdown",
   "id": "ed0783e2",
   "metadata": {},
   "source": [
    "Rules for Python variables:\n",
    "* A variable name must start with a letter or the underscore character\n",
    "* A variable name cannot start with a number\n",
    "* A variable name can only contain alpha-numeric characters and underscores (A-z, 0-9, and _ )\n",
    "* Variable names are case-sensitive (age, Age and AGE are three different variables)\n",
    "* A variable name cannot be any of the Python keywords."
   ]
  },
  {
   "cell_type": "code",
   "execution_count": 11,
   "id": "04c33d3a",
   "metadata": {},
   "outputs": [
    {
     "name": "stdout",
     "output_type": "stream",
     "text": [
      "Hello\n",
      "Python\n"
     ]
    }
   ],
   "source": [
    "# Variables are case-sensitive\n",
    "a = \"Hello\"\n",
    "A = \"Python\"\n",
    "\n",
    "print(a)\n",
    "print(A)"
   ]
  },
  {
   "cell_type": "markdown",
   "id": "5f57d0cd",
   "metadata": {},
   "source": [
    "### Assign Multiple Values"
   ]
  },
  {
   "cell_type": "markdown",
   "id": "f4632cb0",
   "metadata": {},
   "source": [
    "you can assign values to multiple variables in one line"
   ]
  },
  {
   "cell_type": "code",
   "execution_count": 7,
   "id": "8c496fb4",
   "metadata": {},
   "outputs": [
    {
     "name": "stdout",
     "output_type": "stream",
     "text": [
      "Orange\n",
      "Banana\n",
      "Cherry\n"
     ]
    }
   ],
   "source": [
    "x, y, z = \"Orange\", \"Banana\", \"Cherry\"\n",
    "print(x)\n",
    "print(y)\n",
    "print(z)"
   ]
  },
  {
   "cell_type": "markdown",
   "id": "e8c750a4",
   "metadata": {},
   "source": [
    "##### Note: Make sure the number of variables matches the number of values, or else you will get an error."
   ]
  },
  {
   "cell_type": "markdown",
   "id": "a64f75d1",
   "metadata": {},
   "source": [
    "#### One Value to Multiple Variables"
   ]
  },
  {
   "cell_type": "code",
   "execution_count": 8,
   "id": "8c9c3496",
   "metadata": {},
   "outputs": [
    {
     "name": "stdout",
     "output_type": "stream",
     "text": [
      "Single Value\n",
      "Single Value\n",
      "Single Value\n"
     ]
    }
   ],
   "source": [
    "x = y= z = \"Single Value\"\n",
    "print(x)\n",
    "print(y)\n",
    "print(z)"
   ]
  },
  {
   "cell_type": "markdown",
   "id": "ca17a2d5",
   "metadata": {},
   "source": [
    "#### Unpack a Collection"
   ]
  },
  {
   "cell_type": "markdown",
   "id": "d0f23067",
   "metadata": {},
   "source": [
    "* When collection of values in list or tuple is extracted into variables then it is known as unpacking"
   ]
  },
  {
   "cell_type": "code",
   "execution_count": 9,
   "id": "b9f9f42e",
   "metadata": {},
   "outputs": [
    {
     "name": "stdout",
     "output_type": "stream",
     "text": [
      "apple\n",
      "banana\n",
      "cherry\n"
     ]
    }
   ],
   "source": [
    "fruits = [\"apple\", \"banana\", \"cherry\"]\n",
    "x, y, z = fruits\n",
    "print(x)\n",
    "print(y)\n",
    "print(z)"
   ]
  },
  {
   "cell_type": "markdown",
   "id": "3b96dd65",
   "metadata": {},
   "source": [
    "#### printing output of variables\n"
   ]
  },
  {
   "cell_type": "code",
   "execution_count": 10,
   "id": "c18cdd8e",
   "metadata": {},
   "outputs": [
    {
     "name": "stdout",
     "output_type": "stream",
     "text": [
      "Python is awesome\n"
     ]
    }
   ],
   "source": [
    "x = \"Python\"\n",
    "y = \"is\"\n",
    "z = \"awesome\"\n",
    "print(x, y, z)"
   ]
  },
  {
   "cell_type": "code",
   "execution_count": null,
   "id": "dab00513",
   "metadata": {},
   "outputs": [],
   "source": []
  }
 ],
 "metadata": {
  "kernelspec": {
   "display_name": "Python 3 (ipykernel)",
   "language": "python",
   "name": "python3"
  },
  "language_info": {
   "codemirror_mode": {
    "name": "ipython",
    "version": 3
   },
   "file_extension": ".py",
   "mimetype": "text/x-python",
   "name": "python",
   "nbconvert_exporter": "python",
   "pygments_lexer": "ipython3",
   "version": "3.11.5"
  }
 },
 "nbformat": 4,
 "nbformat_minor": 5
}
