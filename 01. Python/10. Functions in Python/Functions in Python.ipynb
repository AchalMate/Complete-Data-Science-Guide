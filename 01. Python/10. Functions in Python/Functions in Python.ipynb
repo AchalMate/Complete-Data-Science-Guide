{
 "cells": [
  {
   "cell_type": "markdown",
   "metadata": {},
   "source": [
    "### Function in Python"
   ]
  },
  {
   "cell_type": "markdown",
   "metadata": {},
   "source": [
    "* A function is a reusable block of code that performs a specific task. It helps in organizing code, reducing redundancy, and improving readability.\n",
    "* A function is a block of code which only runs when it is called.\n",
    "\n",
    "* You can pass data, known as parameters, into a function and it can return data as a result.\n",
    "\n",
    "#### Benefits of Using Functions\n",
    "\n",
    "    1. Increase Code Readability \n",
    "    2. Increase Code Reusability\n",
    "\n",
    "#### Types of Functions in Python\n",
    "\n",
    "\n",
    "    1. Built-in library function: These are Standard functions in Python that are available to use.\n",
    "    2. User-defined function: We can create our own functions based on our requirements."
   ]
  },
  {
   "cell_type": "markdown",
   "metadata": {},
   "source": [
    "### User- define Function\n",
    "1. Defining a Function\n",
    "    * A function is defined using the def keyword followed by the function name and parameters in parentheses. \n",
    "Inside the function, logic is written.\n",
    "\n",
    "2. Calling a Function\n",
    "    * To call a function, use the function name followed by parenthesis.\n",
    "\n",
    "\n"
   ]
  },
  {
   "cell_type": "code",
   "execution_count": 11,
   "metadata": {},
   "outputs": [
    {
     "name": "stdout",
     "output_type": "stream",
     "text": [
      "Hello from a function\n"
     ]
    }
   ],
   "source": [
    "def my_function():\n",
    "  print(\"Hello from a function\")\n",
    "\n",
    "my_function()"
   ]
  },
  {
   "cell_type": "code",
   "execution_count": 12,
   "metadata": {},
   "outputs": [],
   "source": [
    "# Example 1: Defining a basic function\n",
    "def multiply(x, y):\n",
    "    return x * y\n",
    "\n",
    "# Example 2: Defining a function with default arguments\n",
    "def greet(name=\"John\"):\n",
    "    print(f\"Hello, {name}!\")\n",
    "\n",
    "# Example 3: Function to find the maximum of two numbers\n",
    "def maximum(a, b):\n",
    "    if a > b:\n",
    "        return a\n",
    "    return b\n",
    "\n",
    "# Example 4: Function to check if a number is even\n",
    "def is_even(num):\n",
    "    return num % 2 == 0\n",
    "\n",
    "# Example 5: Function to calculate factorial\n",
    "def factorial(n):\n",
    "    result = 1\n",
    "    for i in range(1, n + 1):\n",
    "        result *= i\n",
    "    return result"
   ]
  },
  {
   "cell_type": "code",
   "execution_count": 13,
   "metadata": {},
   "outputs": [
    {
     "name": "stdout",
     "output_type": "stream",
     "text": [
      "8\n",
      "Hello, Alice\n",
      "Hello, Bob\n",
      "The square of 4 is 16\n",
      "2\n",
      "4\n",
      "6\n",
      "8\n",
      "10\n",
      "6\n"
     ]
    }
   ],
   "source": [
    "# Example 1: Calling a function with arguments\n",
    "def add(a, b):\n",
    "    return a + b\n",
    "\n",
    "print(add(3, 5))\n",
    "\n",
    "# Example 2: Calling a function with default arguments\n",
    "def greet(name=\"Alice\"):\n",
    "    print(f\"Hello, {name}\")\n",
    "\n",
    "greet()  # Default argument\n",
    "greet(\"Bob\")  # With argument\n",
    "\n",
    "# Example 3: Calling a function inside another function\n",
    "def square(n):\n",
    "    return n * n\n",
    "\n",
    "def display_square(num):\n",
    "    print(f\"The square of {num} is {square(num)}\")\n",
    "\n",
    "display_square(4)\n",
    "\n",
    "# Example 4: Function called within a loop\n",
    "def double(x):\n",
    "    return x * 2\n",
    "\n",
    "for i in range(1, 6):\n",
    "    print(double(i))\n",
    "\n",
    "# Example 5: Calling a function that returns a value\n",
    "def subtract(a, b):\n",
    "    return a - b\n",
    "\n",
    "result = subtract(10, 4)\n",
    "print(result)\n"
   ]
  },
  {
   "cell_type": "markdown",
   "metadata": {},
   "source": [
    "3. Function Arguments\n",
    "    * Information can be passed into functions as arguments.\n",
    "    * Arguments are specified after the function name, inside the parentheses. \n",
    "    * You can add as many arguments as you want, just separate them with a comma.\n",
    "    * There are different types of arguments: positional, keyword, default, and variable-length arguments."
   ]
  },
  {
   "cell_type": "markdown",
   "metadata": {},
   "source": [
    "### Positional Arguments\n",
    "Definition: Positional arguments are the most common and straightforward type of arguments. When you call a function, the arguments you pass are matched to the function parameters in the same order they are defined.\n",
    "\n",
    "Characteristics:\n",
    "\n",
    "You must pass arguments in the exact order in which the parameters are defined.\n",
    "Each argument is assigned to its corresponding parameter based on position."
   ]
  },
  {
   "cell_type": "code",
   "execution_count": 14,
   "metadata": {},
   "outputs": [
    {
     "name": "stdout",
     "output_type": "stream",
     "text": [
      "5\n"
     ]
    }
   ],
   "source": [
    "#  Example 1: Positional arguments\n",
    "def subtract(a, b):\n",
    "    return a - b\n",
    "\n",
    "print(subtract(10, 5))"
   ]
  },
  {
   "cell_type": "code",
   "execution_count": 15,
   "metadata": {},
   "outputs": [
    {
     "name": "stdout",
     "output_type": "stream",
     "text": [
      "Hello, John Doe!\n"
     ]
    }
   ],
   "source": [
    "def greet(first_name, last_name):\n",
    "    print(f\"Hello, {first_name} {last_name}!\")\n",
    "\n",
    "# Calling the function with positional arguments\n",
    "greet(\"John\", \"Doe\")"
   ]
  },
  {
   "cell_type": "code",
   "execution_count": 16,
   "metadata": {},
   "outputs": [
    {
     "name": "stdout",
     "output_type": "stream",
     "text": [
      "6\n"
     ]
    }
   ],
   "source": [
    "def multiply(a, b):\n",
    "    return a * b\n",
    "\n",
    "# Call with positional arguments\n",
    "result = multiply(2, 3)\n",
    "print(result)"
   ]
  },
  {
   "cell_type": "markdown",
   "metadata": {},
   "source": [
    "### 2. Keyword Arguments\n",
    "* Definition: Keyword arguments are passed by explicitly specifying the name of the parameter, rather than by position. This allows you to pass arguments in any order, making your function calls clearer and less error-prone.\n",
    "\n",
    "* Characteristics:\n",
    "\n",
    "    * You specify each argument with its parameter name (i.e., in the form param=value).\n",
    "    * The order of arguments doesn’t matter.\n",
    "    * You can combine positional and keyword arguments in the same function call."
   ]
  },
  {
   "cell_type": "code",
   "execution_count": 17,
   "metadata": {},
   "outputs": [
    {
     "name": "stdout",
     "output_type": "stream",
     "text": [
      "Name: Alice, Age: 30\n"
     ]
    }
   ],
   "source": [
    "# Example 2: Keyword arguments\n",
    "def describe_person(name, age):\n",
    "    print(f\"Name: {name}, Age: {age}\")\n",
    "\n",
    "describe_person(age=30, name=\"Alice\")\n"
   ]
  },
  {
   "cell_type": "code",
   "execution_count": 18,
   "metadata": {},
   "outputs": [
    {
     "name": "stdout",
     "output_type": "stream",
     "text": [
      "Alice is 25 years old and lives in New York.\n"
     ]
    }
   ],
   "source": [
    "def describe_person(name, age, city):\n",
    "    print(f\"{name} is {age} years old and lives in {city}.\")\n",
    "\n",
    "# Positional and keyword arguments combined\n",
    "describe_person(\"Alice\", age=25, city=\"New York\")"
   ]
  },
  {
   "cell_type": "markdown",
   "metadata": {},
   "source": [
    "3. Default Arguments\n",
    "* Definition: Default arguments allow you to specify a default value for one or more parameters in a function. If the caller doesn’t provide an argument for a default parameter, the function uses the default value.\n",
    "\n",
    "* Characteristics:\n",
    "\n",
    "    * Useful when you want to make certain parameters optional.\n",
    "    * Default arguments must come after non-default arguments in the function definition."
   ]
  },
  {
   "cell_type": "code",
   "execution_count": 19,
   "metadata": {},
   "outputs": [
    {
     "name": "stdout",
     "output_type": "stream",
     "text": [
      "Hello, Alice!\n",
      "Hi, Bob!\n"
     ]
    }
   ],
   "source": [
    "def greet(name, message=\"Hello\"):\n",
    "    print(f\"{message}, {name}!\")\n",
    "\n",
    "# Calling the function with and without the default argument\n",
    "greet(\"Alice\")          # Default message is used\n",
    "greet(\"Bob\", \"Hi\")      # \"Hi\" is passed instead of the default \"Hello\""
   ]
  },
  {
   "cell_type": "code",
   "execution_count": 20,
   "metadata": {},
   "outputs": [
    {
     "name": "stdout",
     "output_type": "stream",
     "text": [
      "Order: 1 apple(s) for $10\n",
      "order :  1 apple  for $  10\n",
      "Order: 2 banana(s) for $10\n",
      "order :  2 banana  for $  10\n"
     ]
    }
   ],
   "source": [
    "def order_item(item, quantity=1, price=10):\n",
    "    total = quantity * price\n",
    "    print(f\"Order: {quantity} {item}(s) for ${total}\")\n",
    "    print(\"order : \",quantity,item,\" for $ \",total)\n",
    "\n",
    "# Call with default quantity and price\n",
    "order_item(\"apple\")  # 1 apple at $10 each\n",
    "\n",
    "# Call with custom quantity and price\n",
    "order_item(\"banana\", 2, 5)  # 2 bananas at $5 each"
   ]
  },
  {
   "cell_type": "markdown",
   "metadata": {},
   "source": [
    "### 4. Variable-length Arguments (*args and **kwargs)\n",
    "* Definition: Variable-length arguments allow you to pass an arbitrary number of arguments to a function. There are two types of variable-length arguments:\n",
    "\n",
    "* *args: Collects extra positional arguments into a tuple.\n",
    "* **kwargs: Collects extra keyword arguments into a dictionary.\n",
    "* 4.1 *args (Positional Variable-length Arguments)\n",
    "    * Characteristics:\n",
    "        * The function can accept an arbitrary number of positional arguments.\n",
    "        * Inside the function, the arguments are treated as a tuple."
   ]
  },
  {
   "cell_type": "code",
   "execution_count": 21,
   "metadata": {},
   "outputs": [
    {
     "name": "stdout",
     "output_type": "stream",
     "text": [
      "10\n",
      "30\n"
     ]
    }
   ],
   "source": [
    "def sum_all(*numbers):\n",
    "    return sum(numbers)\n",
    "\n",
    "# Call with multiple arguments\n",
    "print(sum_all(1, 2, 3, 4))  # Output: 10\n",
    "print(sum_all(10, 20))"
   ]
  },
  {
   "cell_type": "markdown",
   "metadata": {},
   "source": [
    "* 4.2 **kwargs (Keyword Variable-length Arguments)\n",
    "    * Characteristics:\n",
    "        * The function can accept an arbitrary number of keyword arguments.\n",
    "        * Inside the function, the arguments are treated as a dictionary."
   ]
  },
  {
   "cell_type": "code",
   "execution_count": 22,
   "metadata": {},
   "outputs": [
    {
     "name": "stdout",
     "output_type": "stream",
     "text": [
      "name: Alice\n",
      "age: 30\n",
      "city: New York\n"
     ]
    }
   ],
   "source": [
    "def print_details(**info):\n",
    "    for key, value in info.items():\n",
    "        print(f\"{key}: {value}\")\n",
    "\n",
    "# Call with multiple keyword arguments\n",
    "print_details(name=\"Alice\", age=30, city=\"New York\")"
   ]
  },
  {
   "cell_type": "code",
   "execution_count": 23,
   "metadata": {},
   "outputs": [
    {
     "name": "stdout",
     "output_type": "stream",
     "text": [
      "name: Alice\n",
      "age: 30\n"
     ]
    }
   ],
   "source": [
    "def print_details(**info):\n",
    "    for key, value in info.items():\n",
    "        print(f\"{key}: {value}\")\n",
    "\n",
    "# Call with multiple keyword arguments\n",
    "print_details(name=\"Alice\", age=30)"
   ]
  },
  {
   "cell_type": "markdown",
   "metadata": {},
   "source": []
  },
  {
   "cell_type": "code",
   "execution_count": 24,
   "metadata": {},
   "outputs": [
    {
     "name": "stdout",
     "output_type": "stream",
     "text": [
      "10\n",
      "name: Alice\n",
      "age: 30\n",
      "city: New York\n",
      "Positional: (1, 2)\n",
      "Keyword: {'name': 'John', 'age': 25}\n",
      "25.0\n",
      "{'username': 'johndoe', 'age': 28, 'occupation': 'developer'}\n"
     ]
    }
   ],
   "source": [
    "# Example 1: Using *args\n",
    "def add(*numbers):\n",
    "    return sum(numbers)\n",
    "\n",
    "print(add(1, 2, 3, 4))\n",
    "\n",
    "# Example 2: Using **kwargs\n",
    "def describe_person(**person_info):\n",
    "    for key, value in person_info.items():\n",
    "        print(f\"{key}: {value}\")\n",
    "\n",
    "describe_person(name=\"Alice\", age=30, city=\"New York\")\n",
    "\n",
    "# Example 3: Mixing args and kwargs\n",
    "def mixed_args(*args, **kwargs):\n",
    "    print(\"Positional:\", args)\n",
    "    print(\"Keyword:\", kwargs)\n",
    "\n",
    "mixed_args(1, 2, name=\"John\", age=25)\n",
    "\n",
    "# Example 4: *args in a function to calculate average\n",
    "def average(*nums):\n",
    "    return sum(nums) / len(nums)\n",
    "\n",
    "print(average(10, 20, 30, 40))\n",
    "\n",
    "# Example 5: **kwargs to define user details\n",
    "def user_info(**details):\n",
    "    print(details)\n",
    "\n",
    "user_info(username=\"johndoe\", age=28, occupation=\"developer\")\n"
   ]
  },
  {
   "cell_type": "markdown",
   "metadata": {},
   "source": [
    "### Built-in Function\n",
    "Python provides many built-in functions like len(), sum(), max(), etc."
   ]
  },
  {
   "cell_type": "code",
   "execution_count": 3,
   "metadata": {},
   "outputs": [
    {
     "name": "stdout",
     "output_type": "stream",
     "text": [
      "13\n",
      "60\n",
      "30\n",
      "['apple', 'banana', 'cherry']\n",
      "5\n"
     ]
    }
   ],
   "source": [
    "# Example 1: Using len() to find the length of a string\n",
    "print(len(\"Hello, World!\"))\n",
    "\n",
    "# Example 2: Using sum() to calculate the sum of a list\n",
    "numbers = [10, 20, 30]\n",
    "print(sum(numbers))\n",
    "\n",
    "# Example 3: Using max() to find the maximum value\n",
    "print(max(10, 25, 30, 5))\n",
    "\n",
    "# Example 4: Using sorted() to sort a list\n",
    "words = [\"apple\", \"cherry\",\"banana\"]\n",
    "print(sorted(words))\n",
    "\n",
    "# Example 5: Using abs() to find absolute value\n",
    "print(abs(-5))"
   ]
  },
  {
   "cell_type": "markdown",
   "metadata": {},
   "source": [
    "* The map() function in Python is a built-in function that allows you to apply a function to all the items in an iterable (such as a list, tuple, etc.) and returns a map object (which can be converted into a list, set, etc.).\n",
    "* Synatax :- \n",
    "    * map(function, iterable, ...)\n",
    "    * function: A function that you want to apply to each element of the iterable.\n",
    "    * iterable: The iterable (such as a list, tuple, etc.) whose elements the function will be applied to.\n"
   ]
  },
  {
   "cell_type": "code",
   "execution_count": 7,
   "metadata": {},
   "outputs": [
    {
     "name": "stdout",
     "output_type": "stream",
     "text": [
      "<map object at 0x0000029BB781BC10>\n"
     ]
    }
   ],
   "source": [
    "#Using map() to square each number in a list:\n",
    "numbers = [1, 2, 3, 4, 5]\n",
    "\n",
    "def square(num):\n",
    "    return num * num\n",
    "\n",
    "squared_numbers = map(square, numbers)\n",
    "print(list(squared_numbers))"
   ]
  },
  {
   "cell_type": "code",
   "execution_count": 8,
   "metadata": {},
   "outputs": [
    {
     "name": "stdout",
     "output_type": "stream",
     "text": [
      "[5, 7, 9]\n"
     ]
    }
   ],
   "source": [
    "# Using map() with multiple iterables\n",
    "list1 = [1, 2, 3]\n",
    "list2 = [4, 5, 6]\n",
    "\n",
    "def add(a, b):\n",
    "    return a + b\n",
    "\n",
    "result = list(map(add, list1, list2))\n",
    "print(result) "
   ]
  },
  {
   "cell_type": "code",
   "execution_count": 9,
   "metadata": {},
   "outputs": [
    {
     "name": "stdout",
     "output_type": "stream",
     "text": [
      "[1, 2, 3, 4]\n"
     ]
    }
   ],
   "source": [
    "#Using map() with a built-in function:\n",
    "strings = ['1', '2', '3', '4']\n",
    "numbers = list(map(int, strings))  # Converts each string to an integer\n",
    "print(numbers) "
   ]
  },
  {
   "cell_type": "markdown",
   "metadata": {},
   "source": [
    "### Scope of Variables in Python\n",
    "* The scope of a variable refers to the part of a program where the variable is accessible.\n",
    "*  In Python, variables have either global or local scope, and the accessibility depends on where the variable is defined.\n",
    "\n",
    "#### Types of Scopes:\n",
    "* Local Scope (Function scope)\n",
    "* Global Scope (Module scope)\n",
    "* Enclosing Scope (Nonlocal scope)\n",
    "* Built-in Scope (Predefined scope)\n",
    "* These scopes follow a particular order of resolution called the LEGB rule:\n",
    "\n",
    "    * L: Local\n",
    "    * E: Enclosing\n",
    "    * G: Global\n",
    "    * B: Built-in\n"
   ]
  },
  {
   "cell_type": "markdown",
   "metadata": {},
   "source": [
    "### 1. Local Scope\n",
    "Definition: Variables defined within a function or block are called local variables, and they are only accessible within that specific function or block. Once the function finishes execution, the local variables are destroyed and cannot be accessed anymore."
   ]
  },
  {
   "cell_type": "markdown",
   "metadata": {},
   "source": [
    "Key Points:\n",
    "* Local variables exist only within the function in which they are declared.\n",
    "* They are created when the function is called and destroyed when the function exits."
   ]
  },
  {
   "cell_type": "code",
   "execution_count": 25,
   "metadata": {},
   "outputs": [
    {
     "name": "stdout",
     "output_type": "stream",
     "text": [
      "Hello, World!\n"
     ]
    }
   ],
   "source": [
    "def greet():\n",
    "    message = \"Hello, World!\"  # local variable\n",
    "    print(message)\n",
    "\n",
    "greet()  # Output: Hello, World!\n",
    "# print(message)  # This will give an error because 'message' is not accessible here"
   ]
  },
  {
   "cell_type": "markdown",
   "metadata": {},
   "source": [
    "### 2. Global Scope\n",
    "Definition: A variable that is defined outside of all functions and classes is a global variable. These variables are accessible throughout the entire program, both inside and outside of functions (but to modify them inside a function, you must explicitly declare them as global)."
   ]
  },
  {
   "cell_type": "code",
   "execution_count": 26,
   "metadata": {},
   "outputs": [
    {
     "name": "stdout",
     "output_type": "stream",
     "text": [
      "Hello, World!\n",
      "Hello, World!\n"
     ]
    }
   ],
   "source": [
    "message = \"Hello, World!\"  # global variable\n",
    "\n",
    "def greet():\n",
    "    print(message)  # Accessible inside the function\n",
    "\n",
    "greet()  # Output: Hello, World!\n",
    "print(message)  # Output: Hello, World!\n"
   ]
  },
  {
   "cell_type": "markdown",
   "metadata": {},
   "source": [
    "### Modifying a Global Variable Inside a Function:\n",
    "If you need to modify a global variable inside a function, you must use the global keyword."
   ]
  },
  {
   "cell_type": "code",
   "execution_count": 30,
   "metadata": {},
   "outputs": [
    {
     "name": "stdout",
     "output_type": "stream",
     "text": [
      "1\n",
      "1\n"
     ]
    }
   ],
   "source": [
    "counter = 0  # global variable\n",
    "\n",
    "def increment():\n",
    "    global counter  # Declare the use of the global variable\n",
    "    counter += 1\n",
    "    print(counter)\n",
    "\n",
    "increment()\n",
    "print(counter)  # Output: 1"
   ]
  },
  {
   "cell_type": "code",
   "execution_count": 31,
   "metadata": {},
   "outputs": [
    {
     "name": "stdout",
     "output_type": "stream",
     "text": [
      " Hello world function\n"
     ]
    }
   ],
   "source": [
    "def check():\n",
    "    \"\"\" Hello world function\"\"\"\n",
    "    print(\"Hello World\")\n",
    "\n",
    "print(check.__doc__)"
   ]
  },
  {
   "cell_type": "markdown",
   "metadata": {},
   "source": [
    "1. math.ceil(x)\n",
    "Rounds a number up to the nearest integer"
   ]
  },
  {
   "cell_type": "code",
   "execution_count": 32,
   "metadata": {},
   "outputs": [
    {
     "name": "stdout",
     "output_type": "stream",
     "text": [
      "5\n",
      "-4\n"
     ]
    }
   ],
   "source": [
    "import math\n",
    "print(math.ceil(4.1))  # Output: 5\n",
    "print(math.ceil(-4.9))  # Output: -4"
   ]
  },
  {
   "cell_type": "markdown",
   "metadata": {},
   "source": [
    "2. math.floor(x)\n",
    "Returns the largest integer less than or equal to x. This rounds the number down to the nearest intege"
   ]
  },
  {
   "cell_type": "code",
   "execution_count": 34,
   "metadata": {},
   "outputs": [
    {
     "name": "stdout",
     "output_type": "stream",
     "text": [
      "4\n",
      "4\n"
     ]
    }
   ],
   "source": [
    "print(math.floor(4.9))  # Output: 4\n",
    "print(math.floor(4.1))  # Output: -5"
   ]
  },
  {
   "cell_type": "code",
   "execution_count": 3,
   "metadata": {},
   "outputs": [],
   "source": [
    "# custom_module.py\n",
    "\n",
    "def add(a, b):\n",
    "    return a + b\n",
    "\n",
    "def greet(name):\n",
    "    return f\"Hello, {name}!\""
   ]
  },
  {
   "cell_type": "markdown",
   "metadata": {},
   "source": []
  },
  {
   "cell_type": "markdown",
   "metadata": {},
   "source": []
  }
 ],
 "metadata": {
  "kernelspec": {
   "display_name": "Python 3",
   "language": "python",
   "name": "python3"
  },
  "language_info": {
   "codemirror_mode": {
    "name": "ipython",
    "version": 3
   },
   "file_extension": ".py",
   "mimetype": "text/x-python",
   "name": "python",
   "nbconvert_exporter": "python",
   "pygments_lexer": "ipython3",
   "version": "3.12.3"
  }
 },
 "nbformat": 4,
 "nbformat_minor": 2
}
