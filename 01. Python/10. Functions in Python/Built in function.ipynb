{
 "cells": [
  {
   "cell_type": "markdown",
   "metadata": {},
   "source": [
    "1. Range()\n",
    "* range() is a built-in function used to generate a sequence of numbers. \n",
    "* It is most commonly used in loops to iterate over a sequence of numbers. \n",
    "* The range() function can take one, two, or three arguments, depending on how you want to define the sequence.\n",
    "\n",
    "Syntax = range(start, stop, step)\n",
    "* start: (Optional) The starting value of the sequence. Defaults to 0.\n",
    "* stop: (Required) The endpoint of the sequence, but not included in the sequence.\n",
    "* step: (Optional) The difference between each number in the sequence. Defaults to 1."
   ]
  },
  {
   "cell_type": "code",
   "execution_count": 3,
   "metadata": {},
   "outputs": [
    {
     "name": "stdout",
     "output_type": "stream",
     "text": [
      "0\n",
      "1\n",
      "2\n",
      "3\n",
      "4\n",
      "****\n",
      "2\n",
      "5\n",
      "8\n"
     ]
    }
   ],
   "source": [
    "for i in range(5):\n",
    "    print(i)\n",
    "print(\"**\"*2)\n",
    "for i in range(2, 10,3):\n",
    "    print(i)"
   ]
  },
  {
   "cell_type": "markdown",
   "metadata": {},
   "source": []
  },
  {
   "cell_type": "markdown",
   "metadata": {},
   "source": []
  }
 ],
 "metadata": {
  "kernelspec": {
   "display_name": "Python 3",
   "language": "python",
   "name": "python3"
  },
  "language_info": {
   "codemirror_mode": {
    "name": "ipython",
    "version": 3
   },
   "file_extension": ".py",
   "mimetype": "text/x-python",
   "name": "python",
   "nbconvert_exporter": "python",
   "pygments_lexer": "ipython3",
   "version": "3.12.3"
  }
 },
 "nbformat": 4,
 "nbformat_minor": 2
}
