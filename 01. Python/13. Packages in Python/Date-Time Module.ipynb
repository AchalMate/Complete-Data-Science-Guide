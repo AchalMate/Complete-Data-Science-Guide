{
 "cells": [
  {
   "cell_type": "markdown",
   "metadata": {},
   "source": [
    "The datetime module in Python provides classes for manipulating dates and times. It allows for working with date, time, and combined datetime, providing ways to format, manipulate, and perform operations with time data."
   ]
  },
  {
   "cell_type": "markdown",
   "metadata": {},
   "source": [
    "### 1. datetime.date\n",
    "* This class represents a date (year, month, day). \n",
    "* You can create a date object or extract date components."
   ]
  },
  {
   "cell_type": "code",
   "execution_count": 1,
   "metadata": {},
   "outputs": [
    {
     "name": "stdout",
     "output_type": "stream",
     "text": [
      "2024-09-28\n"
     ]
    }
   ],
   "source": [
    "import datetime\n",
    "\n",
    "# Create a date object\n",
    "date = datetime.date(2024, 9, 28)\n",
    "print(date) "
   ]
  },
  {
   "cell_type": "code",
   "execution_count": 2,
   "metadata": {},
   "outputs": [
    {
     "name": "stdout",
     "output_type": "stream",
     "text": [
      "2024\n",
      "9\n",
      "28\n"
     ]
    }
   ],
   "source": [
    "# Extract components\n",
    "print(date.year)   \n",
    "print(date.month)  \n",
    "print(date.day)"
   ]
  },
  {
   "cell_type": "markdown",
   "metadata": {},
   "source": [
    "### 2. datetime.time\n",
    "* This class represents a time (hour, minute, second, microsecond). \n",
    "* It's used to work with time without any associated date."
   ]
  },
  {
   "cell_type": "code",
   "execution_count": 6,
   "metadata": {},
   "outputs": [
    {
     "name": "stdout",
     "output_type": "stream",
     "text": [
      "14:30:45\n"
     ]
    }
   ],
   "source": [
    "# Create a time object\n",
    "time = datetime.time(14, 30, 45)\n",
    "print(time)"
   ]
  },
  {
   "cell_type": "code",
   "execution_count": 4,
   "metadata": {},
   "outputs": [
    {
     "name": "stdout",
     "output_type": "stream",
     "text": [
      "14\n",
      "30\n",
      "45\n"
     ]
    }
   ],
   "source": [
    "# Extract components\n",
    "print(time.hour)   \n",
    "print(time.minute) \n",
    "print(time.second) "
   ]
  },
  {
   "cell_type": "markdown",
   "metadata": {},
   "source": [
    "### 3. datetime.datetime\n",
    "* This class combines both date and time (year, month, day, hour, minute, second, microsecond). \n",
    "* It is used to work with complete date and time information."
   ]
  },
  {
   "cell_type": "code",
   "execution_count": 7,
   "metadata": {},
   "outputs": [
    {
     "name": "stdout",
     "output_type": "stream",
     "text": [
      "2024-09-28 14:30:45\n"
     ]
    }
   ],
   "source": [
    "dt = datetime.datetime(2024, 9, 28, 14, 30, 45)\n",
    "print(dt)"
   ]
  },
  {
   "cell_type": "code",
   "execution_count": 8,
   "metadata": {},
   "outputs": [
    {
     "name": "stdout",
     "output_type": "stream",
     "text": [
      "2024\n",
      "14\n",
      "30\n"
     ]
    }
   ],
   "source": [
    "# Extract components\n",
    "print(dt.year)   \n",
    "print(dt.hour)    \n",
    "print(dt.minute)  "
   ]
  },
  {
   "cell_type": "markdown",
   "metadata": {},
   "source": [
    "### 4. datetime.timedelta\n",
    "* This class represents a duration, i.e., the difference between two dates or times. \n",
    "* It allows for performing date arithmetic."
   ]
  },
  {
   "cell_type": "code",
   "execution_count": 13,
   "metadata": {},
   "outputs": [
    {
     "name": "stdout",
     "output_type": "stream",
     "text": [
      "7 days, 0:00:00\n"
     ]
    }
   ],
   "source": [
    "delta = datetime.timedelta(days=7)\n",
    "print(delta)"
   ]
  },
  {
   "cell_type": "code",
   "execution_count": 11,
   "metadata": {},
   "outputs": [
    {
     "name": "stdout",
     "output_type": "stream",
     "text": [
      "2024-10-04\n"
     ]
    }
   ],
   "source": [
    "# Create a date\n",
    "today = datetime.date.today()\n",
    "print(today)"
   ]
  },
  {
   "cell_type": "code",
   "execution_count": 14,
   "metadata": {},
   "outputs": [
    {
     "name": "stdout",
     "output_type": "stream",
     "text": [
      "2024-10-11\n"
     ]
    }
   ],
   "source": [
    "# Calculate a future date by adding the timedelta\n",
    "future_date = today + delta\n",
    "print(future_date)  "
   ]
  },
  {
   "cell_type": "code",
   "execution_count": 19,
   "metadata": {},
   "outputs": [
    {
     "name": "stdout",
     "output_type": "stream",
     "text": [
      "2024-09-27\n"
     ]
    }
   ],
   "source": [
    "past_date = today - delta\n",
    "print(past_date)"
   ]
  },
  {
   "cell_type": "markdown",
   "metadata": {},
   "source": [
    "### 5. datetime.now() and datetime.today()\n",
    "* datetime.now() returns the current local date and time, \n",
    "* datetime.today() also returns the current local date and time but is generally used to retrieve the date."
   ]
  },
  {
   "cell_type": "code",
   "execution_count": 20,
   "metadata": {},
   "outputs": [
    {
     "name": "stdout",
     "output_type": "stream",
     "text": [
      "2024-10-04 10:21:26.679440\n"
     ]
    }
   ],
   "source": [
    "current = datetime.datetime.now()\n",
    "print(current) "
   ]
  },
  {
   "cell_type": "code",
   "execution_count": 21,
   "metadata": {},
   "outputs": [
    {
     "name": "stdout",
     "output_type": "stream",
     "text": [
      "2024-10-04 10:21:37.835010\n"
     ]
    }
   ],
   "source": [
    "today = datetime.datetime.today()\n",
    "print(today)"
   ]
  },
  {
   "cell_type": "markdown",
   "metadata": {},
   "source": [
    "### 6. strftime() \n",
    "* strftime() is used to format date objects as strings."
   ]
  },
  {
   "cell_type": "code",
   "execution_count": 33,
   "metadata": {},
   "outputs": [
    {
     "name": "stdout",
     "output_type": "stream",
     "text": [
      "2024-10-04 10:24:37.276737\n",
      "2024-10-04 10:24:37\n"
     ]
    }
   ],
   "source": [
    "now = datetime.datetime.now()\n",
    "print(now)\n",
    "formatted_date = now.strftime(\"%Y-%m-%d %H:%M:%S\")\n",
    "print(formatted_date)"
   ]
  },
  {
   "cell_type": "code",
   "execution_count": 37,
   "metadata": {},
   "outputs": [
    {
     "data": {
      "text/plain": [
       "'10:24:37'"
      ]
     },
     "execution_count": 37,
     "metadata": {},
     "output_type": "execute_result"
    }
   ],
   "source": [
    "formatted_date = now.strftime(\"%H:%M:%S\")\n",
    "formatted_date"
   ]
  },
  {
   "cell_type": "code",
   "execution_count": 40,
   "metadata": {},
   "outputs": [
    {
     "data": {
      "text/plain": [
       "'2024-10-04'"
      ]
     },
     "execution_count": 40,
     "metadata": {},
     "output_type": "execute_result"
    }
   ],
   "source": [
    "formatted_date = now.strftime(\"%Y-%m-%d\")\n",
    "formatted_date"
   ]
  },
  {
   "cell_type": "markdown",
   "metadata": {},
   "source": [
    "### 7. strptime()\n",
    "* strptime() is used to parse strings into date objects."
   ]
  },
  {
   "cell_type": "code",
   "execution_count": 38,
   "metadata": {},
   "outputs": [
    {
     "name": "stdout",
     "output_type": "stream",
     "text": [
      "2024-09-28 14:30:45\n"
     ]
    }
   ],
   "source": [
    "date_string = \"2024-09-28 14:30:45\"\n",
    "parsed_date = datetime.datetime.strptime(date_string, \"%Y-%m-%d %H:%M:%S\")\n",
    "print(parsed_date)"
   ]
  },
  {
   "cell_type": "code",
   "execution_count": null,
   "metadata": {},
   "outputs": [],
   "source": [
    "parsed_date1 = datetime.datetime.strptime(date_string, \"%Y-%m-%d %H:%M:%S\")\n",
    "print(parsed_date1)"
   ]
  },
  {
   "cell_type": "markdown",
   "metadata": {},
   "source": [
    "### Commonly Used Format Codes for strftime and strptime:\n",
    "* %Y – Year (e.g., 2024)\n",
    "* %m – Month as a zero-padded decimal (01 to 12)\n",
    "* %d – Day of the month as a zero-padded decimal (01 to 31)\n",
    "* %H – Hour (24-hour clock)\n",
    "* %M – Minute\n",
    "* %S – Second\n",
    "<br>\n",
    "\n",
    "The datetime module is highly useful for manipulating date and time data in Python."
   ]
  }
 ],
 "metadata": {
  "kernelspec": {
   "display_name": "Python 3",
   "language": "python",
   "name": "python3"
  },
  "language_info": {
   "codemirror_mode": {
    "name": "ipython",
    "version": 3
   },
   "file_extension": ".py",
   "mimetype": "text/x-python",
   "name": "python",
   "nbconvert_exporter": "python",
   "pygments_lexer": "ipython3",
   "version": "3.12.3"
  }
 },
 "nbformat": 4,
 "nbformat_minor": 2
}
