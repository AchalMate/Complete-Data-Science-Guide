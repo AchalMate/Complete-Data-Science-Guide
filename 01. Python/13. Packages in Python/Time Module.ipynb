{
 "cells": [
  {
   "cell_type": "markdown",
   "metadata": {},
   "source": [
    "### Import module or library"
   ]
  },
  {
   "cell_type": "code",
   "execution_count": 1,
   "metadata": {},
   "outputs": [],
   "source": [
    "import time"
   ]
  },
  {
   "cell_type": "markdown",
   "metadata": {},
   "source": [
    "### 1. time()\n",
    "* Returns the number of seconds since the epoch (January 1, 1970, 00:00:00 UTC) as a floating-point number. \n",
    "* This is commonly used to measure time in seconds."
   ]
  },
  {
   "cell_type": "code",
   "execution_count": 13,
   "metadata": {},
   "outputs": [
    {
     "data": {
      "text/plain": [
       "1727506310.9432468"
      ]
     },
     "execution_count": 13,
     "metadata": {},
     "output_type": "execute_result"
    }
   ],
   "source": [
    "time.time()"
   ]
  },
  {
   "cell_type": "code",
   "execution_count": 12,
   "metadata": {},
   "outputs": [
    {
     "name": "stdout",
     "output_type": "stream",
     "text": [
      "while loop ran in 0.0\n"
     ]
    }
   ],
   "source": [
    "# Check program exceution time\n",
    "initial = time.time()\n",
    "k = 0\n",
    "while(k<100):\n",
    "    # print(\"Hello WOrld\", k)\n",
    "    k +=1\n",
    "\n",
    "print(\"while loop ran in\", time.time()-initial)\n"
   ]
  },
  {
   "cell_type": "code",
   "execution_count": 3,
   "metadata": {},
   "outputs": [
    {
     "name": "stdout",
     "output_type": "stream",
     "text": [
      "For loop ran in 0.0\n"
     ]
    }
   ],
   "source": [
    "initial2 = time.time()\n",
    "for i in range(100):\n",
    "    # print(\"Hello world\",i)\n",
    "    pass\n",
    "print(\"For loop ran in\", time.time()-initial2)"
   ]
  },
  {
   "cell_type": "markdown",
   "metadata": {},
   "source": [
    "### 2. ctime()\n",
    "* Converts a time expressed in seconds since the epoch (as returned by time()) to a human-readable string. \n",
    "* If no argument is passed, it uses the current time."
   ]
  },
  {
   "cell_type": "code",
   "execution_count": 16,
   "metadata": {},
   "outputs": [
    {
     "name": "stdout",
     "output_type": "stream",
     "text": [
      "Sat Sep 28 01:36:16 2024\n"
     ]
    }
   ],
   "source": [
    "print(time.ctime()) "
   ]
  },
  {
   "cell_type": "code",
   "execution_count": 17,
   "metadata": {},
   "outputs": [
    {
     "name": "stdout",
     "output_type": "stream",
     "text": [
      "Fri Oct  1 02:24:27 2021\n"
     ]
    }
   ],
   "source": [
    "print(time.ctime(1633035267)) "
   ]
  },
  {
   "cell_type": "markdown",
   "metadata": {},
   "source": [
    "### 3. sleep(seconds)\n",
    "* Pauses the execution of the current thread for the specified number of seconds. \n",
    "* This is useful for implementing delays."
   ]
  },
  {
   "cell_type": "code",
   "execution_count": 20,
   "metadata": {},
   "outputs": [
    {
     "name": "stdout",
     "output_type": "stream",
     "text": [
      "Start\n",
      "End\n"
     ]
    }
   ],
   "source": [
    "print(\"Start\")\n",
    "time.sleep(2)  # Pauses the execution for 2 seconds\n",
    "print(\"End\")"
   ]
  },
  {
   "cell_type": "markdown",
   "metadata": {},
   "source": [
    "### 4. gmtime([secs])\n",
    "* Converts a time expressed in seconds since the epoch (as returned by time()) to a struct_time in UTC. \n",
    "* If secs is not provided, the current time is used.\n",
    "* gmtime() returns the time in UTC (Coordinated Universal Time), also known as GMT (Greenwich Mean Time), which is the same across the globe and does not account for any time zone differences or daylight saving time (DST).\n"
   ]
  },
  {
   "cell_type": "code",
   "execution_count": 14,
   "metadata": {},
   "outputs": [
    {
     "data": {
      "text/plain": [
       "time.struct_time(tm_year=2024, tm_mon=9, tm_mday=28, tm_hour=6, tm_min=54, tm_sec=48, tm_wday=5, tm_yday=272, tm_isdst=0)"
      ]
     },
     "execution_count": 14,
     "metadata": {},
     "output_type": "execute_result"
    }
   ],
   "source": [
    "time.gmtime(time.time())"
   ]
  },
  {
   "cell_type": "markdown",
   "metadata": {},
   "source": [
    "* struct_time is a named tuple with the following attributes:\n",
    "    * tm_year - Year (e.g., 2021)\n",
    "    * tm_mon - Month (1-12)\n",
    "    * tm_mday - Day of the month (1-31)\n",
    "    * tm_hour - Hours (0-23)\n",
    "    * tm_min - Minutes (0-59)\n",
    "    * tm_sec - Seconds (0-61)\n",
    "    * tm_wday - Day of the week (0-6, Monday is 0)\n",
    "    * tm_yday - Day of the year (1-366) \n",
    "    * tm_isdst - Daylight savings (1 means DST is in effect, 0 means not)"
   ]
  },
  {
   "cell_type": "markdown",
   "metadata": {},
   "source": [
    "### 5. localtime([secs])\n",
    "* Converts a time expressed in seconds since the epoch (as returned by time()) to a struct_time in the local time zone. \n",
    "* If secs is not provided, the current time is used.\n",
    "* localtime() returns the time in the local time zone, which is specific to the machine running the code. It adjusts for the time zone and accounts for daylight saving time (if applicable)."
   ]
  },
  {
   "cell_type": "code",
   "execution_count": 15,
   "metadata": {},
   "outputs": [
    {
     "data": {
      "text/plain": [
       "time.struct_time(tm_year=2024, tm_mon=9, tm_mday=28, tm_hour=12, tm_min=26, tm_sec=53, tm_wday=5, tm_yday=272, tm_isdst=0)"
      ]
     },
     "execution_count": 15,
     "metadata": {},
     "output_type": "execute_result"
    }
   ],
   "source": [
    "time.localtime(time.time())"
   ]
  },
  {
   "cell_type": "code",
   "execution_count": 16,
   "metadata": {},
   "outputs": [
    {
     "data": {
      "text/plain": [
       "time.struct_time(tm_year=2024, tm_mon=9, tm_mday=28, tm_hour=12, tm_min=27, tm_sec=0, tm_wday=5, tm_yday=272, tm_isdst=0)"
      ]
     },
     "execution_count": 16,
     "metadata": {},
     "output_type": "execute_result"
    }
   ],
   "source": [
    "time.localtime()"
   ]
  },
  {
   "cell_type": "markdown",
   "metadata": {},
   "source": [
    "### 6. asctime()\n",
    "\n",
    "* time.asctime() is used to convert a tuple or a time.struct_time object representing a time as returned by time.gmtime() or time.localtime() method to a string \n",
    "* Converts a struct_time to a string in the form \"Day Mon DD HH:MM:SS YYYY\". If no struct_time is passed, the current time is used.\n"
   ]
  },
  {
   "cell_type": "code",
   "execution_count": 17,
   "metadata": {},
   "outputs": [
    {
     "data": {
      "text/plain": [
       "'Sat Sep 28 07:00:35 2024'"
      ]
     },
     "execution_count": 17,
     "metadata": {},
     "output_type": "execute_result"
    }
   ],
   "source": [
    "gmt = time.asctime(time.gmtime(time.time()))\n",
    "gmt"
   ]
  },
  {
   "cell_type": "code",
   "execution_count": 18,
   "metadata": {},
   "outputs": [
    {
     "data": {
      "text/plain": [
       "'Sat Sep 28 12:30:40 2024'"
      ]
     },
     "execution_count": 18,
     "metadata": {},
     "output_type": "execute_result"
    }
   ],
   "source": [
    "localtime = time.asctime(time.localtime(time.time()))\n",
    "localtime"
   ]
  },
  {
   "cell_type": "markdown",
   "metadata": {},
   "source": [
    "### 7. mktime(struct_time)\n",
    "* Converts a struct_time (as returned by localtime() or gmtime()) to seconds since the epoch. \n",
    "* This is the inverse of localtime() and gmtime()."
   ]
  },
  {
   "cell_type": "code",
   "execution_count": 20,
   "metadata": {},
   "outputs": [
    {
     "name": "stdout",
     "output_type": "stream",
     "text": [
      "Local time() output is\n",
      "time.struct_time(tm_year=2024, tm_mon=9, tm_mday=28, tm_hour=12, tm_min=32, tm_sec=9, tm_wday=5, tm_yday=272, tm_isdst=0)\n",
      "mktime () output is\n",
      "1727506929.0\n"
     ]
    }
   ],
   "source": [
    "t = time.localtime()\n",
    "print(\"Local time() output is\")\n",
    "print(t)\n",
    "seconds_since_epoch = time.mktime(t)\n",
    "print(\"mktime () output is\")\n",
    "print(seconds_since_epoch)"
   ]
  },
  {
   "cell_type": "markdown",
   "metadata": {},
   "source": [
    "### 8. strftime(format[, t])\n",
    "* Formats a struct_time as a string according to the given format. \n",
    "* If no time is provided, the current time is used. \n",
    "* strftime() is useful for creating custom date/time strings.\n",
    "\n",
    "Common Formatting Directives:\n",
    "* %Y - Year with century (e.g., 2021)\n",
    "* %m - Month (01-12)\n",
    "* %d - Day of the month (01-31)\n",
    "* %H - Hour (00-23)\n",
    "* %M - Minute (00-59)\n",
    "* %S - Second (00-59)\n",
    "* %A - Full weekday name (e.g., \"Monday\")\n",
    "* %B - Full month name (e.g., \"September\")\n",
    "* %p - AM or PM"
   ]
  },
  {
   "cell_type": "code",
   "execution_count": 25,
   "metadata": {},
   "outputs": [
    {
     "name": "stdout",
     "output_type": "stream",
     "text": [
      "2024-09-28 12:55:35\n"
     ]
    }
   ],
   "source": [
    "current_time = time.localtime()\n",
    "formatted_time = time.strftime(\"%Y-%m-%d %H:%M:%S\", current_time)\n",
    "print(formatted_time)"
   ]
  },
  {
   "cell_type": "markdown",
   "metadata": {},
   "source": [
    "### 9. strptime(string, format)\n",
    "* Parses a string representing a time according to a format and returns a struct_time.\n",
    "* This is the inverse of strftime()."
   ]
  },
  {
   "cell_type": "code",
   "execution_count": 23,
   "metadata": {},
   "outputs": [
    {
     "name": "stdout",
     "output_type": "stream",
     "text": [
      "time.struct_time(tm_year=2024, tm_mon=9, tm_mday=30, tm_hour=23, tm_min=34, tm_sec=27, tm_wday=0, tm_yday=274, tm_isdst=-1)\n"
     ]
    }
   ],
   "source": [
    "time_string = \"2024-09-30 23:34:27\"\n",
    "parsed_time = time.strptime(time_string, \"%Y-%m-%d %H:%M:%S\")\n",
    "print(parsed_time)"
   ]
  },
  {
   "cell_type": "markdown",
   "metadata": {},
   "source": [
    "### 10. monotonic()\n",
    "* Returns the monotonic clock time, which is a clock that never goes backward. \n",
    "* It's useful for measuring time intervals because it is not affected by system clock updates (like time() can be). \n",
    "* The result is in seconds since an unspecified starting point."
   ]
  },
  {
   "cell_type": "code",
   "execution_count": 26,
   "metadata": {},
   "outputs": [
    {
     "name": "stdout",
     "output_type": "stream",
     "text": [
      "Elapsed time: 2.0 seconds\n"
     ]
    }
   ],
   "source": [
    "start_time = time.monotonic()\n",
    "time.sleep(2)  # Simulating a delay\n",
    "end_time = time.monotonic()\n",
    "print(f\"Elapsed time: {end_time - start_time} seconds\") "
   ]
  },
  {
   "cell_type": "code",
   "execution_count": 27,
   "metadata": {},
   "outputs": [
    {
     "name": "stdout",
     "output_type": "stream",
     "text": [
      "Elapsed time: 2.0159999999996217 seconds\n"
     ]
    }
   ],
   "source": [
    "start_time = time.monotonic()\n",
    "time.sleep(2)  # Simulating a delay\n",
    "end_time = time.monotonic()\n",
    "print(f\"Elapsed time: {end_time - start_time} seconds\") "
   ]
  },
  {
   "cell_type": "markdown",
   "metadata": {},
   "source": [
    "11. perf_counter()\n",
    "* Returns the performance counter time, which is a high-resolution timer with greater accuracy than time(). \n",
    "* It is intended for benchmarking and precise time measurements. \n",
    "* It includes time spent during sleep."
   ]
  },
  {
   "cell_type": "code",
   "execution_count": 28,
   "metadata": {},
   "outputs": [
    {
     "name": "stdout",
     "output_type": "stream",
     "text": [
      "Elapsed time: 1.0013386999999057 seconds\n"
     ]
    }
   ],
   "source": [
    "start = time.perf_counter()\n",
    "time.sleep(1)\n",
    "end = time.perf_counter()\n",
    "print(f\"Elapsed time: {end - start} seconds\")"
   ]
  },
  {
   "cell_type": "markdown",
   "metadata": {},
   "source": [
    "### 12. process_time()\n",
    "* Returns the CPU time used by the current process. \n",
    "* It excludes time spent sleeping or waiting for system events and is primarily used for benchmarking the CPU time of a process."
   ]
  },
  {
   "cell_type": "code",
   "execution_count": 30,
   "metadata": {},
   "outputs": [
    {
     "name": "stdout",
     "output_type": "stream",
     "text": [
      "CPU time used: 0.0 seconds\n"
     ]
    }
   ],
   "source": [
    "start = time.process_time()\n",
    "# Some CPU-intensive task\n",
    "end = time.process_time()\n",
    "print(f\"CPU time used: {end - start} seconds\")"
   ]
  },
  {
   "cell_type": "markdown",
   "metadata": {},
   "source": [
    "### 13. time_ns()\n",
    "* Returns the current time in nanoseconds since the epoch as an integer.  \n",
    "* This is useful for very precise time measurements."
   ]
  },
  {
   "cell_type": "code",
   "execution_count": 31,
   "metadata": {},
   "outputs": [
    {
     "name": "stdout",
     "output_type": "stream",
     "text": [
      "1727508796729183100\n"
     ]
    }
   ],
   "source": [
    "print(time.time_ns())  "
   ]
  },
  {
   "cell_type": "code",
   "execution_count": null,
   "metadata": {},
   "outputs": [],
   "source": []
  }
 ],
 "metadata": {
  "kernelspec": {
   "display_name": "Python 3",
   "language": "python",
   "name": "python3"
  },
  "language_info": {
   "codemirror_mode": {
    "name": "ipython",
    "version": 3
   },
   "file_extension": ".py",
   "mimetype": "text/x-python",
   "name": "python",
   "nbconvert_exporter": "python",
   "pygments_lexer": "ipython3",
   "version": "3.12.3"
  }
 },
 "nbformat": 4,
 "nbformat_minor": 2
}
