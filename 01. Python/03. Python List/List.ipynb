{
 "cells": [
  {
   "cell_type": "markdown",
   "id": "c90829dc",
   "metadata": {},
   "source": [
    "* Lists are used to store multiple items in a single variable.It is a sequence data type which is used to store the collection of data.\n",
    "* List items are ordered, changeable, and allow duplicate values.\n",
    "* A single list may contain DataTypes like Integers, Strings, as well as Objects. Lists are mutable, and hence, they can be altered -add, and remove items in a list even after their creation.\n",
    "* List is defined within a square bracket and values are separated by a comma\n",
    "* Like any other data type, the index of list starts from 0 only\n",
    "* You can have duplicate entries in a list as well"
   ]
  },
  {
   "cell_type": "markdown",
   "id": "7daf5bfa",
   "metadata": {},
   "source": [
    "### Creating a list"
   ]
  },
  {
   "cell_type": "code",
   "execution_count": 1,
   "id": "c796151e",
   "metadata": {},
   "outputs": [
    {
     "name": "stdout",
     "output_type": "stream",
     "text": [
      "Blank List: \n",
      "[]\n"
     ]
    }
   ],
   "source": [
    "# Creating a List\n",
    "List = []\n",
    "print(\"Blank List: \")\n",
    "print(List)"
   ]
  },
  {
   "cell_type": "code",
   "execution_count": 2,
   "id": "caebda56",
   "metadata": {},
   "outputs": [
    {
     "name": "stdout",
     "output_type": "stream",
     "text": [
      "\n",
      "List of numbers: \n",
      "[10, 20, 14]\n"
     ]
    }
   ],
   "source": [
    "# Creating a List of numbers\n",
    "List = [10, 20, 14]\n",
    "print(\"\\nList of numbers: \")\n",
    "print(List)"
   ]
  },
  {
   "cell_type": "code",
   "execution_count": 3,
   "id": "ca288fb9",
   "metadata": {},
   "outputs": [
    {
     "name": "stdout",
     "output_type": "stream",
     "text": [
      "\n",
      "List Items: \n",
      "['Python', 'For', 'Data', 'Science']\n"
     ]
    }
   ],
   "source": [
    "# Creating a List of strings\n",
    "List = [\"Python\", \"For\", \"Data\",\"Science\"]\n",
    "print(\"\\nList Items: \")\n",
    "print(List)\n"
   ]
  },
  {
   "cell_type": "code",
   "execution_count": 4,
   "id": "0bcb06c0",
   "metadata": {},
   "outputs": [
    {
     "name": "stdout",
     "output_type": "stream",
     "text": [
      "List with the use of Numbers: \n",
      "[1, 2, 4, 4, 3, 3, 3, 6, 5]\n"
     ]
    }
   ],
   "source": [
    "# Creating a List with the use of Numbers (Having duplicate values)\n",
    "List = [1, 2, 4, 4, 3, 3, 3, 6, 5]\n",
    "print(\"List with the use of Numbers: \")\n",
    "print(List)"
   ]
  },
  {
   "cell_type": "code",
   "execution_count": 5,
   "id": "0d6eba1a",
   "metadata": {},
   "outputs": [
    {
     "name": "stdout",
     "output_type": "stream",
     "text": [
      "\n",
      "List with the use of Mixed Values: \n",
      "[1, 'Python', 3, 'For', 'Data', 'Science']\n"
     ]
    }
   ],
   "source": [
    "# Creating a List with mixed type of values (Having numbers and strings)\n",
    "List = [1, \"Python\",3,\"For\", \"Data\",\"Science\"]\n",
    "print(\"\\nList with the use of Mixed Values: \")\n",
    "print(List)"
   ]
  },
  {
   "cell_type": "markdown",
   "id": "eefca816",
   "metadata": {},
   "source": [
    "### Accessing elements from the List"
   ]
  },
  {
   "cell_type": "markdown",
   "id": "cb374955",
   "metadata": {},
   "source": [
    "* In order to access the list items refer to the index number.\n",
    "* List items are indexed, the first item has index [0], the second item has index [1] etc.\n",
    "* Nested lists are accessed using nested indexing. "
   ]
  },
  {
   "cell_type": "code",
   "execution_count": 6,
   "id": "24aaaae0",
   "metadata": {},
   "outputs": [
    {
     "name": "stdout",
     "output_type": "stream",
     "text": [
      "1\n",
      "Python\n"
     ]
    }
   ],
   "source": [
    "List = [1, \"Python\",3,\"For\", \"Data\",\"Science\"]\n",
    "print(List[0])\n",
    "print(List[1])"
   ]
  },
  {
   "cell_type": "code",
   "execution_count": 7,
   "id": "aec52285",
   "metadata": {},
   "outputs": [
    {
     "name": "stdout",
     "output_type": "stream",
     "text": [
      "['Science']\n",
      "[1, 'Python', 3, 'For', 'Data']\n"
     ]
    }
   ],
   "source": [
    "print(List[5:])\n",
    "print(List[:5])"
   ]
  },
  {
   "cell_type": "code",
   "execution_count": 8,
   "id": "5f343e58",
   "metadata": {},
   "outputs": [
    {
     "name": "stdout",
     "output_type": "stream",
     "text": [
      "['For', 'Data', 'Science']\n",
      "[1, 'Python', 3]\n"
     ]
    }
   ],
   "source": [
    "print(List[-3:])\n",
    "print(List[:-3])"
   ]
  },
  {
   "cell_type": "code",
   "execution_count": 9,
   "id": "6645fda2",
   "metadata": {},
   "outputs": [
    {
     "name": "stdout",
     "output_type": "stream",
     "text": [
      "['Science', 'Data', 'For', 3, 'Python', 1]\n"
     ]
    }
   ],
   "source": [
    "print(List[::-1])"
   ]
  },
  {
   "cell_type": "code",
   "execution_count": 10,
   "id": "28a8c9ac",
   "metadata": {},
   "outputs": [
    {
     "name": "stdout",
     "output_type": "stream",
     "text": [
      "[['Python', 'For'], ['Data'], 2]\n"
     ]
    }
   ],
   "source": [
    "# Creating a Multi-Dimensional List (By Nesting a list inside a List)\n",
    "l1= [['Python', 'For'], ['Data'],2]\n",
    "print(l1)"
   ]
  },
  {
   "cell_type": "code",
   "execution_count": 11,
   "id": "987c4d30",
   "metadata": {},
   "outputs": [
    {
     "name": "stdout",
     "output_type": "stream",
     "text": [
      "Accessing a element from a Multi-Dimensional list\n",
      "For\n",
      "Data\n",
      "['Data']\n"
     ]
    }
   ],
   "source": [
    "print(\"Accessing a element from a Multi-Dimensional list\")\n",
    "print(l1[0][1])\n",
    "print(l1[1][0])\n",
    "print(l1[1])"
   ]
  },
  {
   "cell_type": "markdown",
   "id": "3e067f1d",
   "metadata": {},
   "source": [
    "### List Functions"
   ]
  },
  {
   "cell_type": "markdown",
   "id": "f6dc4b8b",
   "metadata": {},
   "source": [
    "1. len()\n",
    "* len() is used to get the length of the list."
   ]
  },
  {
   "cell_type": "code",
   "execution_count": 13,
   "id": "fcebc8e2",
   "metadata": {},
   "outputs": [
    {
     "name": "stdout",
     "output_type": "stream",
     "text": [
      "0\n",
      "3\n"
     ]
    }
   ],
   "source": [
    "# Creating a List\n",
    "List1 = []\n",
    "print(len(List1))\n",
    "\n",
    "# Creating a List of numbers\n",
    "nums = [10, 20, 14]\n",
    "print(len(nums))"
   ]
  },
  {
   "cell_type": "markdown",
   "id": "70f389c5",
   "metadata": {},
   "source": [
    "2. append():\n",
    "    * Elements can be added to the List by using the built-in append() function. \n",
    "    * Only one element at a time can be added to the list by using the append() method, for the addition of multiple elements with the append() method, loops are used. \n",
    "     * Tuples can also be added to the list with the use of the append method because tuples are immutable."
   ]
  },
  {
   "cell_type": "code",
   "execution_count": 14,
   "id": "6fad2b7f",
   "metadata": {},
   "outputs": [
    {
     "name": "stdout",
     "output_type": "stream",
     "text": [
      "nums [10, 20, 14]\n",
      "nums after append [10, 20, 14, 35]\n"
     ]
    }
   ],
   "source": [
    "print(\"nums\",nums)\n",
    "nums.append(35)\n",
    "print(\"nums after append\",nums)"
   ]
  },
  {
   "cell_type": "code",
   "execution_count": 15,
   "id": "571915ec",
   "metadata": {},
   "outputs": [
    {
     "name": "stdout",
     "output_type": "stream",
     "text": [
      "List after Addition of elements: \n",
      "[10, 20, 14, 35, 21, 22, 23]\n"
     ]
    }
   ],
   "source": [
    "# Adding elements to the List using Iterator\n",
    "for i in range(21, 24):\n",
    "    nums.append(i)\n",
    "print(\"List after Addition of elements: \")\n",
    "print(nums )"
   ]
  },
  {
   "cell_type": "code",
   "execution_count": 16,
   "id": "e8416e8e",
   "metadata": {},
   "outputs": [
    {
     "name": "stdout",
     "output_type": "stream",
     "text": [
      "\n",
      "List after Addition of a Tuple: \n",
      "[10, 20, 14, 35, 21, 22, 23, (5, 6)]\n"
     ]
    }
   ],
   "source": [
    "# Adding Tuples to the List\n",
    "nums.append((5, 6))\n",
    "print(\"\\nList after Addition of a Tuple: \")\n",
    "print(nums)"
   ]
  },
  {
   "cell_type": "code",
   "execution_count": 17,
   "id": "e79b5ce1",
   "metadata": {},
   "outputs": [
    {
     "name": "stdout",
     "output_type": "stream",
     "text": [
      "\n",
      "List after Addition of a List: \n",
      "[10, 20, 14, 35, 21, 22, 23, (5, 6), [45, 76]]\n"
     ]
    }
   ],
   "source": [
    "# Adding list to the List\n",
    "nums.append([45, 76])\n",
    "print(\"\\nList after Addition of a List: \")\n",
    "print(nums)"
   ]
  },
  {
   "cell_type": "markdown",
   "id": "978f817a",
   "metadata": {},
   "source": [
    "3. insert()\n",
    "* Adds an element at the specified position\n",
    "* the insert() method requires two arguments(position, value)"
   ]
  },
  {
   "cell_type": "code",
   "execution_count": 18,
   "id": "3e8fd21b",
   "metadata": {},
   "outputs": [
    {
     "name": "stdout",
     "output_type": "stream",
     "text": [
      "Initial List:  [10, 20, 14, 35, 21, 22, 23, (5, 6), [45, 76]]\n",
      "List after performing Insert Operation: \n",
      "[10, 20, 14, 100, 35, 21, 22, 23, (5, 6), [45, 76]]\n"
     ]
    }
   ],
   "source": [
    "print(\"Initial List: \",nums)\n",
    "\n",
    "\n",
    "# Addition of Element at specific Position\n",
    "nums.insert(3, 100)\n",
    "print(\"List after performing Insert Operation: \")\n",
    "print(nums)"
   ]
  },
  {
   "cell_type": "markdown",
   "id": "eb046e93",
   "metadata": {},
   "source": [
    "4. extend()\n",
    "* Add the elements of a list (or any iterable/multiple elements), to the end of the current list"
   ]
  },
  {
   "cell_type": "code",
   "execution_count": 19,
   "id": "ecd78bb1",
   "metadata": {},
   "outputs": [
    {
     "name": "stdout",
     "output_type": "stream",
     "text": [
      "List after performing Extend Operation: \n",
      "[8, 'Python', 'world']\n"
     ]
    }
   ],
   "source": [
    "# Addition of multiple elements to the List at the end\n",
    "chars = []\n",
    "chars.extend([8, 'Python', 'world'])\n",
    "print(\"List after performing Extend Operation: \")\n",
    "print(chars)"
   ]
  },
  {
   "cell_type": "markdown",
   "id": "7b5d3e9c",
   "metadata": {},
   "source": [
    "5. copy()\n",
    "* Returns a copy of the list"
   ]
  },
  {
   "cell_type": "code",
   "execution_count": 20,
   "id": "078b7310",
   "metadata": {},
   "outputs": [
    {
     "name": "stdout",
     "output_type": "stream",
     "text": [
      "[8, 'Python', 'world']\n"
     ]
    }
   ],
   "source": [
    "chars_1 = chars.copy()\n",
    "print(chars_1)"
   ]
  },
  {
   "cell_type": "markdown",
   "id": "5f6f5772",
   "metadata": {},
   "source": [
    "6. count()\n",
    "* Returns the number of elements with the specified value"
   ]
  },
  {
   "cell_type": "code",
   "execution_count": 21,
   "id": "86c9d832",
   "metadata": {},
   "outputs": [
    {
     "data": {
      "text/plain": [
       "1"
      ]
     },
     "execution_count": 21,
     "metadata": {},
     "output_type": "execute_result"
    }
   ],
   "source": [
    "nums.count(20)"
   ]
  },
  {
   "cell_type": "markdown",
   "id": "afd528b3",
   "metadata": {},
   "source": [
    "7. index()\n",
    "* Returns the index of the first element with the specified value"
   ]
  },
  {
   "cell_type": "code",
   "execution_count": 22,
   "id": "c29d33a0",
   "metadata": {},
   "outputs": [
    {
     "data": {
      "text/plain": [
       "5"
      ]
     },
     "execution_count": 22,
     "metadata": {},
     "output_type": "execute_result"
    }
   ],
   "source": [
    "nums.index(21)"
   ]
  },
  {
   "cell_type": "markdown",
   "id": "6ca28be3",
   "metadata": {},
   "source": [
    "8. reverse()\n",
    "* Reverses the order of the list"
   ]
  },
  {
   "cell_type": "code",
   "execution_count": 23,
   "id": "e0ae97a5",
   "metadata": {},
   "outputs": [
    {
     "name": "stdout",
     "output_type": "stream",
     "text": [
      "List before reversal is  [10, 20, 14, 100, 35, 21, 22, 23, (5, 6), [45, 76]]\n",
      "List after reversal [[45, 76], (5, 6), 23, 22, 21, 35, 100, 14, 20, 10]\n"
     ]
    }
   ],
   "source": [
    "print(\"List before reversal is \",nums)\n",
    "nums.reverse()\n",
    "print(\"List after reversal\",nums)"
   ]
  },
  {
   "cell_type": "markdown",
   "id": "7754a79c",
   "metadata": {},
   "source": [
    "8. pop()\n",
    "* pop() function can also be used to remove and return an element from the list, but by default it removes only the last element of the list.\n",
    "* To remove an element from a specific position of the List, the index of the element is passed as an argument to the pop() method."
   ]
  },
  {
   "cell_type": "code",
   "execution_count": 24,
   "id": "9dfe1b24",
   "metadata": {},
   "outputs": [
    {
     "data": {
      "text/plain": [
       "10"
      ]
     },
     "execution_count": 24,
     "metadata": {},
     "output_type": "execute_result"
    }
   ],
   "source": [
    "nums.pop()"
   ]
  },
  {
   "cell_type": "code",
   "execution_count": 25,
   "id": "83efece3",
   "metadata": {},
   "outputs": [
    {
     "data": {
      "text/plain": [
       "[45, 76]"
      ]
     },
     "execution_count": 25,
     "metadata": {},
     "output_type": "execute_result"
    }
   ],
   "source": [
    "nums.pop(0)"
   ]
  },
  {
   "cell_type": "code",
   "execution_count": 26,
   "id": "f3abd4c3",
   "metadata": {},
   "outputs": [
    {
     "data": {
      "text/plain": [
       "(5, 6)"
      ]
     },
     "execution_count": 26,
     "metadata": {},
     "output_type": "execute_result"
    }
   ],
   "source": [
    "nums.pop(0)"
   ]
  },
  {
   "cell_type": "markdown",
   "id": "825cf09f",
   "metadata": {},
   "source": [
    "9. Remove()\n",
    "* Remove method in List will only remove the first occurrence of the searched element.\n",
    "* Elements can be removed from the List by using the built-in remove() function but an Error arises if the element doesn’t exist in the list. \n",
    "* Remove() method only removes one element at a time, to remove a range of elements, the iterator is used. "
   ]
  },
  {
   "cell_type": "code",
   "execution_count": 27,
   "id": "b8461ba3",
   "metadata": {},
   "outputs": [
    {
     "name": "stdout",
     "output_type": "stream",
     "text": [
      "[23, 22, 21, 35, 100, 14, 20]\n"
     ]
    }
   ],
   "source": [
    "print(nums)"
   ]
  },
  {
   "cell_type": "code",
   "execution_count": 28,
   "id": "03f4f2e4",
   "metadata": {},
   "outputs": [],
   "source": [
    "nums.remove(100)"
   ]
  },
  {
   "cell_type": "code",
   "execution_count": 29,
   "id": "c011aec0",
   "metadata": {},
   "outputs": [
    {
     "data": {
      "text/plain": [
       "[23, 22, 21, 35, 14, 20]"
      ]
     },
     "execution_count": 29,
     "metadata": {},
     "output_type": "execute_result"
    }
   ],
   "source": [
    "nums"
   ]
  },
  {
   "cell_type": "markdown",
   "id": "6d9439f9",
   "metadata": {},
   "source": [
    "10. sort()\n",
    "* Sorts the list"
   ]
  },
  {
   "cell_type": "code",
   "execution_count": 30,
   "id": "409236e9",
   "metadata": {},
   "outputs": [
    {
     "name": "stdout",
     "output_type": "stream",
     "text": [
      "List before sorting is  [23, 22, 21, 35, 14, 20]\n",
      "List after sorting [14, 20, 21, 22, 23, 35]\n"
     ]
    }
   ],
   "source": [
    "print(\"List before sorting is \",nums)\n",
    "nums.sort()\n",
    "print(\"List after sorting\",nums)"
   ]
  },
  {
   "cell_type": "code",
   "execution_count": 32,
   "id": "4a1aad3b",
   "metadata": {},
   "outputs": [
    {
     "name": "stdout",
     "output_type": "stream",
     "text": [
      "List before sorting is  ['cherry', 'orange', 'apple', 'banana']\n",
      "List after sorting ['orange', 'cherry', 'banana', 'apple']\n"
     ]
    }
   ],
   "source": [
    "# Sort the list in decending order\n",
    "fruits = ['cherry','orange','apple', 'banana']\n",
    "print(\"List before sorting is \",fruits)\n",
    "fruits.sort(reverse = True)\n",
    "print(\"List after sorting\",fruits)"
   ]
  },
  {
   "cell_type": "markdown",
   "id": "6e2f46e7",
   "metadata": {},
   "source": [
    "11. clear()\n",
    "* Removes all the elements from the list"
   ]
  },
  {
   "cell_type": "code",
   "execution_count": 33,
   "id": "f2657161",
   "metadata": {},
   "outputs": [
    {
     "name": "stdout",
     "output_type": "stream",
     "text": [
      "[]\n"
     ]
    }
   ],
   "source": [
    "nums.clear()\n",
    "print(nums)"
   ]
  },
  {
   "cell_type": "code",
   "execution_count": 34,
   "id": "e8e5947f",
   "metadata": {},
   "outputs": [
    {
     "name": "stdout",
     "output_type": "stream",
     "text": [
      "List before applying del keyword ['orange', 'cherry', 'banana', 'apple']\n",
      "List after apply del keyword ['orange']\n"
     ]
    }
   ],
   "source": [
    "print(\"List before applying del keyword\",fruits)\n",
    "del fruits[1:]\n",
    "print(\"List after apply del keyword\",fruits)"
   ]
  },
  {
   "cell_type": "markdown",
   "id": "41884821",
   "metadata": {},
   "source": [
    "### Mathematical operation on numeric list"
   ]
  },
  {
   "cell_type": "code",
   "execution_count": 35,
   "id": "6f01c82d",
   "metadata": {},
   "outputs": [
    {
     "name": "stdout",
     "output_type": "stream",
     "text": [
      "List is  [29, 12, 36, 34, 67, 98]\n"
     ]
    }
   ],
   "source": [
    "num2 = [29,12,36,34,67,98]\n",
    "print(\"List is \",num2)"
   ]
  },
  {
   "cell_type": "code",
   "execution_count": 38,
   "id": "44969c8d",
   "metadata": {},
   "outputs": [
    {
     "name": "stdout",
     "output_type": "stream",
     "text": [
      "Min = 12\n",
      "Max = 98\n",
      "Sum = 276\n"
     ]
    }
   ],
   "source": [
    "print(\"Min =\",min(num2))\n",
    "print(\"Max =\",max(num2))\n",
    "print(\"Sum =\",sum(num2))\n"
   ]
  },
  {
   "cell_type": "code",
   "execution_count": 39,
   "id": "78894645",
   "metadata": {},
   "outputs": [],
   "source": [
    "list1 = [\"apple\", \"banana\", \"cherry\"]\n",
    "list2 = [1, 5, 7, 9, 3]\n",
    "list3 = [True, False, False]"
   ]
  },
  {
   "cell_type": "markdown",
   "id": "41034629",
   "metadata": {},
   "source": [
    "### The list() Constructor\n",
    "* It is also possible to use the list() constructor when creating a new list."
   ]
  },
  {
   "cell_type": "code",
   "execution_count": 42,
   "id": "b51ee9f2",
   "metadata": {},
   "outputs": [
    {
     "name": "stdout",
     "output_type": "stream",
     "text": [
      "['apple', 'banana', 'cherry']\n"
     ]
    }
   ],
   "source": [
    "fruits1 = list((\"apple\", \"banana\", \"cherry\")) # note the double round-brackets\n",
    "print(fruits1)"
   ]
  },
  {
   "cell_type": "markdown",
   "id": "108ee646",
   "metadata": {},
   "source": [
    "### Change List Items"
   ]
  },
  {
   "cell_type": "markdown",
   "id": "bb0f3e36",
   "metadata": {},
   "source": [
    "#### 1. Change Item Value\n",
    "* To change the value of a specific item, refer to the index number:"
   ]
  },
  {
   "cell_type": "code",
   "execution_count": 43,
   "id": "7877a883",
   "metadata": {},
   "outputs": [
    {
     "name": "stdout",
     "output_type": "stream",
     "text": [
      "Original List is  ['apple', 'banana', 'cherry']\n",
      "After change list is  ['apple', 'blackcurrant', 'cherry']\n"
     ]
    }
   ],
   "source": [
    "print(\"Original List is \",fruits1)\n",
    "fruits1[1] = \"blackcurrant\"\n",
    "\n",
    "print(\"After change list is \",fruits1)"
   ]
  },
  {
   "cell_type": "markdown",
   "id": "7941a487",
   "metadata": {},
   "source": [
    "2. Change a Range of Item Values\n",
    "* To change the value of items within a specific range, define a list with the new values, and refer to the range of index numbers where you want to insert the new values:"
   ]
  },
  {
   "cell_type": "code",
   "execution_count": 44,
   "id": "ff1b41f8",
   "metadata": {},
   "outputs": [
    {
     "name": "stdout",
     "output_type": "stream",
     "text": [
      "After change list is  ['apple', 'blackcurrant', 'watermelon', 'orange', 'kiwi', 'mango']\n"
     ]
    }
   ],
   "source": [
    "fruits = [\"apple\", \"banana\", \"cherry\", \"orange\", \"kiwi\", \"mango\"]\n",
    "fruits[1:3] = [\"blackcurrant\", \"watermelon\"]\n",
    "print(\"After change list is \",fruits)"
   ]
  },
  {
   "cell_type": "code",
   "execution_count": 45,
   "id": "b5467e5e",
   "metadata": {},
   "outputs": [
    {
     "name": "stdout",
     "output_type": "stream",
     "text": [
      "['apple', 'watermelon']\n"
     ]
    }
   ],
   "source": [
    "list2 = [\"apple\", \"banana\", \"cherry\"]\n",
    "\n",
    "list2[1:3] = [\"watermelon\"]\n",
    "\n",
    "print(list2)\n"
   ]
  },
  {
   "cell_type": "markdown",
   "id": "c0281090",
   "metadata": {},
   "source": [
    "* If you insert less items than you replace, the new items will be inserted where you specified, and the remaining items will move accordingly.\n",
    "* The length of the list will change when the number of items inserted does not match the number of items replaced."
   ]
  },
  {
   "cell_type": "markdown",
   "id": "1ab284aa",
   "metadata": {},
   "source": [
    "### Loop Lists"
   ]
  },
  {
   "cell_type": "markdown",
   "id": "8a42e018",
   "metadata": {},
   "source": [
    "### 1. Loop Through a List\n",
    "* You can loop through the list items by using a for loop:\n",
    "\n"
   ]
  },
  {
   "cell_type": "code",
   "execution_count": 46,
   "id": "e4fafa59",
   "metadata": {},
   "outputs": [
    {
     "name": "stdout",
     "output_type": "stream",
     "text": [
      "1\n",
      "5\n",
      "7\n",
      "9\n",
      "3\n"
     ]
    }
   ],
   "source": [
    "list1 = [1, 5, 7, 9, 3]\n",
    "for x in list1:\n",
    "    print(x)"
   ]
  },
  {
   "cell_type": "markdown",
   "id": "7cea1c0d",
   "metadata": {},
   "source": [
    "#### 2. Loop Through the Index Numbers\n",
    "* You can also loop through the list items by referring to their index number.\n",
    "* Use the range() and len() functions to create a suitable iterable."
   ]
  },
  {
   "cell_type": "code",
   "execution_count": 47,
   "id": "8324c54d",
   "metadata": {},
   "outputs": [
    {
     "name": "stdout",
     "output_type": "stream",
     "text": [
      "1\n",
      "5\n",
      "7\n",
      "9\n",
      "3\n"
     ]
    }
   ],
   "source": [
    "for i in range(len(list1)):\n",
    "    print(list1[i])"
   ]
  },
  {
   "cell_type": "markdown",
   "id": "396e53b2",
   "metadata": {},
   "source": [
    "### List Comprehension"
   ]
  },
  {
   "cell_type": "markdown",
   "id": "be9d0338",
   "metadata": {},
   "source": [
    "* Python List comprehensions are used for creating new lists from other iterables like tuples, strings, arrays, lists, etc. \n",
    "* List comprehension offers a shorter syntax when you want to create a new list based on the values of an existing list.\n",
    "* A list comprehension consists of brackets containing the expression, which is executed for each element along with the for loop to iterate over each element.\n",
    "\n",
    "* Syntax:\n",
    "    * newList = [ expression(element) for element in oldList if condition ]\n",
    "    \n",
    "    * Parameters:\n",
    "        * Expression: Expression that is used to modify each item in the statement\n",
    "        * Item: The element in the iterable\n",
    "        * List: An iterable object"
   ]
  },
  {
   "cell_type": "code",
   "execution_count": 48,
   "id": "0af16aee",
   "metadata": {},
   "outputs": [
    {
     "name": "stdout",
     "output_type": "stream",
     "text": [
      "Actual List is  [1, 5, 7, 9, 3]\n"
     ]
    }
   ],
   "source": [
    "print(\"Actual List is \",list1)"
   ]
  },
  {
   "cell_type": "markdown",
   "id": "bd4fe167",
   "metadata": {},
   "source": [
    "### Some Examples when to used list comprehensions:"
   ]
  },
  {
   "cell_type": "markdown",
   "id": "ac226e73",
   "metadata": {},
   "source": [
    "#### 1. Creating a Transformed List\n",
    "* When  function or operation applied to each element in a list and store the results in a new list."
   ]
  },
  {
   "cell_type": "code",
   "execution_count": 49,
   "id": "e321fa7f",
   "metadata": {},
   "outputs": [
    {
     "name": "stdout",
     "output_type": "stream",
     "text": [
      "New List(Square of Items) [1, 25, 49, 81, 9]\n"
     ]
    }
   ],
   "source": [
    "sqr = [i**2 for i in list1]\n",
    "print(\"New List(Square of Items)\",sqr)"
   ]
  },
  {
   "cell_type": "markdown",
   "id": "c24bcd7e",
   "metadata": {},
   "source": [
    "#### 2. Filtering a List\n",
    "* When you want to create a new list that contains only the elements that satisfy a certain condition."
   ]
  },
  {
   "cell_type": "code",
   "execution_count": 50,
   "id": "478d00f8",
   "metadata": {},
   "outputs": [
    {
     "name": "stdout",
     "output_type": "stream",
     "text": [
      "[1, 9, 25, 49, 81]\n"
     ]
    }
   ],
   "source": [
    "# odd numbers from range 1 to 10\n",
    "odd_square = [x ** 2 for x in range(1, 11) if x % 2 == 1]\n",
    "print(odd_square)"
   ]
  },
  {
   "cell_type": "code",
   "execution_count": 51,
   "id": "8b0e13b9",
   "metadata": {},
   "outputs": [
    {
     "name": "stdout",
     "output_type": "stream",
     "text": [
      "['apple', 'banana', 'mango']\n"
     ]
    }
   ],
   "source": [
    "fruits = [\"apple\", \"banana\", \"cherry\", \"kiwi\", \"mango\"]\n",
    "newlist = [x for x in fruits if \"a\" in x]\n",
    "\n",
    "print(newlist)"
   ]
  },
  {
   "cell_type": "markdown",
   "id": "e65cc9ab",
   "metadata": {},
   "source": [
    "#### 3. Combining Multiple Iterables\n",
    "* When you want to create a new list based on combinations of elements from multiple iterables.\n"
   ]
  },
  {
   "cell_type": "code",
   "execution_count": 53,
   "id": "a9c32ecb",
   "metadata": {},
   "outputs": [
    {
     "name": "stdout",
     "output_type": "stream",
     "text": [
      "[('a', 1), ('a', 2), ('a', 3), ('b', 1), ('b', 2), ('b', 3), ('c', 1), ('c', 2), ('c', 3)]\n"
     ]
    }
   ],
   "source": [
    "letters = ['a', 'b', 'c']\n",
    "numbers = [1, 2, 3]\n",
    "combined = [(letter, number) for letter in letters for number in numbers]\n",
    "print(combined)"
   ]
  },
  {
   "cell_type": "code",
   "execution_count": 54,
   "id": "8ec98559",
   "metadata": {},
   "outputs": [
    {
     "name": "stdout",
     "output_type": "stream",
     "text": [
      "\n",
      "Multiplication Table\n",
      "[5, 1, 5]\n",
      "[5, 2, 10]\n",
      "[5, 3, 15]\n",
      "[5, 4, 20]\n",
      "[5, 5, 25]\n",
      "[5, 6, 30]\n",
      "[5, 7, 35]\n",
      "[5, 8, 40]\n",
      "[5, 9, 45]\n",
      "[5, 10, 50]\n"
     ]
    }
   ],
   "source": [
    "# A list of list for multiplication table  \n",
    "a = 5\n",
    "table = [[a, b, a * b] for b in range(1, 11)]  \n",
    "   \n",
    "print(\"\\nMultiplication Table\")  \n",
    "for i in table:  \n",
    "    print (i)"
   ]
  },
  {
   "cell_type": "markdown",
   "id": "c6e34598",
   "metadata": {},
   "source": [
    "#### 4. Flattening a Nested List\n",
    "* When you have a list of lists (a nested list) and you want to create a single flattened list."
   ]
  },
  {
   "cell_type": "markdown",
   "id": "008d877d",
   "metadata": {},
   "source": [
    "Syntax: new_list = [[expression for item in list] for item in list]"
   ]
  },
  {
   "cell_type": "code",
   "execution_count": 55,
   "id": "6e8f4708",
   "metadata": {},
   "outputs": [
    {
     "name": "stdout",
     "output_type": "stream",
     "text": [
      "[[0, 1, 2, 3, 4], [0, 1, 2, 3, 4], [0, 1, 2, 3, 4], [0, 1, 2, 3, 4], [0, 1, 2, 3, 4]]\n"
     ]
    }
   ],
   "source": [
    "#matrix of 5 elemnts\n",
    "matrix = [[j for j in range(5)] for i in range(5)]\n",
    "print(matrix)"
   ]
  },
  {
   "cell_type": "code",
   "execution_count": 56,
   "id": "549188e6",
   "metadata": {},
   "outputs": [
    {
     "name": "stdout",
     "output_type": "stream",
     "text": [
      "[1, 3, 5, 7, 9]\n"
     ]
    }
   ],
   "source": [
    "matrix = [[1, 2, 3], [4, 5, 6], [7, 8, 9]]\n",
    " \n",
    "odd_numbers = [element for row in matrix for element in row if element % 2 != 0]\n",
    " \n",
    "print(odd_numbers)"
   ]
  },
  {
   "cell_type": "code",
   "execution_count": 57,
   "id": "b5618b4e",
   "metadata": {},
   "outputs": [
    {
     "name": "stdout",
     "output_type": "stream",
     "text": [
      "[1, 2, 3, 4, 5, 6]\n"
     ]
    }
   ],
   "source": [
    "nested_list = [[1, 2], [3, 4], [5, 6]]\n",
    "flat_list = [item for sublist in nested_list for item in sublist]\n",
    "print(flat_list)\n"
   ]
  },
  {
   "cell_type": "markdown",
   "id": "759397a6",
   "metadata": {},
   "source": [
    "#### 5. Mapping Functions to a List\n",
    "* When you want to apply a function to every element of a list."
   ]
  },
  {
   "cell_type": "code",
   "execution_count": 67,
   "id": "2e3c6a19",
   "metadata": {},
   "outputs": [
    {
     "name": "stdout",
     "output_type": "stream",
     "text": [
      "['HELLO', 'WORLD']\n"
     ]
    }
   ],
   "source": [
    "words = ['hello', 'world']\n",
    "capitalized_words = [word.upper() for word in words]\n",
    "print(capitalized_words)\n"
   ]
  },
  {
   "cell_type": "markdown",
   "id": "3b2b7614",
   "metadata": {},
   "source": [
    "#### Why Use List Comprehension?\n",
    "* Conciseness: It reduces the amount of code needed to create lists.\n",
    "* Readability: It can make your code more readable, as it expresses the intention in a single line.\n",
    "* Performance: It is often faster than using a traditional for loop to create a list because it's optimized for this purpose."
   ]
  },
  {
   "cell_type": "markdown",
   "id": "f9deeb7e",
   "metadata": {},
   "source": [
    "### Join Two Lists"
   ]
  },
  {
   "cell_type": "code",
   "execution_count": 64,
   "id": "3384b0a3",
   "metadata": {},
   "outputs": [
    {
     "name": "stdout",
     "output_type": "stream",
     "text": [
      "['a', 'b', 'c', 1, 2, 3]\n"
     ]
    }
   ],
   "source": [
    "list1 = [\"a\", \"b\", \"c\"]\n",
    "list2 = [1, 2, 3]\n",
    "\n",
    "list3 = list1 + list2\n",
    "print(list3)"
   ]
  },
  {
   "cell_type": "code",
   "execution_count": 65,
   "id": "1faf7f5c",
   "metadata": {},
   "outputs": [
    {
     "name": "stdout",
     "output_type": "stream",
     "text": [
      "Concatenated list using naive method : [1, 2, 3, 'a', 'b', 'c']\n"
     ]
    }
   ],
   "source": [
    "# using naive method to concat\n",
    "for i in list1 :\n",
    "    list2.append(i)\n",
    "\n",
    "print (\"Concatenated list using naive method : \"+ str(list2))"
   ]
  },
  {
   "cell_type": "markdown",
   "id": "47be261b",
   "metadata": {},
   "source": [
    "### Concatinate two list"
   ]
  },
  {
   "cell_type": "code",
   "execution_count": 66,
   "id": "e0344806",
   "metadata": {},
   "outputs": [
    {
     "name": "stdout",
     "output_type": "stream",
     "text": [
      "The original list 1 is : ['appl', 'i', 'be']\n",
      "The original list 2 is : ['e', 's', 'st']\n",
      "The list after element concatenation is : ['apple', 'is', 'best']\n"
     ]
    }
   ],
   "source": [
    "test_list1 = [\"appl\", \"i\", \"be\"]\n",
    "test_list2 = ['e', 's', 'st']\n",
    "\n",
    "print (\"The original list 1 is : \" + str(test_list1))\n",
    "print (\"The original list 2 is : \" + str(test_list2))\n",
    "\n",
    "# using list comprehension + zip()\n",
    "# interlist element concatenation\n",
    "res = [i + j for i, j in zip(test_list1, test_list2)]\n",
    "\n",
    "# printing result \n",
    "print (\"The list after element concatenation is : \" + str(res))\n"
   ]
  },
  {
   "cell_type": "code",
   "execution_count": null,
   "id": "7f579eaa",
   "metadata": {},
   "outputs": [],
   "source": []
  }
 ],
 "metadata": {
  "kernelspec": {
   "display_name": "Python 3 (ipykernel)",
   "language": "python",
   "name": "python3"
  },
  "language_info": {
   "codemirror_mode": {
    "name": "ipython",
    "version": 3
   },
   "file_extension": ".py",
   "mimetype": "text/x-python",
   "name": "python",
   "nbconvert_exporter": "python",
   "pygments_lexer": "ipython3",
   "version": "3.12.3"
  }
 },
 "nbformat": 4,
 "nbformat_minor": 5
}
