{
 "cells": [
  {
   "cell_type": "markdown",
   "id": "7b4f58ca-2a94-4449-802e-485338273b15",
   "metadata": {},
   "source": [
    "### Import numpy"
   ]
  },
  {
   "cell_type": "code",
   "execution_count": 1,
   "id": "00493b89-7451-4568-ac46-e1dfdf781646",
   "metadata": {},
   "outputs": [],
   "source": [
    "import numpy as np"
   ]
  },
  {
   "cell_type": "code",
   "execution_count": 3,
   "id": "fa9f04e0-c501-44a2-9aa6-72b287031e74",
   "metadata": {},
   "outputs": [
    {
     "data": {
      "text/plain": [
       "'2.2.1'"
      ]
     },
     "execution_count": 3,
     "metadata": {},
     "output_type": "execute_result"
    }
   ],
   "source": [
    "np.__version__"
   ]
  },
  {
   "cell_type": "markdown",
   "id": "e097dafa-6cff-4ea1-ab32-0327bb97f2f6",
   "metadata": {},
   "source": [
    "### Array creation\n",
    "There are 6 general mechanisms for creating arrays:\n",
    "1. Conversion from other Python structures (i.e. lists and tuples)\n",
    "2. Intrinsic NumPy array creation functions (e.g. arange, ones, zeros, etc.)\n",
    "3. Replicating, joining, or mutating existing arrays\n",
    "4. Reading arrays from disk, either from standard or custom formats\n",
    "5. Creating arrays from raw bytes through the use of strings or buffers\n",
    "6. Use of special library functions (e.g., random)"
   ]
  },
  {
   "cell_type": "markdown",
   "id": "a8829e29-955d-45e0-bcd0-dc4c3c872cfd",
   "metadata": {},
   "source": [
    "#### 1) Converting Python sequences to NumPy arrays\n",
    "* NumPy arrays can be defined using Python sequences such as lists and tuples.\n",
    "* Lists and tuples can define ndarray creation:\n",
    "* list of numbers will create a 1D array.\n",
    "* list of lists will create a 2D array.\n",
    "* further nested lists will create higher-dimensional arrays."
   ]
  },
  {
   "cell_type": "code",
   "execution_count": 5,
   "id": "9cb2528d-a6a0-4bf0-a186-409a65b5e0c7",
   "metadata": {},
   "outputs": [
    {
     "name": "stdout",
     "output_type": "stream",
     "text": [
      "One Dimensional array\n",
      " [1 2 3 4]\n",
      "Two Dimensional array\n",
      " [[1 2]\n",
      " [3 4]]\n",
      "Three Dimensional array\n",
      " [[[1 2]\n",
      "  [3 4]]\n",
      "\n",
      " [[5 6]\n",
      "  [7 8]]]\n"
     ]
    }
   ],
   "source": [
    "a1D = np.array([1, 2, 3, 4])\n",
    "a2D = np.array([[1, 2], [3, 4]])\n",
    "a3D = np.array([[[1, 2], [3, 4]], [[5, 6], [7, 8]]])\n",
    "print(\"One Dimensional array\\n\",a1D)\n",
    "print(\"Two Dimensional array\\n\",a2D)\n",
    "print(\"Three Dimensional array\\n\",a3D)"
   ]
  },
  {
   "cell_type": "markdown",
   "id": "5414fbe7-745f-4dd1-b7d9-9687e6656ae6",
   "metadata": {},
   "source": [
    "####  dtype\n",
    "* When you use numpy.array to define a new array, you should consider the dtype of the elements in the array, which can be specified explicitly.\n",
    "* This feature gives you more control over the underlying data structures"
   ]
  },
  {
   "cell_type": "code",
   "execution_count": 9,
   "id": "c71cb0bd-a27c-4917-b8a1-e11577216ccb",
   "metadata": {},
   "outputs": [
    {
     "name": "stdout",
     "output_type": "stream",
     "text": [
      "[127 128 129]\n",
      "<class 'numpy.ndarray'>\n"
     ]
    }
   ],
   "source": [
    "import numpy as np\n",
    "d = np.array([127, 128, 129], dtype=np.int16)\n",
    "print(d)\n",
    "print(type(d))"
   ]
  },
  {
   "cell_type": "markdown",
   "id": "90c7ddc1-0223-4a0b-9387-64da8e2e6be1",
   "metadata": {},
   "source": [
    "### Creating of array with the help of tuple"
   ]
  },
  {
   "cell_type": "code",
   "execution_count": 12,
   "id": "9eedead0-a6a2-4d70-9f64-8ea5148d50b8",
   "metadata": {},
   "outputs": [
    {
     "name": "stdout",
     "output_type": "stream",
     "text": [
      "From tuple: [5 6 7]\n"
     ]
    }
   ],
   "source": [
    "arr_from_tuple = np.array((5, 6, 7), dtype=np.int16)\n",
    "print(\"From tuple:\", arr_from_tuple)"
   ]
  },
  {
   "cell_type": "markdown",
   "id": "8460b965-caf3-45d4-a3d5-f45e66a0c2da",
   "metadata": {},
   "source": [
    "### 2) Intrinsic NumPy array creation functions\n",
    "* NumPy has over 40 built-in functions for creating arrays as laid out in the Array creation routines.\n",
    "* These functions can be split into roughly three categories, based on the dimension of the array they create:\n",
    "    * 1D arrays\n",
    "    * 2D arrays\n",
    "    * ndarrays"
   ]
  },
  {
   "cell_type": "markdown",
   "id": "2248d094-c9cc-464f-885a-cc40ffa277fd",
   "metadata": {},
   "source": [
    "### A. 1D Array\n",
    "#### 1. numpy.arange\n",
    "* This function creates an array with regularly spaced values, similar to Python’s built-in range() function, but it returns a NumPy array\n",
    "* Syntax : np.arange([start, ]stop, [step, ], dtype=None)\r\n"
   ]
  },
  {
   "cell_type": "code",
   "execution_count": 14,
   "id": "41915817-9ed6-4a9b-a7a6-30199edc4e26",
   "metadata": {},
   "outputs": [
    {
     "name": "stdout",
     "output_type": "stream",
     "text": [
      "[0 1 2 3 4 5 6 7 8 9]\n",
      "[1 3 5 7 9]\n",
      "[0.  0.2 0.4 0.6 0.8]\n"
     ]
    }
   ],
   "source": [
    "arr1 = np.arange(10)\n",
    "print(arr1)  \n",
    "arr2 = np.arange(1, 10, 2)\n",
    "print(arr2) \n",
    "arr3 = np.arange(0, 1, 0.2)\n",
    "print(arr3)"
   ]
  },
  {
   "cell_type": "markdown",
   "id": "27ee8506-cbc6-4acf-a807-34f9b0370196",
   "metadata": {},
   "source": [
    "#### 2. numpy.linspace \n",
    "* This function creates an array with evenly spaced values over a specified range.\n",
    "* Unlike np.arange(), you specify the number of samples you want, and NumPy will calculate the spacing for you.\n",
    "* Syntax: np.linspace(start, stop, num=50, endpoint=True, retstep=False, dtype=None)\r",
    "    - The function numpy.linspace(start, stop, num=50, endpoint=True, ...):\n",
    "\n",
    "    * start: The starting value of the sequence.\n",
    "    * stop: The ending value of the sequence.\n",
    "    * num: Number of samples to generate.\n",
    "    * endpoint=True: If True (default), stop is included.\n"
   ]
  },
  {
   "cell_type": "code",
   "execution_count": 56,
   "id": "17ba524f-5127-460a-aea7-be8c14babb5b",
   "metadata": {},
   "outputs": [
    {
     "name": "stdout",
     "output_type": "stream",
     "text": [
      "[ 0.   2.5  5.   7.5 10. ]\n",
      "[1.         1.66666667 2.33333333 3.        ]\n",
      "[-1.  -0.6 -0.2  0.2  0.6  1. ]\n"
     ]
    }
   ],
   "source": [
    "arr1 = np.linspace(0, 10, 5)\n",
    "print(arr1)  \n",
    "arr2 = np.linspace(1, 3, 4)\n",
    "print(arr2)  \n",
    "arr3 = np.linspace(-1, 1, 6)\n",
    "print(arr3) \n"
   ]
  },
  {
   "cell_type": "markdown",
   "id": "375e37cd-5302-4eb0-81fb-48a86da27daf",
   "metadata": {},
   "source": [
    "### 3. numpy.logspace\n",
    "* The numpy.logspace() function is used to create an array of numbers that are spaced evenly on a logarithmic scale.\n",
    "* This is particularly useful when you need to generate numbers for scientific or engineering applications where data spans multiple orders of magnitude (like in logarithmic plots, frequency analysis, or when working with powers of 10).\n",
    "* syntax  : numpy.logspace(start, stop, num=50, endpoint=True, base=10.0, dtype=None, axis=0)\n"
   ]
  },
  {
   "cell_type": "code",
   "execution_count": 63,
   "id": "0ba67725-73fb-4215-88ef-09e07f24c3fa",
   "metadata": {},
   "outputs": [
    {
     "name": "stdout",
     "output_type": "stream",
     "text": [
      "[  10.           31.6227766   100.          316.22776602 1000.        ]\n",
      "[ 2.          3.48220225  6.06286627 10.55606329 18.37917368 32.        ]\n",
      "[ 1.          3.16227766 10.         31.6227766 ]\n"
     ]
    }
   ],
   "source": [
    "# Generate 5 numbers between 10^1 (10) and 10^3 (1000) spaced evenly on a logarithmic scale:\n",
    "arr = np.logspace(1, 3, num=5)\n",
    "print(arr)\n",
    "# Generate 6 numbers between 2^1(2) and 2^5(32) with a base of 2\n",
    "arr = np.logspace(1, 5, num=6, base=2)\n",
    "print(arr)\n",
    "# Generate 4 numbers between 10^0(1) and 10^2 (100), excluding the endpoint:\n",
    "arr = np.logspace(0, 2, num=4, endpoint=False)\n",
    "print(arr)\n"
   ]
  },
  {
   "cell_type": "code",
   "execution_count": 75,
   "id": "9eb300b0-d266-41ab-aff1-80fa9934c6b8",
   "metadata": {},
   "outputs": [
    {
     "data": {
      "text/plain": [
       "1.741101125"
      ]
     },
     "execution_count": 75,
     "metadata": {},
     "output_type": "execute_result"
    }
   ],
   "source": [
    "3.48220225/2"
   ]
  },
  {
   "cell_type": "markdown",
   "id": "654eacbc-db4b-41f6-8f77-05a40f017440",
   "metadata": {},
   "source": [
    "### 2 - 2D array creation functions\n",
    "#### 1. np.ones()\n",
    "* Creates an array filled with 1s.\n",
    "* Syntax: np.ones(shape, dtype=None)\n",
    "\n",
    "    *  shape --\tTuple representing array dimensions\n",
    "    *  dtype --\tData type (default = float64)"
   ]
  },
  {
   "cell_type": "code",
   "execution_count": 28,
   "id": "3c6079ee-162a-4133-be0f-469b26dbfa96",
   "metadata": {},
   "outputs": [
    {
     "data": {
      "text/plain": [
       "array([1., 1., 1.])"
      ]
     },
     "execution_count": 28,
     "metadata": {},
     "output_type": "execute_result"
    }
   ],
   "source": [
    "np.ones(3)  "
   ]
  },
  {
   "cell_type": "code",
   "execution_count": 30,
   "id": "6382a46a-a149-47f2-bb1a-b5f6902ea89a",
   "metadata": {},
   "outputs": [
    {
     "data": {
      "text/plain": [
       "array([[1., 1., 1.],\n",
       "       [1., 1., 1.]])"
      ]
     },
     "execution_count": 30,
     "metadata": {},
     "output_type": "execute_result"
    }
   ],
   "source": [
    "np.ones((2, 3))   "
   ]
  },
  {
   "cell_type": "code",
   "execution_count": 32,
   "id": "2e80b33b-a200-4aa3-85bb-09e1a25cd78b",
   "metadata": {},
   "outputs": [
    {
     "data": {
      "text/plain": [
       "array([[1, 1, 1],\n",
       "       [1, 1, 1],\n",
       "       [1, 1, 1]])"
      ]
     },
     "execution_count": 32,
     "metadata": {},
     "output_type": "execute_result"
    }
   ],
   "source": [
    "np.ones((3, 3), int)"
   ]
  },
  {
   "cell_type": "markdown",
   "id": "55064475-857e-4e80-bbff-321717b582ca",
   "metadata": {},
   "source": [
    "#### 2. np.zeros():\n",
    "* Creates an array filled with 0s.The default dtype is float64:\n",
    "* np.zeros(shape, dtype=None)\n",
    "    * shape -- Tuple of dimensions\n",
    "    * dtype\t-- Data type (default = float64)"
   ]
  },
  {
   "cell_type": "code",
   "execution_count": 35,
   "id": "5fdc507c-e66e-4d3b-9024-70565262929b",
   "metadata": {},
   "outputs": [
    {
     "data": {
      "text/plain": [
       "array([0., 0., 0., 0.])"
      ]
     },
     "execution_count": 35,
     "metadata": {},
     "output_type": "execute_result"
    }
   ],
   "source": [
    "np.zeros(4)  "
   ]
  },
  {
   "cell_type": "code",
   "execution_count": 37,
   "id": "38d0b3bb-51c3-421c-beab-1ebb9aac8c6d",
   "metadata": {},
   "outputs": [
    {
     "data": {
      "text/plain": [
       "array([[0., 0., 0.],\n",
       "       [0., 0., 0.]])"
      ]
     },
     "execution_count": 37,
     "metadata": {},
     "output_type": "execute_result"
    }
   ],
   "source": [
    "np.zeros((2, 3))"
   ]
  },
  {
   "cell_type": "code",
   "execution_count": 41,
   "id": "13c3a422-3980-4b82-b57e-666fa85ab2de",
   "metadata": {},
   "outputs": [
    {
     "data": {
      "text/plain": [
       "array([[0],\n",
       "       [0],\n",
       "       [0]])"
      ]
     },
     "execution_count": 41,
     "metadata": {},
     "output_type": "execute_result"
    }
   ],
   "source": [
    "np.zeros((3, 1), int)"
   ]
  },
  {
   "cell_type": "markdown",
   "id": "3db69a4b-e4e7-46a9-bf0d-171b935da87d",
   "metadata": {},
   "source": [
    "#### 3. np.eye()\n",
    "* Creates a 2D identity matrix, with 1s on the diagonal and 0s elsewhere.The elements where i=j (row index and column index are equal) are 1 and the rest are 0\n",
    "* Syntax : np.eye(N, M=None, k=0, dtype=float)\n",
    "     * N -- \tNumber of rows\n",
    "    * M --\tNumber of columns (default = N)\n",
    "    * k --\tIndex of diagonal (0 = main, +1 = above, -1 = below)"
   ]
  },
  {
   "cell_type": "code",
   "execution_count": 47,
   "id": "99219e21-b4a2-4759-aac4-be9bbfeffada",
   "metadata": {},
   "outputs": [
    {
     "data": {
      "text/plain": [
       "array([[1., 0., 0.],\n",
       "       [0., 1., 0.],\n",
       "       [0., 0., 1.]])"
      ]
     },
     "execution_count": 47,
     "metadata": {},
     "output_type": "execute_result"
    }
   ],
   "source": [
    "np.eye(3)"
   ]
  },
  {
   "cell_type": "code",
   "execution_count": 49,
   "id": "23470957-68c3-46f0-84bc-a44160b087cb",
   "metadata": {},
   "outputs": [
    {
     "data": {
      "text/plain": [
       "array([[1., 0., 0., 0., 0.],\n",
       "       [0., 1., 0., 0., 0.],\n",
       "       [0., 0., 1., 0., 0.]])"
      ]
     },
     "execution_count": 49,
     "metadata": {},
     "output_type": "execute_result"
    }
   ],
   "source": [
    "np.eye(3, 5)"
   ]
  },
  {
   "cell_type": "code",
   "execution_count": 53,
   "id": "81cee4ad-9575-45e2-95cc-14d2b52a7d9f",
   "metadata": {},
   "outputs": [
    {
     "data": {
      "text/plain": [
       "array([[0., 0., 0.],\n",
       "       [1., 0., 0.],\n",
       "       [0., 1., 0.]])"
      ]
     },
     "execution_count": 53,
     "metadata": {},
     "output_type": "execute_result"
    }
   ],
   "source": [
    "np.eye(3, k=-1)  "
   ]
  },
  {
   "cell_type": "code",
   "execution_count": 55,
   "id": "8bf3b901-dda7-4b50-9d92-b9672216c8c6",
   "metadata": {},
   "outputs": [
    {
     "data": {
      "text/plain": [
       "array([[0., 0., 0., 0., 0.],\n",
       "       [1., 0., 0., 0., 0.],\n",
       "       [0., 1., 0., 0., 0.],\n",
       "       [0., 0., 1., 0., 0.],\n",
       "       [0., 0., 0., 1., 0.]])"
      ]
     },
     "execution_count": 55,
     "metadata": {},
     "output_type": "execute_result"
    }
   ],
   "source": [
    "np.eye(5, k=-1)  "
   ]
  },
  {
   "cell_type": "code",
   "execution_count": 57,
   "id": "74c2d3d1-c265-42bd-b78f-79d025c109bb",
   "metadata": {},
   "outputs": [
    {
     "data": {
      "text/plain": [
       "array([[0., 1., 0., 0., 0.],\n",
       "       [0., 0., 1., 0., 0.],\n",
       "       [0., 0., 0., 1., 0.],\n",
       "       [0., 0., 0., 0., 1.],\n",
       "       [0., 0., 0., 0., 0.]])"
      ]
     },
     "execution_count": 57,
     "metadata": {},
     "output_type": "execute_result"
    }
   ],
   "source": [
    "np.eye(5, k=1)  "
   ]
  },
  {
   "cell_type": "code",
   "execution_count": 59,
   "id": "7f62da3d-2312-443c-82b6-8027eb156ffc",
   "metadata": {},
   "outputs": [
    {
     "data": {
      "text/plain": [
       "array([[1., 0., 0., 0., 0.],\n",
       "       [0., 1., 0., 0., 0.],\n",
       "       [0., 0., 1., 0., 0.],\n",
       "       [0., 0., 0., 1., 0.],\n",
       "       [0., 0., 0., 0., 1.]])"
      ]
     },
     "execution_count": 59,
     "metadata": {},
     "output_type": "execute_result"
    }
   ],
   "source": [
    "np.eye(5, k=0)  "
   ]
  },
  {
   "cell_type": "markdown",
   "id": "fc603d1c-8584-4f7f-ada5-b0ed48b9f26e",
   "metadata": {},
   "source": [
    "#### 4.numpy.diag\n",
    "* Extract a diagonal or construct a diagonal array.\n",
    "    * Extracts a diagonal from a matrix,\n",
    "    * Creates a diagonal matrix from a 1D array.\n",
    "* Syntax :- np.diag(v, k=0)\n",
    "    * v -- 1D or 2D array-like\n",
    "          ->  If v is a 2-D array, return a copy of its k-th diagonal(Extract).If v is a 1-D array, return a 2-D array with v on the k-th diagonal(Creates).\n",
    "    * k\t-- Diagonal offset (default = 0)\n",
    "    * k=0: main diagonal, k>0: above, k<0: below\n",
    "      "
   ]
  },
  {
   "cell_type": "markdown",
   "id": "5915e0ff-d169-4216-8cfc-bf5704be87e5",
   "metadata": {},
   "source": [
    "##### 1: Create diagonal matrix from vector"
   ]
  },
  {
   "cell_type": "code",
   "execution_count": 72,
   "id": "f029a421-e1e4-4b2f-8e74-7a6b1652f3a5",
   "metadata": {},
   "outputs": [
    {
     "data": {
      "text/plain": [
       "array([[1, 0, 0],\n",
       "       [0, 2, 0],\n",
       "       [0, 0, 3]])"
      ]
     },
     "execution_count": 72,
     "metadata": {},
     "output_type": "execute_result"
    }
   ],
   "source": [
    "np.diag([1, 2, 3])"
   ]
  },
  {
   "cell_type": "code",
   "execution_count": 74,
   "id": "250921b0-71c9-4099-b872-71eb19a46ad7",
   "metadata": {},
   "outputs": [
    {
     "data": {
      "text/plain": [
       "array([[0, 1, 0, 0],\n",
       "       [0, 0, 2, 0],\n",
       "       [0, 0, 0, 3],\n",
       "       [0, 0, 0, 0]])"
      ]
     },
     "execution_count": 74,
     "metadata": {},
     "output_type": "execute_result"
    }
   ],
   "source": [
    "np.diag([1, 2, 3], 1)"
   ]
  },
  {
   "cell_type": "code",
   "execution_count": 79,
   "id": "d1d96643-7f13-4e5f-b9ce-b6e297b58d50",
   "metadata": {},
   "outputs": [
    {
     "data": {
      "text/plain": [
       "array([[0, 0, 0, 0],\n",
       "       [1, 0, 0, 0],\n",
       "       [0, 2, 0, 0],\n",
       "       [0, 0, 3, 0]])"
      ]
     },
     "execution_count": 79,
     "metadata": {},
     "output_type": "execute_result"
    }
   ],
   "source": [
    "np.diag([1, 2, 3], -1)"
   ]
  },
  {
   "cell_type": "markdown",
   "id": "d6644f84-6e8c-4c12-b7c2-e96cc82902f4",
   "metadata": {},
   "source": [
    "##### 2: Extract diagonal matrix from vector"
   ]
  },
  {
   "cell_type": "code",
   "execution_count": 83,
   "id": "c8665d37-a11b-4847-b17c-705b703bc4de",
   "metadata": {},
   "outputs": [
    {
     "data": {
      "text/plain": [
       "array([[0, 1, 2],\n",
       "       [3, 4, 5],\n",
       "       [6, 7, 8]])"
      ]
     },
     "execution_count": 83,
     "metadata": {},
     "output_type": "execute_result"
    }
   ],
   "source": [
    "x = np.arange(9).reshape((3,3))\n",
    "x"
   ]
  },
  {
   "cell_type": "code",
   "execution_count": 85,
   "id": "d2e0fb22-a076-4079-81c5-4e32990b5117",
   "metadata": {},
   "outputs": [
    {
     "data": {
      "text/plain": [
       "array([0, 4, 8])"
      ]
     },
     "execution_count": 85,
     "metadata": {},
     "output_type": "execute_result"
    }
   ],
   "source": [
    "np.diag(x)"
   ]
  },
  {
   "cell_type": "markdown",
   "id": "5ee59ddf-cc0c-4637-9669-871c3d108501",
   "metadata": {},
   "source": [
    "#### 5 vander(x, n) \n",
    "* Defines a Vandermonde matrix as a 2D NumPy array. \n",
    "* Each column of the Vandermonde matrix is a decreasing power of the input 1D array or list or tuple, x where the highest polynomial order is n-1. \n",
    "* This array creation routine is helpful in generating linear least squares models, polynomial fitting and linear algebra.\n",
    "* Syntax - np.vander(x, N=None, increasing=False)\n",
    "* | Parameter    | Description                                                  |\n",
    "| ------------ | ------------------------------------------------------------ |\n",
    "| `x`          | 1D input array                                               |\n",
    "| `N`          | Number of columns in output (default = len(x))               |\n",
    "| `increasing` | Order of powers (default = `False`, i.e., decreasing powers) |\n"
   ]
  },
  {
   "cell_type": "markdown",
   "id": "ba7cca88-c199-4e91-b37e-76ca45ad0a9e",
   "metadata": {},
   "source": [
    "#### Vander Monde Matrix\n",
    "A Vandermonde matrix is a special type of matrix where each row is a geometric progression of the input vector elements.\n",
    "\n",
    "Formally, given a 1D array:\n",
    "\n",
    "* x = [x₁, x₂, x₃, ..., xₙ]\n",
    "* V[i, j] = x[i] ** (N - j - 1)    (default decreasing powers)\n",
    "Example:-\n",
    "* Input: [1, 2, 3]\n",
    "* Each row is: [x**2, x**1, x**0] → [x², x, 1]\n",
    "       \n",
    "        Row 1: 1², 1, 1\n",
    "        \n",
    "        Row 2: 2², 2, 1\n",
    "        \n",
    "        Row 3: 3², 3, 1"
   ]
  },
  {
   "cell_type": "markdown",
   "id": "b17b10c4-dc48-4194-b49b-23b44cbb79bf",
   "metadata": {},
   "source": [
    "#####  1: Default Vandermonde matrix (decreasing powers)"
   ]
  },
  {
   "cell_type": "code",
   "execution_count": 95,
   "id": "85d6ecb9-ce54-47b9-bdf0-b8719e0b2ee9",
   "metadata": {},
   "outputs": [
    {
     "data": {
      "text/plain": [
       "array([[1, 1, 1],\n",
       "       [4, 2, 1],\n",
       "       [9, 3, 1]])"
      ]
     },
     "execution_count": 95,
     "metadata": {},
     "output_type": "execute_result"
    }
   ],
   "source": [
    "np.vander([1, 2, 3])"
   ]
  },
  {
   "cell_type": "markdown",
   "id": "12d6f1b7-fdbd-48e5-9ce6-e4a470e7bf10",
   "metadata": {},
   "source": [
    "##### 2: Increasing power order"
   ]
  },
  {
   "cell_type": "code",
   "execution_count": 98,
   "id": "74a0c228-3a09-4ae1-a9b1-0e06de7162a1",
   "metadata": {},
   "outputs": [
    {
     "data": {
      "text/plain": [
       "array([[1, 1, 1],\n",
       "       [1, 2, 4],\n",
       "       [1, 3, 9]])"
      ]
     },
     "execution_count": 98,
     "metadata": {},
     "output_type": "execute_result"
    }
   ],
   "source": [
    "np.vander([1, 2, 3], increasing=True)"
   ]
  },
  {
   "cell_type": "markdown",
   "id": "4463589b-b381-4006-b5b8-7e4a7e6fdab0",
   "metadata": {},
   "source": [
    "##### 3: Specify number of columns"
   ]
  },
  {
   "cell_type": "code",
   "execution_count": 101,
   "id": "53821f97-32e5-496c-8c63-2cdd19cb2d74",
   "metadata": {},
   "outputs": [
    {
     "data": {
      "text/plain": [
       "array([[ 1,  1,  1,  1],\n",
       "       [ 8,  4,  2,  1],\n",
       "       [27,  9,  3,  1]])"
      ]
     },
     "execution_count": 101,
     "metadata": {},
     "output_type": "execute_result"
    }
   ],
   "source": [
    "np.vander([1, 2, 3], N=4)"
   ]
  },
  {
   "cell_type": "code",
   "execution_count": 269,
   "id": "a432980b-4b91-4bbb-bb0b-a966c65d0990",
   "metadata": {},
   "outputs": [
    {
     "name": "stdout",
     "output_type": "stream",
     "text": [
      "[[7 7]\n",
      " [7 7]]\n"
     ]
    }
   ],
   "source": [
    "print(np.full((2, 2), 7))"
   ]
  },
  {
   "cell_type": "markdown",
   "id": "f48a9f6f-5d04-4d32-bcbe-05beff7da0dd",
   "metadata": {},
   "source": [
    "### 3) Replicating, joining, or mutating existing arrays"
   ]
  },
  {
   "cell_type": "markdown",
   "id": "61e2454f-7eb3-4e01-8ee6-c9c27e68338a",
   "metadata": {},
   "source": [
    "Once you have created arrays, you can replicate, join, or mutate those existing arrays to create new arrays. When you assign an array or its elements to a new variable, you have to explicitly numpy.copy the array, otherwise the variable is a view into the original array."
   ]
  },
  {
   "cell_type": "markdown",
   "id": "7eb284e7-e629-4cca-b5d6-461e82bcaacc",
   "metadata": {},
   "source": [
    "#### 1. np.tile() \n",
    "* Replicates an array along specified axes to form a larger array — like repeating a pattern.\n",
    "* Syntax --  np.tile(A, reps)\n",
    "* | Parameter | Description                                          |\n",
    "| --------- | ---------------------------------------------------- |\n",
    "| `A`       | Input array                                          |\n",
    "| `reps`    | Number of repetitions along each axis (int or tuple) |\n",
    "\n"
   ]
  },
  {
   "cell_type": "markdown",
   "id": "d3ab12a4-0932-4a41-bd9a-c85e79e9c831",
   "metadata": {},
   "source": [
    "#### 1: Repeat 1D array"
   ]
  },
  {
   "cell_type": "code",
   "execution_count": 116,
   "id": "8f1c322d-b0fc-4450-b3e0-0fffe71bd424",
   "metadata": {},
   "outputs": [
    {
     "data": {
      "text/plain": [
       "array([1, 2, 1, 2, 1, 2])"
      ]
     },
     "execution_count": 116,
     "metadata": {},
     "output_type": "execute_result"
    }
   ],
   "source": [
    "np.tile([1, 2], 3)"
   ]
  },
  {
   "cell_type": "markdown",
   "id": "3b2817ca-29f8-4439-b663-abc5de2ebe60",
   "metadata": {},
   "source": [
    "#### 2: Repeat a 2D array along rows and columns\n",
    "\n"
   ]
  },
  {
   "cell_type": "code",
   "execution_count": 119,
   "id": "6feaafc8-cb27-4865-ab1b-971b377456e8",
   "metadata": {},
   "outputs": [
    {
     "data": {
      "text/plain": [
       "array([[1, 2, 1, 2, 1, 2],\n",
       "       [3, 4, 3, 4, 3, 4],\n",
       "       [1, 2, 1, 2, 1, 2],\n",
       "       [3, 4, 3, 4, 3, 4]])"
      ]
     },
     "execution_count": 119,
     "metadata": {},
     "output_type": "execute_result"
    }
   ],
   "source": [
    "a = np.array([[1, 2], [3, 4]])\n",
    "np.tile(a, (2, 3))"
   ]
  },
  {
   "cell_type": "markdown",
   "id": "aba2a6b9-2b59-4118-b0b7-ea83094b1ad3",
   "metadata": {},
   "source": [
    "#### 3: Single-axis repetition"
   ]
  },
  {
   "cell_type": "code",
   "execution_count": 126,
   "id": "80c64214-11e2-4714-9042-dd76394cd2df",
   "metadata": {},
   "outputs": [
    {
     "data": {
      "text/plain": [
       "array([[1, 2],\n",
       "       [1, 2],\n",
       "       [1, 2]])"
      ]
     },
     "execution_count": 126,
     "metadata": {},
     "output_type": "execute_result"
    }
   ],
   "source": [
    "np.tile([[1, 2]], (3, 1))"
   ]
  },
  {
   "cell_type": "markdown",
   "id": "9f5e227a-acb6-41e5-a678-5fa6fe45728a",
   "metadata": {},
   "source": [
    "#### 2. np.concatenate()\n",
    "* Joins two or more arrays along an existing axis (row-wise or column-wise).\n",
    "* Syntax - np.concatenate((a1, a2, ...), axis=0)\n",
    "* | Parameter    | Description                                    |\n",
    "| ------------ | ---------------------------------------------- |\n",
    "| `a1, a2,...` | Tuple of arrays                                |\n",
    "| `axis`       | Axis to concatenate on (0 = rows, 1 = columns) |\n"
   ]
  },
  {
   "cell_type": "markdown",
   "id": "3fd0941b-c534-418d-86cd-653b85da0f73",
   "metadata": {},
   "source": [
    "##### 1: Concatenate 1D arrays"
   ]
  },
  {
   "cell_type": "code",
   "execution_count": 131,
   "id": "837e99e0-90bc-471e-ac92-1daeb7bddfc4",
   "metadata": {},
   "outputs": [
    {
     "data": {
      "text/plain": [
       "array([1, 2, 3, 4])"
      ]
     },
     "execution_count": 131,
     "metadata": {},
     "output_type": "execute_result"
    }
   ],
   "source": [
    "np.concatenate(([1, 2], [3, 4]))"
   ]
  },
  {
   "cell_type": "code",
   "execution_count": 135,
   "id": "e2bd968f-f6e4-4f1b-b545-772b1612cd36",
   "metadata": {},
   "outputs": [
    {
     "data": {
      "text/plain": [
       "array(['1', '2', '3', '4'], dtype='<U1')"
      ]
     },
     "execution_count": 135,
     "metadata": {},
     "output_type": "execute_result"
    }
   ],
   "source": [
    "np.concatenate((['1', '2'], ['3', '4']))"
   ]
  },
  {
   "cell_type": "code",
   "execution_count": 143,
   "id": "6e0b4a81-01bd-4b69-9185-f48f47b63406",
   "metadata": {},
   "outputs": [
    {
     "data": {
      "text/plain": [
       "array(['1', '2', '3', '4'], dtype='<U21')"
      ]
     },
     "execution_count": 143,
     "metadata": {},
     "output_type": "execute_result"
    }
   ],
   "source": [
    "np.concatenate((['1', '2'], [3, 4]))"
   ]
  },
  {
   "cell_type": "markdown",
   "id": "801c24e0-2966-49d3-8759-0b93c55513d2",
   "metadata": {},
   "source": [
    "##### 2: Concatenate 2D arrays row-wise"
   ]
  },
  {
   "cell_type": "code",
   "execution_count": 149,
   "id": "5f039c5d-5b53-4975-aa54-b9876b9c4415",
   "metadata": {},
   "outputs": [
    {
     "data": {
      "text/plain": [
       "array([[1, 2, 3, 4]])"
      ]
     },
     "execution_count": 149,
     "metadata": {},
     "output_type": "execute_result"
    }
   ],
   "source": [
    "a = np.array([[1, 2]])\n",
    "b = np.array([[3, 4]])\n",
    "np.concatenate((a, b), axis=1)"
   ]
  },
  {
   "cell_type": "markdown",
   "id": "9763cd39-6c93-4bd5-ba93-867a9eeb2ce6",
   "metadata": {},
   "source": [
    "##### 3: Concatenate 2D arrays column-wise"
   ]
  },
  {
   "cell_type": "code",
   "execution_count": 166,
   "id": "ca6cfcca-6785-4342-9787-4b90f29309ff",
   "metadata": {},
   "outputs": [
    {
     "data": {
      "text/plain": [
       "array([[1, 3],\n",
       "       [2, 4]])"
      ]
     },
     "execution_count": 166,
     "metadata": {},
     "output_type": "execute_result"
    }
   ],
   "source": [
    "a = np.array([[1], [2]])\n",
    "b = np.array([[3], [4]])\n",
    "np.concatenate((a, b), axis=1)"
   ]
  },
  {
   "cell_type": "code",
   "execution_count": 168,
   "id": "85064547-1ff9-45ce-a73e-371a34d5a430",
   "metadata": {},
   "outputs": [
    {
     "data": {
      "text/plain": [
       "array([[1, 2],\n",
       "       [7, 8],\n",
       "       [3, 4]])"
      ]
     },
     "execution_count": 168,
     "metadata": {},
     "output_type": "execute_result"
    }
   ],
   "source": [
    "a = np.array([[1, 2],[7,8]])\n",
    "b = np.array([[3, 4]])\n",
    "np.concatenate((a, b), axis=0)"
   ]
  },
  {
   "cell_type": "markdown",
   "id": "d6f7c1d8-ffae-4bbf-8804-2b1df5939885",
   "metadata": {},
   "source": [
    "#### 3.np.reshape()\n",
    "* Gives a new shape to an array without changing its data.\n",
    "* np.reshape(a, newshape)\n",
    "* | Parameter  | Description               |\n",
    "| ---------- | ------------------------- |\n",
    "| `a`        | Input array               |\n",
    "| `newshape` | New shape as int or tuple |\n"
   ]
  },
  {
   "cell_type": "markdown",
   "id": "9d55bc27-f3b3-4490-82f3-2fa795e56d32",
   "metadata": {},
   "source": [
    "##### 1: Reshape 1D to 2D"
   ]
  },
  {
   "cell_type": "code",
   "execution_count": 171,
   "id": "35dc54b6-1d8f-4260-b56c-37898a8e2a2e",
   "metadata": {},
   "outputs": [
    {
     "data": {
      "text/plain": [
       "array([[0, 1, 2],\n",
       "       [3, 4, 5]])"
      ]
     },
     "execution_count": 171,
     "metadata": {},
     "output_type": "execute_result"
    }
   ],
   "source": [
    "a = np.arange(6)\n",
    "np.reshape(a, (2, 3))"
   ]
  },
  {
   "cell_type": "markdown",
   "id": "35fd0d2b-451b-4066-ae36-6a63e5d8bff4",
   "metadata": {},
   "source": [
    "##### 2: Use -1 to auto-calculate dimension"
   ]
  },
  {
   "cell_type": "code",
   "execution_count": 177,
   "id": "574aa170-0661-4d88-afc8-434fe159776d",
   "metadata": {},
   "outputs": [
    {
     "data": {
      "text/plain": [
       "array([[ 0,  1,  2,  3],\n",
       "       [ 4,  5,  6,  7],\n",
       "       [ 8,  9, 10, 11]])"
      ]
     },
     "execution_count": 177,
     "metadata": {},
     "output_type": "execute_result"
    }
   ],
   "source": [
    "a = np.arange(12)\n",
    "np.reshape(a, (3, -1))"
   ]
  },
  {
   "cell_type": "markdown",
   "id": "236be25a-3877-49ae-8ad6-96889ae5a1bd",
   "metadata": {},
   "source": [
    "##### 3: Reshape into 3D"
   ]
  },
  {
   "cell_type": "code",
   "execution_count": 180,
   "id": "1e732f9c-ff07-485b-a2ea-b0ce46d24883",
   "metadata": {},
   "outputs": [
    {
     "data": {
      "text/plain": [
       "array([[[0, 1],\n",
       "        [2, 3]],\n",
       "\n",
       "       [[4, 5],\n",
       "        [6, 7]]])"
      ]
     },
     "execution_count": 180,
     "metadata": {},
     "output_type": "execute_result"
    }
   ],
   "source": [
    "a = np.arange(8)\n",
    "np.reshape(a, (2, 2, 2))"
   ]
  },
  {
   "cell_type": "markdown",
   "id": "685986cc-84c5-4bbd-803e-bc6c56fe4cc2",
   "metadata": {},
   "source": [
    "#### 4. np.copy()\n",
    "* np.copy() creates a deep copy of a NumPy array.\n",
    "* The copied array is completely independent of the original.\n",
    "* Changes made to the original array do not affect the copy, and vice versa.\n",
    "* Syntax -- np.copy(a)\n",
    "* | Parameter | Description              |\n",
    "| --------- | ------------------------ |\n",
    "| `a`       | Input array to be copied |\n"
   ]
  },
  {
   "cell_type": "code",
   "execution_count": 186,
   "id": "43352604-ae87-479e-ba03-9c1fddec7d46",
   "metadata": {},
   "outputs": [
    {
     "data": {
      "text/plain": [
       "array([1, 2, 3])"
      ]
     },
     "execution_count": 186,
     "metadata": {},
     "output_type": "execute_result"
    }
   ],
   "source": [
    "a = np.array([1, 2, 3])\n",
    "a"
   ]
  },
  {
   "cell_type": "markdown",
   "id": "d121cfe1-eaab-417f-b386-04c82868bff7",
   "metadata": {},
   "source": [
    "b = a \n",
    "b"
   ]
  },
  {
   "cell_type": "code",
   "execution_count": 190,
   "id": "b0332d00-e9c3-4aa3-9b15-c2e1d3e51850",
   "metadata": {},
   "outputs": [
    {
     "data": {
      "text/plain": [
       "array([99,  2,  3])"
      ]
     },
     "execution_count": 190,
     "metadata": {},
     "output_type": "execute_result"
    }
   ],
   "source": [
    "b[0] = 99\n",
    "b"
   ]
  },
  {
   "cell_type": "code",
   "execution_count": 192,
   "id": "008e640d-9fc4-4aa6-a6d9-e7c845fe5163",
   "metadata": {},
   "outputs": [
    {
     "data": {
      "text/plain": [
       "array([99,  2,  3])"
      ]
     },
     "execution_count": 192,
     "metadata": {},
     "output_type": "execute_result"
    }
   ],
   "source": [
    "a"
   ]
  },
  {
   "cell_type": "markdown",
   "id": "29eb3f36-eca4-47fe-86cb-69c02a68b6f6",
   "metadata": {},
   "source": [
    "#### To prevent this, use np.copy()."
   ]
  },
  {
   "cell_type": "markdown",
   "id": "0ba3214b-0533-43f1-b8d2-fc2397fbe0cd",
   "metadata": {},
   "source": [
    "#### 1: Copying an array"
   ]
  },
  {
   "cell_type": "code",
   "execution_count": 195,
   "id": "bc178fe9-dcb9-45d5-9f33-f12fba66d836",
   "metadata": {},
   "outputs": [
    {
     "name": "stdout",
     "output_type": "stream",
     "text": [
      "Original a: [1 2 3]\n",
      "Copied b: [99  2  3]\n"
     ]
    }
   ],
   "source": [
    "a = np.array([1, 2, 3])\n",
    "b = np.copy(a)\n",
    "b[0] = 99\n",
    "\n",
    "print(\"Original a:\", a)  # [1 2 3]\n",
    "print(\"Copied b:\", b)    # [99 2 3]\n"
   ]
  },
  {
   "cell_type": "markdown",
   "id": "4f819df6-27e2-42c7-87ba-1d6aa26a88c7",
   "metadata": {},
   "source": [
    "##### 2: Copying a 2D array"
   ]
  },
  {
   "cell_type": "markdown",
   "id": "4bdd449d-888a-4067-9757-a7f897c97718",
   "metadata": {},
   "source": [
    "m1 = np.array([[1, 2], [3, 4]])\n",
    "m2 = np.copy(m1)\n",
    "m2[0, 0] = 100\n",
    "\n",
    "print(\"Original:\\n\", m1)\n",
    "print(\"Copied:\\n\", m2)\n"
   ]
  },
  {
   "cell_type": "markdown",
   "id": "1d308118-9032-441a-88c0-a3d88d5a1137",
   "metadata": {},
   "source": [
    "##### 3: Without copy (default assignment)"
   ]
  },
  {
   "cell_type": "code",
   "execution_count": 202,
   "id": "f570fb7c-48f9-438d-955c-5e62901a068f",
   "metadata": {},
   "outputs": [
    {
     "name": "stdout",
     "output_type": "stream",
     "text": [
      "x: [ 10 200  30]\n",
      "y: [ 10 200  30]\n"
     ]
    }
   ],
   "source": [
    "x = np.array([10, 20, 30])\n",
    "y = x          # Just a reference\n",
    "y[1] = 200\n",
    "\n",
    "print(\"x:\", x)  # [10 200 30] ❗ changed\n",
    "print(\"y:\", y)"
   ]
  },
  {
   "cell_type": "markdown",
   "id": "7dbc6171-cda0-4497-87d0-59a99956ab66",
   "metadata": {},
   "source": [
    "### Array Properties"
   ]
  },
  {
   "cell_type": "markdown",
   "id": "ec51479a-40bb-4763-bdea-db997d2d7573",
   "metadata": {},
   "source": [
    ".ndim, .shape, .size, and .dtype\n",
    " * These attributes help you inspect the structure and type of a NumPy array — essential for writing efficient, bug-free data science or ML code."
   ]
  },
  {
   "cell_type": "markdown",
   "id": "d7e4f52e-6c88-4c2d-a2f3-55ddc4df43bb",
   "metadata": {},
   "source": [
    "#### 1. .ndim → Number of Dimensions\n",
    "Returns the number of dimensions (a.k.a. axes) of the array."
   ]
  },
  {
   "cell_type": "code",
   "execution_count": 213,
   "id": "7dd98fb8-7ff8-436d-b122-a6b4f5278194",
   "metadata": {},
   "outputs": [
    {
     "name": "stdout",
     "output_type": "stream",
     "text": [
      "1\n"
     ]
    }
   ],
   "source": [
    "a = np.array([1, 2, 3])\n",
    "print(a.ndim)"
   ]
  },
  {
   "cell_type": "code",
   "execution_count": 215,
   "id": "795146e4-566d-40f2-a29c-0fdae8419219",
   "metadata": {},
   "outputs": [
    {
     "name": "stdout",
     "output_type": "stream",
     "text": [
      "2\n"
     ]
    }
   ],
   "source": [
    "b = np.array([[1, 2], [3, 4]])\n",
    "print(b.ndim) "
   ]
  },
  {
   "cell_type": "code",
   "execution_count": 217,
   "id": "54975575-6a17-4c05-8ad8-51525d06e452",
   "metadata": {},
   "outputs": [
    {
     "name": "stdout",
     "output_type": "stream",
     "text": [
      "3\n"
     ]
    }
   ],
   "source": [
    "c = np.array([[[1], [2]], [[3], [4]]])\n",
    "print(c.ndim) "
   ]
  },
  {
   "cell_type": "markdown",
   "id": "622d1b12-2f9f-4de0-b995-3828b137fe87",
   "metadata": {},
   "source": [
    "#### 2. .shape → Dimensions of the Array\n",
    "Returns a tuple representing the size of each dimension (rows, columns, etc.)."
   ]
  },
  {
   "cell_type": "code",
   "execution_count": 221,
   "id": "d7cc0234-51eb-44e3-9d31-1ddfa5224b0e",
   "metadata": {},
   "outputs": [
    {
     "name": "stdout",
     "output_type": "stream",
     "text": [
      "(3,)\n"
     ]
    }
   ],
   "source": [
    "a = np.array([1, 2, 3])\n",
    "print(a.shape) "
   ]
  },
  {
   "cell_type": "code",
   "execution_count": 233,
   "id": "6daac03b-52fe-4999-9a30-a09f60f3e496",
   "metadata": {},
   "outputs": [
    {
     "data": {
      "text/plain": [
       "(5,)"
      ]
     },
     "execution_count": 233,
     "metadata": {},
     "output_type": "execute_result"
    }
   ],
   "source": [
    "arr1 = np.linspace(0, 10, 5)\n",
    "arr1.shape  # Output: (3,) → 3 elements in 1D\n"
   ]
  },
  {
   "cell_type": "code",
   "execution_count": 231,
   "id": "6fbc4217-7886-4e89-9889-0425e0cb3eaa",
   "metadata": {},
   "outputs": [
    {
     "name": "stdout",
     "output_type": "stream",
     "text": [
      "(2, 2)\n"
     ]
    }
   ],
   "source": [
    "b = np.array([[1, 2], [3, 4]])\n",
    "print(b.shape)  # Output: (2, 2) → 2 rows × 2 columns"
   ]
  },
  {
   "cell_type": "code",
   "execution_count": 235,
   "id": "b0616319-9ba7-4720-bf8d-b6ec28285a90",
   "metadata": {},
   "outputs": [
    {
     "name": "stdout",
     "output_type": "stream",
     "text": [
      "(2, 2, 1)\n"
     ]
    }
   ],
   "source": [
    "c = np.array([[[1], [2]], [[3], [4]]])\n",
    "print(c.shape)   # Output: (2, 2, 1) → 3D array"
   ]
  },
  {
   "cell_type": "markdown",
   "id": "d10be0f8-6d2e-4bef-84ae-71bc7e7ba591",
   "metadata": {},
   "source": [
    "### 3.size → Total Number of Elements\n",
    "Returns the total number of elements in the array."
   ]
  },
  {
   "cell_type": "code",
   "execution_count": 238,
   "id": "14de06c9-c53d-4c50-b16d-9313ab1a46dd",
   "metadata": {},
   "outputs": [
    {
     "name": "stdout",
     "output_type": "stream",
     "text": [
      "4\n"
     ]
    }
   ],
   "source": [
    "a = np.array([1, 2, 3, 4])\n",
    "print(a.size) "
   ]
  },
  {
   "cell_type": "code",
   "execution_count": 240,
   "id": "9097d4f5-4269-4e35-a67f-67a08ef622b1",
   "metadata": {},
   "outputs": [
    {
     "name": "stdout",
     "output_type": "stream",
     "text": [
      "6\n"
     ]
    }
   ],
   "source": [
    "b = np.array([[1, 2], [3, 4], [5, 6]])\n",
    "print(b.size)  # Output: 6 (3 rows × 2 cols)"
   ]
  },
  {
   "cell_type": "code",
   "execution_count": 242,
   "id": "61f32ddb-01d5-4b39-8630-0234cb735ab4",
   "metadata": {},
   "outputs": [
    {
     "name": "stdout",
     "output_type": "stream",
     "text": [
      "[[[0. 0.]\n",
      "  [0. 0.]\n",
      "  [0. 0.]\n",
      "  [0. 0.]]\n",
      "\n",
      " [[0. 0.]\n",
      "  [0. 0.]\n",
      "  [0. 0.]\n",
      "  [0. 0.]]\n",
      "\n",
      " [[0. 0.]\n",
      "  [0. 0.]\n",
      "  [0. 0.]\n",
      "  [0. 0.]]]\n",
      "24\n"
     ]
    }
   ],
   "source": [
    "c = np.zeros((3, 4, 2))\n",
    "print(c)\n",
    "print(c.size)   # Output: 24 (3×4×2)"
   ]
  },
  {
   "cell_type": "markdown",
   "id": "f428855e-8997-4763-a553-252c4f28c031",
   "metadata": {},
   "source": [
    "#### 4. dtype → Data Type of Elements\n",
    "Returns the data type of the elements stored in the array."
   ]
  },
  {
   "cell_type": "code",
   "execution_count": 245,
   "id": "d84fbc41-fc4a-4f79-a59b-ba86dab12f24",
   "metadata": {},
   "outputs": [
    {
     "name": "stdout",
     "output_type": "stream",
     "text": [
      "int64\n"
     ]
    }
   ],
   "source": [
    "a = np.array([1, 2, 3])\n",
    "print(a.dtype)  "
   ]
  },
  {
   "cell_type": "code",
   "execution_count": 249,
   "id": "4091374b-0b63-434d-adc5-3fc15e79a78c",
   "metadata": {},
   "outputs": [
    {
     "name": "stdout",
     "output_type": "stream",
     "text": [
      "float64\n"
     ]
    }
   ],
   "source": [
    "b = np.array([1.0, 2.0])\n",
    "print(b.dtype)"
   ]
  },
  {
   "cell_type": "code",
   "execution_count": 251,
   "id": "dcb57c67-09d2-4232-b864-62a518d4820f",
   "metadata": {},
   "outputs": [
    {
     "name": "stdout",
     "output_type": "stream",
     "text": [
      "bool\n"
     ]
    }
   ],
   "source": [
    "c = np.array([True, False])\n",
    "print(c.dtype) "
   ]
  },
  {
   "cell_type": "code",
   "execution_count": 253,
   "id": "23090378-c004-45bb-9f42-1fe8652d09df",
   "metadata": {},
   "outputs": [
    {
     "name": "stdout",
     "output_type": "stream",
     "text": [
      "float32\n"
     ]
    }
   ],
   "source": [
    "d = np.array([1, 2], dtype=np.float32)\n",
    "print(d.dtype)"
   ]
  },
  {
   "cell_type": "code",
   "execution_count": 255,
   "id": "ab27133c-d550-47b4-8b16-45f75f28aec9",
   "metadata": {},
   "outputs": [
    {
     "name": "stdout",
     "output_type": "stream",
     "text": [
      "int64\n"
     ]
    }
   ],
   "source": [
    "e = np.array([True, 1])\n",
    "print(e.dtype) "
   ]
  },
  {
   "cell_type": "markdown",
   "id": "5ced1fec-49ba-44b5-90f4-89a629dae747",
   "metadata": {},
   "source": [
    "bool → int → float → complex → object (promotion hierarchy)"
   ]
  },
  {
   "cell_type": "code",
   "execution_count": 258,
   "id": "ef5b97c5-5151-41dc-95fa-9951bb67a0a1",
   "metadata": {},
   "outputs": [
    {
     "name": "stdout",
     "output_type": "stream",
     "text": [
      "[1 1] int64\n",
      "[1. 1. 1.] float64\n",
      "['True' 'yes'] <U5\n",
      "[True None] object\n"
     ]
    }
   ],
   "source": [
    "import numpy as np\n",
    "\n",
    "e1 = np.array([True, 1])       # → int\n",
    "e2 = np.array([1, 1.0,True])     # → float\n",
    "e3 = np.array([True, 'yes'])   # → string\n",
    "e4 = np.array([True, None])    # → object\n",
    "\n",
    "print(e1, e1.dtype)\n",
    "print(e2, e2.dtype)\n",
    "print(e3, e3.dtype)\n",
    "print(e4, e4.dtype)"
   ]
  },
  {
   "cell_type": "code",
   "execution_count": 264,
   "id": "976c8089-e8b9-4304-bc27-70b4d04dde73",
   "metadata": {},
   "outputs": [
    {
     "name": "stdout",
     "output_type": "stream",
     "text": [
      "object\n"
     ]
    }
   ],
   "source": [
    "b = np.array(['apple', 42, [1, 2]], dtype=object)\n",
    "print(b.dtype)"
   ]
  },
  {
   "cell_type": "code",
   "execution_count": 266,
   "id": "8923ddad-5497-49bb-aa54-fa4ad47f7132",
   "metadata": {},
   "outputs": [
    {
     "data": {
      "text/plain": [
       "array(['apple', 42, list([1, 2])], dtype=object)"
      ]
     },
     "execution_count": 266,
     "metadata": {},
     "output_type": "execute_result"
    }
   ],
   "source": [
    "b"
   ]
  },
  {
   "cell_type": "markdown",
   "id": "02e74adc-364e-406a-83db-7523d320c97f",
   "metadata": {},
   "source": [
    "#### object datatype\n",
    "* Each element is a full Python object.\n",
    "* No restriction on length or type.\n",
    "* More like a general-purpose Python list."
   ]
  },
  {
   "cell_type": "markdown",
   "id": "8123366d-89ef-409d-9d94-e601943d5753",
   "metadata": {},
   "source": [
    "### Reshapinf Array"
   ]
  },
  {
   "cell_type": "markdown",
   "id": "72605f32-0198-468a-868a-a1818254620d",
   "metadata": {},
   "source": [
    "#### 1. reshape()\n",
    "Reshape an array to a new shape without changing its data."
   ]
  },
  {
   "cell_type": "markdown",
   "id": "1157c69d-7ccf-4f6a-b8e0-5550ac720635",
   "metadata": {},
   "source": [
    "#### 2. ravel()\n",
    "* Flattens a multi-dimensional array to 1D, returns a view (no data copy if possible).\n",
    "* Syntax -- arr.ravel()"
   ]
  },
  {
   "cell_type": "markdown",
   "id": "525d5edf-4e30-46d7-97f7-7f867025f9e7",
   "metadata": {},
   "source": [
    "##### 1: Flatten 2D"
   ]
  },
  {
   "cell_type": "code",
   "execution_count": 282,
   "id": "c8d8a601-8a38-4a85-84de-a7c487012193",
   "metadata": {},
   "outputs": [
    {
     "data": {
      "text/plain": [
       "array([1, 2, 3, 4])"
      ]
     },
     "execution_count": 282,
     "metadata": {},
     "output_type": "execute_result"
    }
   ],
   "source": [
    "a = np.array([[1, 2], [3, 4]])\n",
    "a.ravel()"
   ]
  },
  {
   "cell_type": "markdown",
   "id": "b41848c5-c56d-4937-8f30-8123e491d723",
   "metadata": {},
   "source": [
    "#### 2: Flatten 3D"
   ]
  },
  {
   "cell_type": "code",
   "execution_count": 296,
   "id": "fd405792-8fc8-4739-b153-aa0a8b2c656e",
   "metadata": {},
   "outputs": [
    {
     "data": {
      "text/plain": [
       "array([0, 1, 2, 3, 4, 5, 6, 7])"
      ]
     },
     "execution_count": 296,
     "metadata": {},
     "output_type": "execute_result"
    }
   ],
   "source": [
    "a = np.arange(8).reshape(2, 2, 2)\n",
    "a.ravel() "
   ]
  },
  {
   "cell_type": "code",
   "execution_count": 298,
   "id": "1b092d45-c177-4e0f-9e19-850258913b4a",
   "metadata": {},
   "outputs": [
    {
     "data": {
      "text/plain": [
       "array([[[0, 1],\n",
       "        [2, 3]],\n",
       "\n",
       "       [[4, 5],\n",
       "        [6, 7]]])"
      ]
     },
     "execution_count": 298,
     "metadata": {},
     "output_type": "execute_result"
    }
   ],
   "source": [
    "a"
   ]
  },
  {
   "cell_type": "markdown",
   "id": "27181a40-7db3-4733-b13d-4657315b74fa",
   "metadata": {},
   "source": [
    "#### 3: Modify original affects view"
   ]
  },
  {
   "cell_type": "code",
   "execution_count": 288,
   "id": "8e68f993-b33d-4ef2-b9b2-4bcb94fd1cd5",
   "metadata": {},
   "outputs": [
    {
     "name": "stdout",
     "output_type": "stream",
     "text": [
      "999\n"
     ]
    }
   ],
   "source": [
    "b = a.ravel()\n",
    "b[0] = 999\n",
    "print(a[0, 0, 0])  # Also becomes 999\n"
   ]
  },
  {
   "cell_type": "markdown",
   "id": "4d70ea59-9231-486a-8e21-7a1f4965ca65",
   "metadata": {},
   "source": [
    "### 3. flatten()\n",
    "Returns a 1D copy of the array (unlike ravel(), which returns a view).\n",
    "Syntax - arr.flatten(order='C')\n",
    "* order='C' (row-major), 'F' (column-major)"
   ]
  },
  {
   "cell_type": "markdown",
   "id": "1583b207-31d5-40bc-a415-107492aa89ae",
   "metadata": {},
   "source": [
    "#### 1: Flatten 2D"
   ]
  },
  {
   "cell_type": "code",
   "execution_count": 301,
   "id": "e77455af-b2b7-40b8-827e-2b937bc610fe",
   "metadata": {},
   "outputs": [
    {
     "data": {
      "text/plain": [
       "array([1, 2, 3, 4])"
      ]
     },
     "execution_count": 301,
     "metadata": {},
     "output_type": "execute_result"
    }
   ],
   "source": [
    "a = np.array([[1, 2], [3, 4]])\n",
    "a.flatten()"
   ]
  },
  {
   "cell_type": "markdown",
   "id": "c9cb4c6c-84c2-4ee9-ae20-15b422a15903",
   "metadata": {},
   "source": [
    "a"
   ]
  },
  {
   "cell_type": "markdown",
   "id": "3e831ad9-c46a-4158-94e4-6b1189321410",
   "metadata": {},
   "source": [
    "#### 2: Change does NOT affect original"
   ]
  },
  {
   "cell_type": "code",
   "execution_count": 306,
   "id": "1f751208-42aa-48f9-816b-65d1a8dc09a6",
   "metadata": {},
   "outputs": [
    {
     "name": "stdout",
     "output_type": "stream",
     "text": [
      "1\n"
     ]
    }
   ],
   "source": [
    "b = a.flatten()\n",
    "b[0] = 100\n",
    "print(a[0, 0])"
   ]
  },
  {
   "cell_type": "markdown",
   "id": "0e0d105a-7c9d-4914-92a1-a47f7251df03",
   "metadata": {},
   "source": [
    "### 3: Flatten with column-major order"
   ]
  },
  {
   "cell_type": "code",
   "execution_count": 315,
   "id": "3ff87c29-01ef-40df-b2a2-89f2e6b33803",
   "metadata": {},
   "outputs": [
    {
     "data": {
      "text/plain": [
       "array([1, 3, 2, 4])"
      ]
     },
     "execution_count": 315,
     "metadata": {},
     "output_type": "execute_result"
    }
   ],
   "source": [
    "a.flatten(order='F')"
   ]
  },
  {
   "cell_type": "code",
   "execution_count": 311,
   "id": "be687920-1259-4c7d-a396-0944bd66e8ff",
   "metadata": {},
   "outputs": [
    {
     "data": {
      "text/plain": [
       "array([1, 2, 3, 4])"
      ]
     },
     "execution_count": 311,
     "metadata": {},
     "output_type": "execute_result"
    }
   ],
   "source": [
    "a = np.array([[1, 2], [3, 4]])\n",
    "a.flatten(order='C')"
   ]
  },
  {
   "cell_type": "code",
   "execution_count": 313,
   "id": "5cf35c51-cfb2-44c5-beb0-20c3a3a11f21",
   "metadata": {},
   "outputs": [
    {
     "data": {
      "text/plain": [
       "array([[1, 2],\n",
       "       [3, 4]])"
      ]
     },
     "execution_count": 313,
     "metadata": {},
     "output_type": "execute_result"
    }
   ],
   "source": [
    "a"
   ]
  },
  {
   "cell_type": "markdown",
   "id": "9fd5dba2-1368-462a-a502-f27c9b1648a8",
   "metadata": {},
   "source": [
    "### 4. transpose()\n",
    "* Swaps the axes of the array.\n",
    "* Syntax: arr.transpose(*axes)  # or arr.T\n",
    "* .T is shorthand for 2D arrays (swaps rows and columns)"
   ]
  },
  {
   "cell_type": "markdown",
   "id": "9a913994-8b7f-4c7f-bdcc-4901b990db02",
   "metadata": {},
   "source": [
    "#### 1: Transpose 2D"
   ]
  },
  {
   "cell_type": "code",
   "execution_count": 322,
   "id": "5167f43b-7a78-4255-87c9-f81e57dee338",
   "metadata": {},
   "outputs": [
    {
     "data": {
      "text/plain": [
       "array([[1, 3],\n",
       "       [2, 4]])"
      ]
     },
     "execution_count": 322,
     "metadata": {},
     "output_type": "execute_result"
    }
   ],
   "source": [
    "a = np.array([[1, 2], [3, 4]])\n",
    "a.T"
   ]
  },
  {
   "cell_type": "markdown",
   "id": "bcac321c-9e5a-4ed6-907d-d2983a5e2ee7",
   "metadata": {},
   "source": [
    "#### 2: Transpose 3D"
   ]
  },
  {
   "cell_type": "code",
   "execution_count": 327,
   "id": "0146e669-9d0e-40ba-a4ae-ecc740c894c7",
   "metadata": {},
   "outputs": [
    {
     "name": "stdout",
     "output_type": "stream",
     "text": [
      "[[[ 0  1  2  3]\n",
      "  [ 4  5  6  7]\n",
      "  [ 8  9 10 11]]\n",
      "\n",
      " [[12 13 14 15]\n",
      "  [16 17 18 19]\n",
      "  [20 21 22 23]]]\n"
     ]
    },
    {
     "data": {
      "text/plain": [
       "(3, 2, 4)"
      ]
     },
     "execution_count": 327,
     "metadata": {},
     "output_type": "execute_result"
    }
   ],
   "source": [
    "a = np.arange(24).reshape(2, 3, 4)\n",
    "print(a)\n",
    "a.transpose(1, 0, 2).shape  # (3, 2, 4)\n"
   ]
  },
  {
   "cell_type": "code",
   "execution_count": 329,
   "id": "15a3c1e7-97b6-46b5-9aaa-bb62743ff012",
   "metadata": {},
   "outputs": [
    {
     "data": {
      "text/plain": [
       "array([[[ 0,  1,  2,  3],\n",
       "        [12, 13, 14, 15]],\n",
       "\n",
       "       [[ 4,  5,  6,  7],\n",
       "        [16, 17, 18, 19]],\n",
       "\n",
       "       [[ 8,  9, 10, 11],\n",
       "        [20, 21, 22, 23]]])"
      ]
     },
     "execution_count": 329,
     "metadata": {},
     "output_type": "execute_result"
    }
   ],
   "source": [
    "a.transpose(1, 0, 2)"
   ]
  },
  {
   "cell_type": "markdown",
   "id": "c5c5962b-bf9c-4552-b0bc-97f9b7408aef",
   "metadata": {},
   "source": [
    "* original shape: (axis0, axis1, axis2) = (2, 3, 4)\n",
    "* new shape:      (axis1, axis0, axis2) = (3, 2, 4)\n",
    "| Old Axis    | New Position |\n",
    "| ----------- | ------------ |\n",
    "| 0 (blocks)  | 1st axis     |\n",
    "| 1 (rows)    | 0th axis     |\n",
    "| 2 (columns) | stays as 2nd |\n"
   ]
  },
  {
   "cell_type": "markdown",
   "id": "66aecacf-60e3-482a-aceb-514f0499a23e",
   "metadata": {},
   "source": [
    "| Function      | Purpose        | Copy or View?      | Notes                             |\n",
    "| ------------- | -------------- | ------------------ | --------------------------------- |\n",
    "| `reshape()`   | Change shape   | View (if possible) | Use `-1` to auto-compute size     |\n",
    "| `ravel()`     | Flatten to 1D  | View               | Faster, memory efficient          |\n",
    "| `flatten()`   | Flatten to 1D  | Copy               | Safe; original remains unchanged  |\n",
    "| `transpose()` | Rearrange axes | View               | `.T` is shortcut for 2D transpose |\n"
   ]
  },
  {
   "cell_type": "markdown",
   "id": "4a60570a-5372-4454-ab1f-e7a34eb736c5",
   "metadata": {},
   "source": [
    "### Indexing & Slicing"
   ]
  },
  {
   "cell_type": "markdown",
   "id": "606a3bf9-de1a-423a-87cc-4a4338beef38",
   "metadata": {},
   "source": [
    "#### What is Indexing?\n",
    "Indexing means accessing individual elements or groups of elements from an array using their position (index). NumPy uses zero-based indexing — the first element is at index 0."
   ]
  },
  {
   "cell_type": "markdown",
   "id": "06562038-fd32-48e1-b9b5-715f82664abb",
   "metadata": {},
   "source": [
    "### Types of Indexing\n",
    "#### 1. Basic Indexing\n",
    "Works like Python lists: use integer indices to access elements."
   ]
  },
  {
   "cell_type": "code",
   "execution_count": 337,
   "id": "8ad354f9-ee77-4872-9143-08e0e57cfa31",
   "metadata": {},
   "outputs": [
    {
     "name": "stdout",
     "output_type": "stream",
     "text": [
      "10\n",
      "40\n"
     ]
    }
   ],
   "source": [
    "a = np.array([10, 20, 30, 40])\n",
    "\n",
    "print(a[0])   # 10\n",
    "print(a[-1]) "
   ]
  },
  {
   "cell_type": "code",
   "execution_count": 339,
   "id": "51182173-fba0-457b-8920-1efd7071fba0",
   "metadata": {},
   "outputs": [
    {
     "name": "stdout",
     "output_type": "stream",
     "text": [
      "2\n",
      "6\n"
     ]
    }
   ],
   "source": [
    "b = np.array([[1, 2, 3],\n",
    "              [4, 5, 6]])\n",
    "\n",
    "print(b[0, 1])  # 2 (row 0, column 1)\n",
    "print(b[1][2])  # 6 (row 1, column 2)\n"
   ]
  },
  {
   "cell_type": "markdown",
   "id": "e78c34f3-c404-4b5e-8124-9c2def086bef",
   "metadata": {},
   "source": [
    "#### 2. Slicing\n",
    "* Returns a view (not a copy) of the array — allows extracting subarrays.\n",
    "* syntax -- arr[start:stop:step]"
   ]
  },
  {
   "cell_type": "code",
   "execution_count": 344,
   "id": "e4bd4650-ba90-4647-a850-c08266f31571",
   "metadata": {},
   "outputs": [
    {
     "name": "stdout",
     "output_type": "stream",
     "text": [
      "[20 30 40]\n",
      "[10 20 30]\n",
      "[10 30 50]\n"
     ]
    }
   ],
   "source": [
    "a = np.array([10, 20, 30, 40, 50])\n",
    "print(a[1:4])     # [20 30 40]\n",
    "print(a[:3])      # [10 20 30]\n",
    "print(a[::2]) "
   ]
  },
  {
   "cell_type": "code",
   "execution_count": 348,
   "id": "d13eec05-a0fa-48e7-9da6-ab69ce7ef62c",
   "metadata": {},
   "outputs": [
    {
     "name": "stdout",
     "output_type": "stream",
     "text": [
      "[[2 3]\n",
      " [5 6]]\n",
      "[2 5 8]\n",
      "[[1 3]\n",
      " [7 9]]\n"
     ]
    }
   ],
   "source": [
    "b = np.array([[1, 2, 3],\n",
    "              [4, 5, 6],\n",
    "              [7, 8, 9]])\n",
    "\n",
    "print(b[0:2, 1:3] )  # [[2 3], [5 6]]\n",
    "print(b[:, 1]  )     # [2 5 8] (all rows, column 1)\n",
    "print(b[::2, ::2] )  # [[1 3], [7 9]]\n"
   ]
  },
  {
   "cell_type": "markdown",
   "id": "9d81d5ce-12ca-42ee-a566-6fd8cdaf3c86",
   "metadata": {},
   "source": [
    "### Advanced Indexing\n",
    "#### 3. Integer Array Indexing\n",
    "Use arrays of integers to access multiple specific elements."
   ]
  },
  {
   "cell_type": "code",
   "execution_count": 352,
   "id": "703b0198-ffa0-45cf-838d-4a3eb53cc7ab",
   "metadata": {},
   "outputs": [
    {
     "data": {
      "text/plain": [
       "array([10, 30])"
      ]
     },
     "execution_count": 352,
     "metadata": {},
     "output_type": "execute_result"
    }
   ],
   "source": [
    "a = np.array([10, 20, 30, 40])\n",
    "indices = [0, 2]\n",
    "a[indices]"
   ]
  },
  {
   "cell_type": "markdown",
   "id": "4a33931b-360a-4a1d-b030-aaaf12b6888b",
   "metadata": {},
   "source": [
    "#### 4. Boolean Indexing\n",
    "Use a boolean array to select elements where the condition is True."
   ]
  },
  {
   "cell_type": "code",
   "execution_count": 357,
   "id": "3299ed8e-813a-40d4-a7bf-58f48ee4585a",
   "metadata": {},
   "outputs": [
    {
     "data": {
      "text/plain": [
       "array([4, 5])"
      ]
     },
     "execution_count": 357,
     "metadata": {},
     "output_type": "execute_result"
    }
   ],
   "source": [
    "a = np.array([1, 2, 3, 4, 5])\n",
    "mask = a > 3\n",
    "a[mask]       # [4, 5]\n",
    "\n"
   ]
  },
  {
   "cell_type": "code",
   "execution_count": 359,
   "id": "7efc7892-a4cc-450c-bb98-a357cddfa22a",
   "metadata": {},
   "outputs": [
    {
     "data": {
      "text/plain": [
       "array([2, 4])"
      ]
     },
     "execution_count": 359,
     "metadata": {},
     "output_type": "execute_result"
    }
   ],
   "source": [
    "# or directly\n",
    "a[a % 2 == 0] # [2, 4]"
   ]
  },
  {
   "cell_type": "code",
   "execution_count": 361,
   "id": "a88ae07f-b2ea-45ae-baa8-4f538c55f2ec",
   "metadata": {},
   "outputs": [
    {
     "name": "stdout",
     "output_type": "stream",
     "text": [
      "[ 10 999  30  40]\n"
     ]
    }
   ],
   "source": [
    "# 1: Modify using slice\n",
    "a = np.array([10, 20, 30, 40])\n",
    "b = a[1:3]\n",
    "b[0] = 999\n",
    "print(a)"
   ]
  },
  {
   "cell_type": "code",
   "execution_count": 363,
   "id": "5e18ed82-e884-4755-92d7-d5f2d652fe00",
   "metadata": {},
   "outputs": [
    {
     "data": {
      "text/plain": [
       "array([10, 40, 50])"
      ]
     },
     "execution_count": 363,
     "metadata": {},
     "output_type": "execute_result"
    }
   ],
   "source": [
    " # 2: Fancy indexing (non-contiguous)\n",
    "a = np.array([10, 20, 30, 40, 50])\n",
    "idx = [0, 3, 4]\n",
    "a[idx]  # [10, 40, 50]\n"
   ]
  },
  {
   "cell_type": "code",
   "execution_count": 365,
   "id": "58f12130-ad21-44d3-87a2-3f983c4371cc",
   "metadata": {},
   "outputs": [
    {
     "data": {
      "text/plain": [
       "array([0, 3, 6, 9])"
      ]
     },
     "execution_count": 365,
     "metadata": {},
     "output_type": "execute_result"
    }
   ],
   "source": [
    "### 3: Boolean filter\n",
    "a = np.arange(10)\n",
    "a[a % 3 == 0]  # [0, 3, 6, 9]\n"
   ]
  },
  {
   "cell_type": "markdown",
   "id": "ef1a2c10-9e48-429a-a5e2-d20f264bb4cc",
   "metadata": {},
   "source": [
    "### Mathematical Operations"
   ]
  },
  {
   "cell_type": "markdown",
   "id": "86081c07-64ef-4a8c-81e4-ea6f0b7dcd0a",
   "metadata": {},
   "source": [
    "### Element-wise Operations\n",
    "#### What Does \"Element-wise\" Mean?\n",
    "It means the operation is applied individually to each pair of elements from two arrays of the same shape — just like how you add two numbers, but done vectorized (efficiently, in bulk).\n",
    "\n",
    "⚠️ Arrays must be broadcast-compatible (i.e. same shape or follow broadcasting rules)."
   ]
  },
  {
   "cell_type": "markdown",
   "id": "758ac4b4-240d-4762-be9b-69aaecaca37b",
   "metadata": {},
   "source": [
    "### Common Element-wise Operations\n",
    "\n",
    "| Operation      | Symbol / Function      |\n",
    "| -------------- | ---------------------- |\n",
    "| Addition       | `+` or `np.add()`      |\n",
    "| Subtraction    | `-` or `np.subtract()` |\n",
    "| Multiplication | `*` or `np.multiply()` |\n",
    "| Division       | `/` or `np.divide()`   |\n",
    "| Power          | `**` or `np.power()`   |\n",
    "| Modulo         | `%` or `np.mod()`      |\n"
   ]
  },
  {
   "cell_type": "code",
   "execution_count": 377,
   "id": "5c002564-eb37-4ffc-81b0-959dea91995f",
   "metadata": {},
   "outputs": [],
   "source": [
    "a = np.array([1, 2, 3])\n",
    "b = np.array([4, 5, 6]) "
   ]
  },
  {
   "cell_type": "code",
   "execution_count": 406,
   "id": "0eb25ff4-3a42-4339-8516-939c87345804",
   "metadata": {},
   "outputs": [],
   "source": [
    "c = np.array([[1, 2],\n",
    "              [3, 4]])\n",
    "\n",
    "d = np.array([[5, 6],\n",
    "              [7, 8]])"
   ]
  },
  {
   "cell_type": "markdown",
   "id": "882b84b1-f690-4b02-8937-fe2557b8847c",
   "metadata": {},
   "source": [
    "#### 1. Addition"
   ]
  },
  {
   "cell_type": "code",
   "execution_count": 374,
   "id": "aee6682d-576c-4713-bc16-5a377100409e",
   "metadata": {},
   "outputs": [
    {
     "data": {
      "text/plain": [
       "array([5, 7, 9])"
      ]
     },
     "execution_count": 374,
     "metadata": {},
     "output_type": "execute_result"
    }
   ],
   "source": [
    "np.add(a, b)"
   ]
  },
  {
   "cell_type": "code",
   "execution_count": 379,
   "id": "9c1a2eb9-2c92-4482-a3e1-6e95067e3990",
   "metadata": {},
   "outputs": [
    {
     "data": {
      "text/plain": [
       "array([5, 7, 9])"
      ]
     },
     "execution_count": 379,
     "metadata": {},
     "output_type": "execute_result"
    }
   ],
   "source": [
    "a + b "
   ]
  },
  {
   "cell_type": "code",
   "execution_count": 408,
   "id": "1e03fe50-a9ea-4994-ba19-a38d9b62c8d7",
   "metadata": {},
   "outputs": [
    {
     "data": {
      "text/plain": [
       "array([[ 6,  8],\n",
       "       [10, 12]])"
      ]
     },
     "execution_count": 408,
     "metadata": {},
     "output_type": "execute_result"
    }
   ],
   "source": [
    "c + d"
   ]
  },
  {
   "cell_type": "markdown",
   "id": "f48f0d44-e140-430a-a030-9573f5ff4af4",
   "metadata": {},
   "source": [
    "#### 2. Subtraction"
   ]
  },
  {
   "cell_type": "code",
   "execution_count": 383,
   "id": "7ab15cc1-c661-4603-9e54-f6738caf3019",
   "metadata": {},
   "outputs": [
    {
     "data": {
      "text/plain": [
       "array([-3, -3, -3])"
      ]
     },
     "execution_count": 383,
     "metadata": {},
     "output_type": "execute_result"
    }
   ],
   "source": [
    "np.subtract(a, b)"
   ]
  },
  {
   "cell_type": "code",
   "execution_count": 385,
   "id": "64bac12d-6c18-4ae1-bf6a-b8d18d73a05c",
   "metadata": {},
   "outputs": [
    {
     "data": {
      "text/plain": [
       "array([-3, -3, -3])"
      ]
     },
     "execution_count": 385,
     "metadata": {},
     "output_type": "execute_result"
    }
   ],
   "source": [
    "a - b  "
   ]
  },
  {
   "cell_type": "code",
   "execution_count": 410,
   "id": "f878d102-184f-40af-8f57-e30677f80e84",
   "metadata": {},
   "outputs": [
    {
     "data": {
      "text/plain": [
       "array([[-4, -4],\n",
       "       [-4, -4]])"
      ]
     },
     "execution_count": 410,
     "metadata": {},
     "output_type": "execute_result"
    }
   ],
   "source": [
    "c - d"
   ]
  },
  {
   "cell_type": "code",
   "execution_count": 412,
   "id": "6569df73-cebe-43cb-ba12-e10941c09936",
   "metadata": {},
   "outputs": [
    {
     "data": {
      "text/plain": [
       "array([[4, 4],\n",
       "       [4, 4]])"
      ]
     },
     "execution_count": 412,
     "metadata": {},
     "output_type": "execute_result"
    }
   ],
   "source": [
    "d - c"
   ]
  },
  {
   "cell_type": "markdown",
   "id": "263b0718-a909-4f78-91cb-737e56d3fb64",
   "metadata": {},
   "source": [
    "#### 3. Multiplication"
   ]
  },
  {
   "cell_type": "code",
   "execution_count": 388,
   "id": "d9130816-2848-4e0f-a022-2f0c0beaa649",
   "metadata": {},
   "outputs": [
    {
     "data": {
      "text/plain": [
       "array([ 4, 10, 18])"
      ]
     },
     "execution_count": 388,
     "metadata": {},
     "output_type": "execute_result"
    }
   ],
   "source": [
    "a * b       "
   ]
  },
  {
   "cell_type": "code",
   "execution_count": 390,
   "id": "7a93dbcf-ad79-4f34-97d8-463ec11d14fe",
   "metadata": {},
   "outputs": [
    {
     "data": {
      "text/plain": [
       "array([ 4, 10, 18])"
      ]
     },
     "execution_count": 390,
     "metadata": {},
     "output_type": "execute_result"
    }
   ],
   "source": [
    "np.multiply(a, b)"
   ]
  },
  {
   "cell_type": "code",
   "execution_count": 414,
   "id": "28658c9f-0603-4fe8-a218-15e2d1fcc0a8",
   "metadata": {},
   "outputs": [
    {
     "data": {
      "text/plain": [
       "array([[ 5, 12],\n",
       "       [21, 32]])"
      ]
     },
     "execution_count": 414,
     "metadata": {},
     "output_type": "execute_result"
    }
   ],
   "source": [
    "c * d"
   ]
  },
  {
   "cell_type": "markdown",
   "id": "4ffbabe4-267a-45a0-a82a-528b02cf52d6",
   "metadata": {},
   "source": [
    "#### 4. Division"
   ]
  },
  {
   "cell_type": "code",
   "execution_count": 393,
   "id": "8585d99f-cd4a-40fd-9f06-64ec606fb94e",
   "metadata": {},
   "outputs": [
    {
     "data": {
      "text/plain": [
       "array([0.25, 0.4 , 0.5 ])"
      ]
     },
     "execution_count": 393,
     "metadata": {},
     "output_type": "execute_result"
    }
   ],
   "source": [
    "a / b  "
   ]
  },
  {
   "cell_type": "code",
   "execution_count": 395,
   "id": "8de7d0bd-2e67-4300-905a-b9b54f2d96f9",
   "metadata": {},
   "outputs": [
    {
     "data": {
      "text/plain": [
       "array([0.25, 0.4 , 0.5 ])"
      ]
     },
     "execution_count": 395,
     "metadata": {},
     "output_type": "execute_result"
    }
   ],
   "source": [
    "np.divide(a, b)"
   ]
  },
  {
   "cell_type": "code",
   "execution_count": 416,
   "id": "480e71c0-8f86-41b5-83c7-34400d26ac96",
   "metadata": {},
   "outputs": [
    {
     "data": {
      "text/plain": [
       "array([[5.        , 3.        ],\n",
       "       [2.33333333, 2.        ]])"
      ]
     },
     "execution_count": 416,
     "metadata": {},
     "output_type": "execute_result"
    }
   ],
   "source": [
    "d / c"
   ]
  },
  {
   "cell_type": "markdown",
   "id": "fb1e7460-ebf7-4ff1-964c-ee1f133cfcec",
   "metadata": {},
   "source": [
    "#### 5. Power"
   ]
  },
  {
   "cell_type": "code",
   "execution_count": 400,
   "id": "519a30e5-3903-4763-a2e3-36d1fd6c7b91",
   "metadata": {},
   "outputs": [
    {
     "data": {
      "text/plain": [
       "array([1, 4, 9])"
      ]
     },
     "execution_count": 400,
     "metadata": {},
     "output_type": "execute_result"
    }
   ],
   "source": [
    "a ** 2  "
   ]
  },
  {
   "cell_type": "code",
   "execution_count": 402,
   "id": "caa9f7b5-e8a5-43a7-afae-52a893901349",
   "metadata": {},
   "outputs": [
    {
     "data": {
      "text/plain": [
       "array([1, 4, 9])"
      ]
     },
     "execution_count": 402,
     "metadata": {},
     "output_type": "execute_result"
    }
   ],
   "source": [
    "np.power(a, 2)"
   ]
  },
  {
   "cell_type": "code",
   "execution_count": 404,
   "id": "c0766d9a-a884-47a7-9b27-5fa91e7a4110",
   "metadata": {},
   "outputs": [
    {
     "data": {
      "text/plain": [
       "array([0, 1, 0])"
      ]
     },
     "execution_count": 404,
     "metadata": {},
     "output_type": "execute_result"
    }
   ],
   "source": [
    "b % a        # Output: [0 1 0]\n",
    "np.mod(b, a)"
   ]
  },
  {
   "cell_type": "code",
   "execution_count": 418,
   "id": "b1df936b-52ea-4b26-b3be-c9bedb4488f5",
   "metadata": {},
   "outputs": [
    {
     "data": {
      "text/plain": [
       "array([[ 1,  4],\n",
       "       [ 9, 16]])"
      ]
     },
     "execution_count": 418,
     "metadata": {},
     "output_type": "execute_result"
    }
   ],
   "source": [
    "c ** 2"
   ]
  },
  {
   "cell_type": "markdown",
   "id": "e93728db-aad0-42e4-8247-44589aa65cd4",
   "metadata": {},
   "source": [
    "### 2. Broadcasting with Scalars/Scalar Operations"
   ]
  },
  {
   "cell_type": "markdown",
   "id": "61eb1b98-6090-4cc1-8a6a-98b29c6d900d",
   "metadata": {},
   "source": [
    "Operations can be done between an array and a single number (scalar), and NumPy automatically applies it to each element:"
   ]
  },
  {
   "cell_type": "code",
   "execution_count": 422,
   "id": "c3dd934e-492a-4102-a7e1-b3b92d0ccbc9",
   "metadata": {},
   "outputs": [
    {
     "data": {
      "text/plain": [
       "array([6, 7, 8])"
      ]
     },
     "execution_count": 422,
     "metadata": {},
     "output_type": "execute_result"
    }
   ],
   "source": [
    "a = np.array([1, 2, 3])\n",
    "\n",
    "a + 5  "
   ]
  },
  {
   "cell_type": "code",
   "execution_count": 424,
   "id": "56666282-3e36-452e-9988-0415171f91a1",
   "metadata": {},
   "outputs": [
    {
     "data": {
      "text/plain": [
       "array([1, 2, 3])"
      ]
     },
     "execution_count": 424,
     "metadata": {},
     "output_type": "execute_result"
    }
   ],
   "source": [
    "a"
   ]
  },
  {
   "cell_type": "code",
   "execution_count": 426,
   "id": "5dbffada-c26d-4af0-8e30-c65c0a271b7b",
   "metadata": {},
   "outputs": [
    {
     "data": {
      "text/plain": [
       "array([10, 20, 30])"
      ]
     },
     "execution_count": 426,
     "metadata": {},
     "output_type": "execute_result"
    }
   ],
   "source": [
    "a * 10  "
   ]
  },
  {
   "cell_type": "code",
   "execution_count": 428,
   "id": "e9bcbfd8-b4c5-43ac-82aa-60f59b36d333",
   "metadata": {},
   "outputs": [
    {
     "data": {
      "text/plain": [
       "array([1, 4, 9])"
      ]
     },
     "execution_count": 428,
     "metadata": {},
     "output_type": "execute_result"
    }
   ],
   "source": [
    "a ** 2 "
   ]
  },
  {
   "cell_type": "code",
   "execution_count": 430,
   "id": "40de8aa0-4c9a-44c1-b661-e1ba4d553a6e",
   "metadata": {},
   "outputs": [
    {
     "data": {
      "text/plain": [
       "array([1, 2, 3])"
      ]
     },
     "execution_count": 430,
     "metadata": {},
     "output_type": "execute_result"
    }
   ],
   "source": [
    "a"
   ]
  },
  {
   "cell_type": "code",
   "execution_count": 432,
   "id": "d8902070-1f49-444c-b735-5ef31238c4fe",
   "metadata": {},
   "outputs": [
    {
     "data": {
      "text/plain": [
       "array([4, 5, 6])"
      ]
     },
     "execution_count": 432,
     "metadata": {},
     "output_type": "execute_result"
    }
   ],
   "source": [
    "b"
   ]
  },
  {
   "cell_type": "code",
   "execution_count": 440,
   "id": "c82c386b-34c5-4b26-9ef8-f5f04a869962",
   "metadata": {},
   "outputs": [
    {
     "name": "stdout",
     "output_type": "stream",
     "text": [
      "[[11 21 31]\n",
      " [12 22 32]\n",
      " [13 23 33]]\n"
     ]
    }
   ],
   "source": [
    "a = np.array([[1], [2], [3]])\n",
    "b = np.array([10, 20, 30])\n",
    "print(a + b)"
   ]
  },
  {
   "cell_type": "markdown",
   "id": "a9fb7061-1760-4210-ab10-1359cff01234",
   "metadata": {},
   "source": [
    "### Aggregation Functions\n",
    "#### What are Aggregation Functions?\n",
    "* Aggregation functions reduce an array to a single value (like a sum, mean, etc.), or collapse dimensions using statistical operations.\n",
    "* They help you summarize data:\n",
    "    * How many? (count)\n",
    "    * How big? (max, min)\n",
    "    * What’s the average? (mean)\n",
    "    * How spread out? (std, var)\n",
    "####  Common Aggregation Functions\n",
    "| Function    | Description             |\n",
    "| ----------- | ----------------------- |\n",
    "| `sum()`     | Total of all elements   |\n",
    "| `min()`     | Smallest element        |\n",
    "| `max()`     | Largest element         |\n",
    "| `mean()`    | Average of all elements |\n",
    "| `std()`     | Standard deviation      |\n",
    "| `var()`     | Variance                |\n",
    "| `prod()`    | Product of all elements |\n",
    "| `cumsum()`  | Cumulative sum          |\n",
    "| `cumprod()` | Cumulative product      |\n",
    "| `argmin()`  | Index of minimum value  |\n",
    "| `argmax()`  | Index of maximum value  |\n"
   ]
  },
  {
   "cell_type": "code",
   "execution_count": 475,
   "id": "ee4e3605-d975-4836-9bca-8dbf1a38e945",
   "metadata": {},
   "outputs": [],
   "source": [
    "a = np.array([[1, 2, 3],\n",
    "              [4, 5, 6]])"
   ]
  },
  {
   "cell_type": "markdown",
   "id": "ff7f2faa-3825-44dd-a2e0-79ceb9eac796",
   "metadata": {},
   "source": [
    "#### Basic Aggregations"
   ]
  },
  {
   "cell_type": "code",
   "execution_count": 477,
   "id": "a5a98ef1-62de-48be-9d07-16ba0b2b7245",
   "metadata": {},
   "outputs": [
    {
     "name": "stdout",
     "output_type": "stream",
     "text": [
      "Sum: 21\n",
      "Minimum: 1\n",
      "Maximum: 6\n",
      "Mean: 3.5\n",
      "Standard Deviation: 1.707825127659933\n",
      "Variance: 2.9166666666666665\n",
      "Product of all elements: 720\n",
      "Mean of all elements: 3.5\n"
     ]
    }
   ],
   "source": [
    "print(\"Sum:\", np.sum(a))             # 21\n",
    "print(\"Minimum:\", np.min(a))         # 1\n",
    "print(\"Maximum:\", np.max(a))         # 6\n",
    "print(\"Mean:\", np.mean(a))           # 3.5\n",
    "print(\"Standard Deviation:\", np.std(a))   # ~1.707\n",
    "print(\"Variance:\", np.var(a))             # ~2.916\n",
    "print(\"Product of all elements:\", np.prod(a))\n",
    "print(\"Mean of all elements:\",np.mean(a))"
   ]
  },
  {
   "cell_type": "markdown",
   "id": "a08db584-848f-4ad9-8fbe-9f93f9cd4d3f",
   "metadata": {},
   "source": [
    "#### Aggregation by Axis"
   ]
  },
  {
   "cell_type": "code",
   "execution_count": 452,
   "id": "0bf50f63-94f3-4701-8be7-eb7a3581976e",
   "metadata": {},
   "outputs": [
    {
     "data": {
      "text/plain": [
       "array([5, 7, 9])"
      ]
     },
     "execution_count": 452,
     "metadata": {},
     "output_type": "execute_result"
    }
   ],
   "source": [
    "np.sum(a, axis=0) # → column-wise sum"
   ]
  },
  {
   "cell_type": "code",
   "execution_count": 454,
   "id": "5b960b23-4188-4977-bb0a-38ec7770d421",
   "metadata": {},
   "outputs": [
    {
     "data": {
      "text/plain": [
       "array([ 6, 15])"
      ]
     },
     "execution_count": 454,
     "metadata": {},
     "output_type": "execute_result"
    }
   ],
   "source": [
    "np.sum(a, axis=1) #→ row-wise sum"
   ]
  },
  {
   "cell_type": "markdown",
   "id": "46a9a8cd-2b2c-4735-8f13-e3e358a4cc10",
   "metadata": {},
   "source": [
    "#### Cumulative Functions"
   ]
  },
  {
   "cell_type": "code",
   "execution_count": 457,
   "id": "0b732dd5-d98c-46f8-bb46-f256830ee1db",
   "metadata": {},
   "outputs": [
    {
     "data": {
      "text/plain": [
       "array([[1, 2, 3],\n",
       "       [4, 5, 6]])"
      ]
     },
     "execution_count": 457,
     "metadata": {},
     "output_type": "execute_result"
    }
   ],
   "source": [
    "a"
   ]
  },
  {
   "cell_type": "code",
   "execution_count": 459,
   "id": "b300b318-b636-4982-afd1-a77b75b1dbb5",
   "metadata": {},
   "outputs": [
    {
     "data": {
      "text/plain": [
       "array([ 1,  3,  6, 10, 15, 21])"
      ]
     },
     "execution_count": 459,
     "metadata": {},
     "output_type": "execute_result"
    }
   ],
   "source": [
    "np.cumsum(a)"
   ]
  },
  {
   "cell_type": "code",
   "execution_count": 461,
   "id": "e016a637-c402-498c-b444-bac2bacf3179",
   "metadata": {},
   "outputs": [
    {
     "data": {
      "text/plain": [
       "array([  1,   2,   6,  24, 120, 720])"
      ]
     },
     "execution_count": 461,
     "metadata": {},
     "output_type": "execute_result"
    }
   ],
   "source": [
    "np.cumprod(a)"
   ]
  },
  {
   "cell_type": "markdown",
   "id": "c5bc8945-3d18-4284-a507-3c6d71fb9d39",
   "metadata": {},
   "source": [
    "#### Index of Min/Max"
   ]
  },
  {
   "cell_type": "code",
   "execution_count": 471,
   "id": "e46d6f98-1451-4787-9f31-d56ba7717186",
   "metadata": {},
   "outputs": [
    {
     "name": "stdout",
     "output_type": "stream",
     "text": [
      "0\n",
      "1\n"
     ]
    }
   ],
   "source": [
    "print(np.argmax(a))  # 5 → position of largest value (6)\n",
    "print(np.argmin(a))   # 0 → position of smallest value (1)\n"
   ]
  },
  {
   "cell_type": "markdown",
   "id": "336538c8-b9d9-4a97-835e-599c88235660",
   "metadata": {},
   "source": [
    "### Sorting and Searching in NumPy\n",
    "#### 1. Sorting\n",
    "* NumPy provides multiple ways to sort arrays, either in-place or by returning a sorted copy.\n",
    "\n",
    "  \n",
    "#### 1. np.sort()\n",
    "* Returns a sorted copy of the array\n",
    "* Can specify axis and order\n",
    "* Sytax -- np.sort(array, axis=-1, kind='quicksort')\n",
    "    * axis: default is -1 (last axis)\n",
    "    * kind: 'quicksort', 'mergesort', 'heapsort', 'stable'"
   ]
  },
  {
   "cell_type": "code",
   "execution_count": 481,
   "id": "a225a23a-1e01-4cac-8498-1aff8678d57d",
   "metadata": {},
   "outputs": [
    {
     "name": "stdout",
     "output_type": "stream",
     "text": [
      "Original:\n",
      " [[3 1 2]\n",
      " [6 4 5]]\n",
      "\n",
      "Sorted along rows (axis=1):\n",
      " [[1 2 3]\n",
      " [4 5 6]]\n",
      "\n",
      "Sorted along columns (axis=0):\n",
      " [[3 1 2]\n",
      " [6 4 5]]\n"
     ]
    }
   ],
   "source": [
    "a = np.array([[3, 1, 2],\n",
    "              [6, 4, 5]])\n",
    "\n",
    "print(\"Original:\\n\", a)\n",
    "\n",
    "print(\"\\nSorted along rows (axis=1):\\n\", np.sort(a, axis=1))\n",
    "\n",
    "print(\"\\nSorted along columns (axis=0):\\n\", np.sort(a, axis=0))"
   ]
  },
  {
   "cell_type": "code",
   "execution_count": 483,
   "id": "e60ed2be-24d8-4cf7-8292-8e12981527b2",
   "metadata": {},
   "outputs": [
    {
     "data": {
      "text/plain": [
       "array([[3, 1, 2],\n",
       "       [6, 4, 5]])"
      ]
     },
     "execution_count": 483,
     "metadata": {},
     "output_type": "execute_result"
    }
   ],
   "source": [
    "a"
   ]
  },
  {
   "cell_type": "markdown",
   "id": "3de0a2bb-c97c-49c9-ad28-22619b971ef1",
   "metadata": {},
   "source": [
    "#### 2.np.argsort()\n",
    "Returns the indices that would sort an array."
   ]
  },
  {
   "cell_type": "code",
   "execution_count": 487,
   "id": "5fa6b711-8ea0-4cfb-8ef0-ff831612be37",
   "metadata": {},
   "outputs": [
    {
     "name": "stdout",
     "output_type": "stream",
     "text": [
      "[1 2 0]\n"
     ]
    }
   ],
   "source": [
    "x = np.array([3, 1, 2])\n",
    "print(np.argsort(x)) "
   ]
  },
  {
   "cell_type": "markdown",
   "id": "e0d45c84-76e1-4221-8c36-dfeb6adcc284",
   "metadata": {},
   "source": [
    "#### 3. np.lexsort()\n",
    "Performs indirect sort by multiple keys (like sorting by last name, then first name)."
   ]
  },
  {
   "cell_type": "code",
   "execution_count": 498,
   "id": "b1664f3d-e984-4464-bb09-f53b03488aea",
   "metadata": {},
   "outputs": [
    {
     "name": "stdout",
     "output_type": "stream",
     "text": [
      "[1 0 2]\n"
     ]
    }
   ],
   "source": [
    "last = np.array(['Smith', 'Aones', 'Williams'])\n",
    "first = np.array(['John', 'zdam', 'zdam'])\n",
    "\n",
    "print(np.lexsort((first, last))) # Sorts by last name, then first name"
   ]
  },
  {
   "cell_type": "markdown",
   "id": "7aad78de-7c95-4c7f-a045-24c2d1b378aa",
   "metadata": {},
   "source": [
    "### 2. Searching\n",
    "#### 1. np.where()\n",
    "Returns indices where a condition is true."
   ]
  },
  {
   "cell_type": "code",
   "execution_count": 501,
   "id": "6c5a4259-0982-4a6a-9a27-ddaf2795de82",
   "metadata": {},
   "outputs": [
    {
     "name": "stdout",
     "output_type": "stream",
     "text": [
      "(array([2, 3]),)\n"
     ]
    }
   ],
   "source": [
    "a = np.array([10, 15, 20, 25])\n",
    "print(np.where(a > 15))  # Output: (array([2, 3]),)\n"
   ]
  },
  {
   "cell_type": "code",
   "execution_count": 503,
   "id": "5f4515a8-c06c-4c79-87d3-95611b979e4e",
   "metadata": {},
   "outputs": [
    {
     "data": {
      "text/plain": [
       "array([0, 0, 1, 1])"
      ]
     },
     "execution_count": 503,
     "metadata": {},
     "output_type": "execute_result"
    }
   ],
   "source": [
    "np.where(a > 15, 1, 0) #You can also use it for conditional replacement:"
   ]
  },
  {
   "cell_type": "markdown",
   "id": "580cd9fe-65c7-4238-a0ff-867f623e16aa",
   "metadata": {},
   "source": [
    "#### 2. np.searchsorted()\n",
    "Finds insertion index to maintain order in a sorted array."
   ]
  },
  {
   "cell_type": "code",
   "execution_count": 507,
   "id": "35703b53-332a-48f8-aecc-e710279d4ed3",
   "metadata": {},
   "outputs": [
    {
     "name": "stdout",
     "output_type": "stream",
     "text": [
      "2\n"
     ]
    }
   ],
   "source": [
    "a = np.array([1, 3, 5, 7])\n",
    "print(np.searchsorted(a, 4))  # Output: 2\n"
   ]
  },
  {
   "cell_type": "markdown",
   "id": "72fbac9a-ab2f-4cf0-b7bd-5f46878dc6b5",
   "metadata": {},
   "source": [
    "#### 3. np.nonzero()\n",
    "Returns the indices of non-zero elements."
   ]
  },
  {
   "cell_type": "code",
   "execution_count": 510,
   "id": "61abe70d-ecca-49ec-b072-93bf6725aa86",
   "metadata": {},
   "outputs": [
    {
     "data": {
      "text/plain": [
       "(array([1, 3]),)"
      ]
     },
     "execution_count": 510,
     "metadata": {},
     "output_type": "execute_result"
    }
   ],
   "source": [
    "x = np.array([0, 3, 0, 4])\n",
    "np.nonzero(x)"
   ]
  },
  {
   "cell_type": "markdown",
   "id": "d299c2c3-788f-4967-bfc8-088a750062eb",
   "metadata": {},
   "source": [
    "| Function            | Description                                 |\n",
    "| ------------------- | ------------------------------------------- |\n",
    "| `np.sort()`         | Sort values in array                        |\n",
    "| `np.argsort()`      | Indices that would sort the array           |\n",
    "| `np.lexsort()`      | Multi-key sorting                           |\n",
    "| `np.where()`        | Indices (or values) where condition is True |\n",
    "| `np.searchsorted()` | Find index where element should be inserted |\n",
    "| `np.nonzero()`      | Indices of non-zero elements                |\n"
   ]
  },
  {
   "cell_type": "code",
   "execution_count": null,
   "id": "fd2e1dc4-d55a-4d33-a58d-29311d39da91",
   "metadata": {},
   "outputs": [],
   "source": []
  }
 ],
 "metadata": {
  "kernelspec": {
   "display_name": "Python [conda env:anaconda3-Data_Science]",
   "language": "python",
   "name": "conda-env-anaconda3-Data_Science-py"
  },
  "language_info": {
   "codemirror_mode": {
    "name": "ipython",
    "version": 3
   },
   "file_extension": ".py",
   "mimetype": "text/x-python",
   "name": "python",
   "nbconvert_exporter": "python",
   "pygments_lexer": "ipython3",
   "version": "3.13.1"
  }
 },
 "nbformat": 4,
 "nbformat_minor": 5
}
