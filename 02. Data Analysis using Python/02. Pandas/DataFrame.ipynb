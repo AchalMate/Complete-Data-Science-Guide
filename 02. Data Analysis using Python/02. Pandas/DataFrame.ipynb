{
 "cells": [
  {
   "cell_type": "markdown",
   "id": "c3c9b382-3c3f-405d-8ee3-1d3f951d52dd",
   "metadata": {},
   "source": [
    "### What is a DataFrame?\n",
    "\n",
    "- A **DataFrame** is a two-dimensional, size-mutable, heterogeneous **tabular data structure** with labeled axes:\n",
    "  - **Rows** → `index`\n",
    "  - **Columns** → `column labels`\n",
    "\n",
    "- Think of it like:\n",
    "  - A spreadsheet (Excel)\n",
    "  - A SQL table\n",
    "  - A dictionary of Series (columns share the same row index)\n",
    "\n",
    "###  Why use a DataFrame?\n",
    "- Easy and intuitive **row/column selection**\n",
    "- Built-in support for **missing data handling**\n",
    "- Powerful **grouping and aggregation** tools\n",
    "- Seamless **I/O with CSV, Excel, SQL, JSON**, and more\n",
    "- Built on **NumPy** → **fast** and **vectorized** computations\n",
    "\n",
    "---\n",
    "\n",
    "### Creating a DataFrame \n",
    "#### 1. from a Dictionary\n",
    "\n",
    "####  Syntax:\n",
    "```python\n",
    "pd.DataFrame(data, index=None, columns=None, dtype=None)\n",
    "Rule of thumb: Each key becomes a column; each value supplies that column’s data."
   ]
  },
  {
   "cell_type": "markdown",
   "id": "ab8c6715-a629-4fbf-8df3-b79cd611bae9",
   "metadata": {},
   "source": [
    "#### Variant A – Dict of Lists / Arrays"
   ]
  },
  {
   "cell_type": "code",
   "execution_count": 7,
   "id": "9b0dba05-76d4-4135-8658-94acb274d06d",
   "metadata": {},
   "outputs": [
    {
     "name": "stdout",
     "output_type": "stream",
     "text": [
      "   Name  Age\n",
      "0   Ana   23\n",
      "1   Ben   25\n",
      "2  Cara   22\n"
     ]
    }
   ],
   "source": [
    "import pandas as pd\n",
    "\n",
    "# 1 – Basic numeric data\n",
    "data = {'Name': ['Ana', 'Ben', 'Cara'],\n",
    "        'Age':  [23,   25,   22]}\n",
    "df1 = pd.DataFrame(data)\n",
    "print(df1)\n"
   ]
  },
  {
   "cell_type": "code",
   "execution_count": 9,
   "id": "da84d81a-a667-431a-affa-7e0a921814bb",
   "metadata": {},
   "outputs": [
    {
     "data": {
      "text/html": [
       "<div>\n",
       "<style scoped>\n",
       "    .dataframe tbody tr th:only-of-type {\n",
       "        vertical-align: middle;\n",
       "    }\n",
       "\n",
       "    .dataframe tbody tr th {\n",
       "        vertical-align: top;\n",
       "    }\n",
       "\n",
       "    .dataframe thead th {\n",
       "        text-align: right;\n",
       "    }\n",
       "</style>\n",
       "<table border=\"1\" class=\"dataframe\">\n",
       "  <thead>\n",
       "    <tr style=\"text-align: right;\">\n",
       "      <th></th>\n",
       "      <th>Name</th>\n",
       "      <th>Age</th>\n",
       "    </tr>\n",
       "  </thead>\n",
       "  <tbody>\n",
       "    <tr>\n",
       "      <th>0</th>\n",
       "      <td>Ana</td>\n",
       "      <td>23</td>\n",
       "    </tr>\n",
       "    <tr>\n",
       "      <th>1</th>\n",
       "      <td>Ben</td>\n",
       "      <td>25</td>\n",
       "    </tr>\n",
       "    <tr>\n",
       "      <th>2</th>\n",
       "      <td>Cara</td>\n",
       "      <td>22</td>\n",
       "    </tr>\n",
       "  </tbody>\n",
       "</table>\n",
       "</div>"
      ],
      "text/plain": [
       "   Name  Age\n",
       "0   Ana   23\n",
       "1   Ben   25\n",
       "2  Cara   22"
      ]
     },
     "execution_count": 9,
     "metadata": {},
     "output_type": "execute_result"
    }
   ],
   "source": [
    "df1"
   ]
  },
  {
   "cell_type": "markdown",
   "id": "89404d6e-8c2a-4efb-af1d-a8f0a2cfd5a8",
   "metadata": {},
   "source": [
    "#### 2 – Mixed dtypes + custom row index"
   ]
  },
  {
   "cell_type": "code",
   "execution_count": 11,
   "id": "d887d8e1-26e1-4364-ad5d-18e7d5086da3",
   "metadata": {},
   "outputs": [
    {
     "name": "stdout",
     "output_type": "stream",
     "text": [
      "       City  Temp_C  Humidity\n",
      "Mon    Pune    32.0        60\n",
      "Tue   Delhi    36.5        55\n",
      "Wed  Mumbai    34.2        70\n"
     ]
    }
   ],
   "source": [
    "data = {'City':     ['Pune', 'Delhi', 'Mumbai'],\n",
    "        'Temp_C':   [32.0,   36.5,    34.2],\n",
    "        'Humidity': [60,     55,      70]}\n",
    "df2 = pd.DataFrame(data, index=['Mon', 'Tue', 'Wed'])\n",
    "print(df2)\n"
   ]
  },
  {
   "cell_type": "markdown",
   "id": "85fd8991-14c8-4a84-bf5e-78d57ba966e6",
   "metadata": {},
   "source": [
    "#### 3 – Select / reorder columns at construction"
   ]
  },
  {
   "cell_type": "code",
   "execution_count": 15,
   "id": "a7e619e5-41d7-41fc-bff9-acc3d6570fa8",
   "metadata": {},
   "outputs": [
    {
     "name": "stdout",
     "output_type": "stream",
     "text": [
      "     Temp_C    City\n",
      "Mon    32.0    Pune\n",
      "Tue    36.5   Delhi\n",
      "Wed    34.2  Mumbai\n"
     ]
    }
   ],
   "source": [
    "cols = ['Temp_C', 'City']          # omit Humidity on purpose\n",
    "df3  = pd.DataFrame(data, columns=cols, index=['Mon', 'Tue', 'Wed'])\n",
    "print(df3)\n"
   ]
  },
  {
   "cell_type": "code",
   "execution_count": 17,
   "id": "5246a592-62b4-44c9-aa13-bd107c60c7f4",
   "metadata": {},
   "outputs": [
    {
     "name": "stdout",
     "output_type": "stream",
     "text": [
      "       City  Humidity\n",
      "Mon    Pune        60\n",
      "Tue   Delhi        55\n",
      "Wed  Mumbai        70\n"
     ]
    }
   ],
   "source": [
    "cols = ['City','Humidity']          # omit Humidity on purpose\n",
    "df3  = pd.DataFrame(data, columns=cols, index=['Mon', 'Tue', 'Wed'])\n",
    "print(df3)"
   ]
  },
  {
   "cell_type": "markdown",
   "id": "feed1531-4449-4cd9-a4c6-00fb18b7634b",
   "metadata": {},
   "source": [
    "### Variant B — Creating a DataFrame from a **Dictionary of Series**\n",
    "\n",
    "> **Pattern** `pd.DataFrame({col_name: series, …}, index=None)`\n",
    "\n",
    " 🧩 Key Ideas \n",
    "- **Column mapping**  \n",
    "  - Each **dictionary key** becomes a **column label** in the new DataFrame.  \n",
    "  - Each **value** must be a **`pd.Series` object** (not just a list/array).\n",
    "\n",
    "- **Automatic row‑index union**  \n",
    "  - Pandas takes the **union** of the indexes of all supplied Series to build the DataFrame’s **row index**.  \n",
    "  - This behaves like a full outer join on the row labels.\n",
    "\n",
    "- **Label‑based alignment**  \n",
    "  - Values align **by matching index labels**, not by positional order.  \n",
    "  - If a Series lacks a label present in the union, Pandas inserts **`NaN`** (or `pd.NA` for new dtypes).\n",
    "\n",
    "- **Data type preservation**  \n",
    "  - Each column keeps the **dtype** of its originating Series.  \n",
    "  - Missing values may up‑cast integers to `float64` (or to `Int64` with nullable dtypes).\n",
    "\n",
    "- **Optional `index=` argument**  \n",
    "  - Supplying an explicit `index` lets you **re‑index** every Series to that exact label set.  \n",
    "  - Any labels in `index` but absent from a Series → filled with `NaN`.  \n",
    "  - Labels present in a Series but **not** in `index` are **dropped**.\n",
    "\n",
    "- **Order & subset control**  \n",
    "  - Use the `columns=` parameter to **select** or **re‑order** columns independent of the dict’s key order.\n",
    "\n",
    "- **Memory view vs copy**  \n",
    "  - The DataFrame **references** the original Series data when possible (no deep copy), so updating a Series **after** construction does **not** affect the DataFrame.\n",
    "\n",
    "- **Typical use cases**  \n",
    "  - Combining multiple pre‑computed Series (e.g., KPI time‑series) into a single table.  \n",
    "  - Aligning disparate data feeds that share some, but not all, time stamps or IDs.\n",
    "\n",
    "- **Performance note**  \n",
    "  - Large, sparsely overlapping indexes can explode memory usage because of many `NaN`s. Consider merging/joining selectively when union size is huge.\n",
    "\n",
    "- **Edge cases**  \n",
    "  - **Duplicate labels** inside a Series are **preserved**; the DataFrame can have non‑unique row index.  \n",
    "  - If **all Series share identical index labels**, the result is equivalent to joining on that exact index (no `NaN`s introduced).\n",
    "\n",
    "#### Rule of Thumb\n",
    "> *“A DataFrame built from a dict of Series behaves like an **outer join on the row labels**, forming one column per Series.”*\n"
   ]
  },
  {
   "cell_type": "code",
   "execution_count": 32,
   "id": "c811432e-40ba-4035-bd33-918d902c3eef",
   "metadata": {},
   "outputs": [
    {
     "name": "stdout",
     "output_type": "stream",
     "text": [
      "    Sales  Profit\n",
      "Q1  250.0    80.0\n",
      "Q2  300.0     NaN\n",
      "Q3  400.0     NaN\n",
      "Q4    NaN   110.0\n"
     ]
    }
   ],
   "source": [
    "s_sales  = pd.Series([250, 300, 400], index=['Q1', 'Q2', 'Q3'])\n",
    "s_profit = pd.Series([ 80, 110],      index=['Q1', 'Q4'])\n",
    "df4 = pd.DataFrame({'Sales': s_sales, 'Profit': s_profit})\n",
    "print(df4)\n"
   ]
  },
  {
   "cell_type": "markdown",
   "id": "7fc14e53-0247-44b2-877b-525940bccf0c",
   "metadata": {},
   "source": [
    "#### 2 – Supplying an explicit overall index"
   ]
  },
  {
   "cell_type": "code",
   "execution_count": 37,
   "id": "e74cf6d9-fe21-49a0-bc4c-4a0722fe825c",
   "metadata": {},
   "outputs": [
    {
     "data": {
      "text/html": [
       "<div>\n",
       "<style scoped>\n",
       "    .dataframe tbody tr th:only-of-type {\n",
       "        vertical-align: middle;\n",
       "    }\n",
       "\n",
       "    .dataframe tbody tr th {\n",
       "        vertical-align: top;\n",
       "    }\n",
       "\n",
       "    .dataframe thead th {\n",
       "        text-align: right;\n",
       "    }\n",
       "</style>\n",
       "<table border=\"1\" class=\"dataframe\">\n",
       "  <thead>\n",
       "    <tr style=\"text-align: right;\">\n",
       "      <th></th>\n",
       "      <th>Sales</th>\n",
       "      <th>Profit</th>\n",
       "    </tr>\n",
       "  </thead>\n",
       "  <tbody>\n",
       "    <tr>\n",
       "      <th>Q1</th>\n",
       "      <td>250.0</td>\n",
       "      <td>80.0</td>\n",
       "    </tr>\n",
       "    <tr>\n",
       "      <th>Q2</th>\n",
       "      <td>300.0</td>\n",
       "      <td>NaN</td>\n",
       "    </tr>\n",
       "    <tr>\n",
       "      <th>Q3</th>\n",
       "      <td>400.0</td>\n",
       "      <td>NaN</td>\n",
       "    </tr>\n",
       "    <tr>\n",
       "      <th>Q5</th>\n",
       "      <td>NaN</td>\n",
       "      <td>NaN</td>\n",
       "    </tr>\n",
       "  </tbody>\n",
       "</table>\n",
       "</div>"
      ],
      "text/plain": [
       "    Sales  Profit\n",
       "Q1  250.0    80.0\n",
       "Q2  300.0     NaN\n",
       "Q3  400.0     NaN\n",
       "Q5    NaN     NaN"
      ]
     },
     "execution_count": 37,
     "metadata": {},
     "output_type": "execute_result"
    }
   ],
   "source": [
    "df5 = pd.DataFrame({'Sales': s_sales, 'Profit': s_profit},\n",
    "                   index=['Q1', 'Q2', 'Q3', 'Q5'])\n",
    "df5"
   ]
  },
  {
   "cell_type": "markdown",
   "id": "d0d64442-a4c5-458c-aa0b-ddc0a8131981",
   "metadata": {},
   "source": [
    "### 3 – Adding a constant (scalar) column"
   ]
  },
  {
   "cell_type": "code",
   "execution_count": 40,
   "id": "14d0add6-987a-419d-b18c-28f0af199664",
   "metadata": {},
   "outputs": [
    {
     "data": {
      "text/html": [
       "<div>\n",
       "<style scoped>\n",
       "    .dataframe tbody tr th:only-of-type {\n",
       "        vertical-align: middle;\n",
       "    }\n",
       "\n",
       "    .dataframe tbody tr th {\n",
       "        vertical-align: top;\n",
       "    }\n",
       "\n",
       "    .dataframe thead th {\n",
       "        text-align: right;\n",
       "    }\n",
       "</style>\n",
       "<table border=\"1\" class=\"dataframe\">\n",
       "  <thead>\n",
       "    <tr style=\"text-align: right;\">\n",
       "      <th></th>\n",
       "      <th>Sales</th>\n",
       "      <th>Profit</th>\n",
       "      <th>Currency</th>\n",
       "    </tr>\n",
       "  </thead>\n",
       "  <tbody>\n",
       "    <tr>\n",
       "      <th>Q1</th>\n",
       "      <td>250.0</td>\n",
       "      <td>80.0</td>\n",
       "      <td>INR</td>\n",
       "    </tr>\n",
       "    <tr>\n",
       "      <th>Q2</th>\n",
       "      <td>300.0</td>\n",
       "      <td>NaN</td>\n",
       "      <td>INR</td>\n",
       "    </tr>\n",
       "    <tr>\n",
       "      <th>Q3</th>\n",
       "      <td>400.0</td>\n",
       "      <td>NaN</td>\n",
       "      <td>INR</td>\n",
       "    </tr>\n",
       "    <tr>\n",
       "      <th>Q5</th>\n",
       "      <td>NaN</td>\n",
       "      <td>NaN</td>\n",
       "      <td>INR</td>\n",
       "    </tr>\n",
       "  </tbody>\n",
       "</table>\n",
       "</div>"
      ],
      "text/plain": [
       "    Sales  Profit Currency\n",
       "Q1  250.0    80.0      INR\n",
       "Q2  300.0     NaN      INR\n",
       "Q3  400.0     NaN      INR\n",
       "Q5    NaN     NaN      INR"
      ]
     },
     "execution_count": 40,
     "metadata": {},
     "output_type": "execute_result"
    }
   ],
   "source": [
    "df5['Currency'] = 'INR'\n",
    "df5"
   ]
  },
  {
   "cell_type": "markdown",
   "id": "7bb9b8f4-34a8-4591-924e-493a86957548",
   "metadata": {},
   "source": [
    "### Variant C – Creating a DataFrame from a **Nested Dictionary**\n",
    "> Pattern: `pd.DataFrame({col1: {row1: val1, …}, col2: {…}})`\n",
    "\n",
    "---\n",
    "\n",
    "\n",
    "#### 🔹 1. Outer keys ➜ Columns\n",
    "- Each **outer dictionary key** becomes a **column label**.\n",
    "- Each **inner dictionary** contains key–value pairs where:\n",
    "  - **Inner keys** become **row labels (index)**.\n",
    "  - **Inner values** become **data values** in the respective column.\n"
   ]
  },
  {
   "cell_type": "code",
   "execution_count": 45,
   "id": "e1469eb1-9d00-4583-bb47-dce8a626cd61",
   "metadata": {},
   "outputs": [
    {
     "data": {
      "text/html": [
       "<div>\n",
       "<style scoped>\n",
       "    .dataframe tbody tr th:only-of-type {\n",
       "        vertical-align: middle;\n",
       "    }\n",
       "\n",
       "    .dataframe tbody tr th {\n",
       "        vertical-align: top;\n",
       "    }\n",
       "\n",
       "    .dataframe thead th {\n",
       "        text-align: right;\n",
       "    }\n",
       "</style>\n",
       "<table border=\"1\" class=\"dataframe\">\n",
       "  <thead>\n",
       "    <tr style=\"text-align: right;\">\n",
       "      <th></th>\n",
       "      <th>Math</th>\n",
       "      <th>Sci</th>\n",
       "    </tr>\n",
       "  </thead>\n",
       "  <tbody>\n",
       "    <tr>\n",
       "      <th>Alice</th>\n",
       "      <td>85.0</td>\n",
       "      <td>NaN</td>\n",
       "    </tr>\n",
       "    <tr>\n",
       "      <th>Bob</th>\n",
       "      <td>78.0</td>\n",
       "      <td>82.0</td>\n",
       "    </tr>\n",
       "    <tr>\n",
       "      <th>Cara</th>\n",
       "      <td>NaN</td>\n",
       "      <td>91.0</td>\n",
       "    </tr>\n",
       "  </tbody>\n",
       "</table>\n",
       "</div>"
      ],
      "text/plain": [
       "       Math   Sci\n",
       "Alice  85.0   NaN\n",
       "Bob    78.0  82.0\n",
       "Cara    NaN  91.0"
      ]
     },
     "execution_count": 45,
     "metadata": {},
     "output_type": "execute_result"
    }
   ],
   "source": [
    "nested = {'Math': {'Alice': 85, 'Bob': 78},\n",
    "          'Sci' : {'Bob': 82, 'Cara': 91}}\n",
    "df6 = pd.DataFrame(nested)\n",
    "df6"
   ]
  },
  {
   "cell_type": "code",
   "execution_count": null,
   "id": "797269c1-5a8d-47c8-9659-14cbf88c7c80",
   "metadata": {},
   "outputs": [],
   "source": []
  }
 ],
 "metadata": {
  "kernelspec": {
   "display_name": "Python [conda env:base] *",
   "language": "python",
   "name": "conda-base-py"
  },
  "language_info": {
   "codemirror_mode": {
    "name": "ipython",
    "version": 3
   },
   "file_extension": ".py",
   "mimetype": "text/x-python",
   "name": "python",
   "nbconvert_exporter": "python",
   "pygments_lexer": "ipython3",
   "version": "3.12.7"
  }
 },
 "nbformat": 4,
 "nbformat_minor": 5
}
