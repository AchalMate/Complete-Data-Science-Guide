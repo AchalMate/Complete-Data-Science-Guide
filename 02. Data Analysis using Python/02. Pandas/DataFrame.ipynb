{
 "cells": [
  {
   "cell_type": "markdown",
   "id": "c3c9b382-3c3f-405d-8ee3-1d3f951d52dd",
   "metadata": {},
   "source": [
    "### What is a DataFrame?\n",
    "\n",
    "- A **DataFrame** is a two-dimensional, size-mutable, heterogeneous **tabular data structure** with labeled axes:\n",
    "  - **Rows** → `index`\n",
    "  - **Columns** → `column labels`\n",
    "\n",
    "- Think of it like:\n",
    "  - A spreadsheet (Excel)\n",
    "  - A SQL table\n",
    "  - A dictionary of Series (columns share the same row index)\n",
    "\n",
    "###  Why use a DataFrame?\n",
    "- Easy and intuitive **row/column selection**\n",
    "- Built-in support for **missing data handling**\n",
    "- Powerful **grouping and aggregation** tools\n",
    "- Seamless **I/O with CSV, Excel, SQL, JSON**, and more\n",
    "- Built on **NumPy** → **fast** and **vectorized** computations\n",
    "\n",
    "---\n",
    "\n",
    "### Creating a DataFrame \n",
    "#### 1. from a Dictionary\n",
    "\n",
    "####  Syntax:\n",
    "```python\n",
    "pd.DataFrame(data, index=None, columns=None, dtype=None)\n",
    "Rule of thumb: Each key becomes a column; each value supplies that column’s data."
   ]
  },
  {
   "cell_type": "markdown",
   "id": "ab8c6715-a629-4fbf-8df3-b79cd611bae9",
   "metadata": {},
   "source": [
    "#### Variant A – Dict of Lists / Arrays"
   ]
  },
  {
   "cell_type": "code",
   "execution_count": 7,
   "id": "9b0dba05-76d4-4135-8658-94acb274d06d",
   "metadata": {},
   "outputs": [
    {
     "name": "stdout",
     "output_type": "stream",
     "text": [
      "   Name  Age\n",
      "0   Ana   23\n",
      "1   Ben   25\n",
      "2  Cara   22\n"
     ]
    }
   ],
   "source": [
    "import pandas as pd\n",
    "\n",
    "# 1 – Basic numeric data\n",
    "data = {'Name': ['Ana', 'Ben', 'Cara'],\n",
    "        'Age':  [23,   25,   22]}\n",
    "df1 = pd.DataFrame(data)\n",
    "print(df1)\n"
   ]
  },
  {
   "cell_type": "code",
   "execution_count": 9,
   "id": "da84d81a-a667-431a-affa-7e0a921814bb",
   "metadata": {},
   "outputs": [
    {
     "data": {
      "text/html": [
       "<div>\n",
       "<style scoped>\n",
       "    .dataframe tbody tr th:only-of-type {\n",
       "        vertical-align: middle;\n",
       "    }\n",
       "\n",
       "    .dataframe tbody tr th {\n",
       "        vertical-align: top;\n",
       "    }\n",
       "\n",
       "    .dataframe thead th {\n",
       "        text-align: right;\n",
       "    }\n",
       "</style>\n",
       "<table border=\"1\" class=\"dataframe\">\n",
       "  <thead>\n",
       "    <tr style=\"text-align: right;\">\n",
       "      <th></th>\n",
       "      <th>Name</th>\n",
       "      <th>Age</th>\n",
       "    </tr>\n",
       "  </thead>\n",
       "  <tbody>\n",
       "    <tr>\n",
       "      <th>0</th>\n",
       "      <td>Ana</td>\n",
       "      <td>23</td>\n",
       "    </tr>\n",
       "    <tr>\n",
       "      <th>1</th>\n",
       "      <td>Ben</td>\n",
       "      <td>25</td>\n",
       "    </tr>\n",
       "    <tr>\n",
       "      <th>2</th>\n",
       "      <td>Cara</td>\n",
       "      <td>22</td>\n",
       "    </tr>\n",
       "  </tbody>\n",
       "</table>\n",
       "</div>"
      ],
      "text/plain": [
       "   Name  Age\n",
       "0   Ana   23\n",
       "1   Ben   25\n",
       "2  Cara   22"
      ]
     },
     "execution_count": 9,
     "metadata": {},
     "output_type": "execute_result"
    }
   ],
   "source": [
    "df1"
   ]
  },
  {
   "cell_type": "markdown",
   "id": "89404d6e-8c2a-4efb-af1d-a8f0a2cfd5a8",
   "metadata": {},
   "source": [
    "#### 2 – Mixed dtypes + custom row index"
   ]
  },
  {
   "cell_type": "code",
   "execution_count": 11,
   "id": "d887d8e1-26e1-4364-ad5d-18e7d5086da3",
   "metadata": {},
   "outputs": [
    {
     "name": "stdout",
     "output_type": "stream",
     "text": [
      "       City  Temp_C  Humidity\n",
      "Mon    Pune    32.0        60\n",
      "Tue   Delhi    36.5        55\n",
      "Wed  Mumbai    34.2        70\n"
     ]
    }
   ],
   "source": [
    "data = {'City':     ['Pune', 'Delhi', 'Mumbai'],\n",
    "        'Temp_C':   [32.0,   36.5,    34.2],\n",
    "        'Humidity': [60,     55,      70]}\n",
    "df2 = pd.DataFrame(data, index=['Mon', 'Tue', 'Wed'])\n",
    "print(df2)\n"
   ]
  },
  {
   "cell_type": "markdown",
   "id": "85fd8991-14c8-4a84-bf5e-78d57ba966e6",
   "metadata": {},
   "source": [
    "#### 3 – Select / reorder columns at construction"
   ]
  },
  {
   "cell_type": "code",
   "execution_count": 15,
   "id": "a7e619e5-41d7-41fc-bff9-acc3d6570fa8",
   "metadata": {},
   "outputs": [
    {
     "name": "stdout",
     "output_type": "stream",
     "text": [
      "     Temp_C    City\n",
      "Mon    32.0    Pune\n",
      "Tue    36.5   Delhi\n",
      "Wed    34.2  Mumbai\n"
     ]
    }
   ],
   "source": [
    "cols = ['Temp_C', 'City']          # omit Humidity on purpose\n",
    "df3  = pd.DataFrame(data, columns=cols, index=['Mon', 'Tue', 'Wed'])\n",
    "print(df3)\n"
   ]
  },
  {
   "cell_type": "code",
   "execution_count": 17,
   "id": "5246a592-62b4-44c9-aa13-bd107c60c7f4",
   "metadata": {},
   "outputs": [
    {
     "name": "stdout",
     "output_type": "stream",
     "text": [
      "       City  Humidity\n",
      "Mon    Pune        60\n",
      "Tue   Delhi        55\n",
      "Wed  Mumbai        70\n"
     ]
    }
   ],
   "source": [
    "cols = ['City','Humidity']          # omit Humidity on purpose\n",
    "df3  = pd.DataFrame(data, columns=cols, index=['Mon', 'Tue', 'Wed'])\n",
    "print(df3)"
   ]
  },
  {
   "cell_type": "markdown",
   "id": "feed1531-4449-4cd9-a4c6-00fb18b7634b",
   "metadata": {},
   "source": [
    "### Variant B — Creating a DataFrame from a **Dictionary of Series**\n",
    "\n",
    "> **Pattern** `pd.DataFrame({col_name: series, …}, index=None)`\n",
    "\n",
    "#### Rule of Thumb\n",
    "> *“A DataFrame built from a dict of Series behaves like an **outer join on the row labels**, forming one column per Series.”*\n"
   ]
  },
  {
   "cell_type": "code",
   "execution_count": 32,
   "id": "c811432e-40ba-4035-bd33-918d902c3eef",
   "metadata": {},
   "outputs": [
    {
     "name": "stdout",
     "output_type": "stream",
     "text": [
      "    Sales  Profit\n",
      "Q1  250.0    80.0\n",
      "Q2  300.0     NaN\n",
      "Q3  400.0     NaN\n",
      "Q4    NaN   110.0\n"
     ]
    }
   ],
   "source": [
    "s_sales  = pd.Series([250, 300, 400], index=['Q1', 'Q2', 'Q3'])\n",
    "s_profit = pd.Series([ 80, 110],      index=['Q1', 'Q4'])\n",
    "df4 = pd.DataFrame({'Sales': s_sales, 'Profit': s_profit})\n",
    "print(df4)\n"
   ]
  },
  {
   "cell_type": "markdown",
   "id": "7fc14e53-0247-44b2-877b-525940bccf0c",
   "metadata": {},
   "source": [
    "#### 2 – Supplying an explicit overall index"
   ]
  },
  {
   "cell_type": "code",
   "execution_count": 37,
   "id": "e74cf6d9-fe21-49a0-bc4c-4a0722fe825c",
   "metadata": {},
   "outputs": [
    {
     "data": {
      "text/html": [
       "<div>\n",
       "<style scoped>\n",
       "    .dataframe tbody tr th:only-of-type {\n",
       "        vertical-align: middle;\n",
       "    }\n",
       "\n",
       "    .dataframe tbody tr th {\n",
       "        vertical-align: top;\n",
       "    }\n",
       "\n",
       "    .dataframe thead th {\n",
       "        text-align: right;\n",
       "    }\n",
       "</style>\n",
       "<table border=\"1\" class=\"dataframe\">\n",
       "  <thead>\n",
       "    <tr style=\"text-align: right;\">\n",
       "      <th></th>\n",
       "      <th>Sales</th>\n",
       "      <th>Profit</th>\n",
       "    </tr>\n",
       "  </thead>\n",
       "  <tbody>\n",
       "    <tr>\n",
       "      <th>Q1</th>\n",
       "      <td>250.0</td>\n",
       "      <td>80.0</td>\n",
       "    </tr>\n",
       "    <tr>\n",
       "      <th>Q2</th>\n",
       "      <td>300.0</td>\n",
       "      <td>NaN</td>\n",
       "    </tr>\n",
       "    <tr>\n",
       "      <th>Q3</th>\n",
       "      <td>400.0</td>\n",
       "      <td>NaN</td>\n",
       "    </tr>\n",
       "    <tr>\n",
       "      <th>Q5</th>\n",
       "      <td>NaN</td>\n",
       "      <td>NaN</td>\n",
       "    </tr>\n",
       "  </tbody>\n",
       "</table>\n",
       "</div>"
      ],
      "text/plain": [
       "    Sales  Profit\n",
       "Q1  250.0    80.0\n",
       "Q2  300.0     NaN\n",
       "Q3  400.0     NaN\n",
       "Q5    NaN     NaN"
      ]
     },
     "execution_count": 37,
     "metadata": {},
     "output_type": "execute_result"
    }
   ],
   "source": [
    "df5 = pd.DataFrame({'Sales': s_sales, 'Profit': s_profit},\n",
    "                   index=['Q1', 'Q2', 'Q3', 'Q5'])\n",
    "df5"
   ]
  },
  {
   "cell_type": "markdown",
   "id": "d0d64442-a4c5-458c-aa0b-ddc0a8131981",
   "metadata": {},
   "source": [
    "### 3 – Adding a constant (scalar) column"
   ]
  },
  {
   "cell_type": "code",
   "execution_count": 40,
   "id": "14d0add6-987a-419d-b18c-28f0af199664",
   "metadata": {},
   "outputs": [
    {
     "data": {
      "text/html": [
       "<div>\n",
       "<style scoped>\n",
       "    .dataframe tbody tr th:only-of-type {\n",
       "        vertical-align: middle;\n",
       "    }\n",
       "\n",
       "    .dataframe tbody tr th {\n",
       "        vertical-align: top;\n",
       "    }\n",
       "\n",
       "    .dataframe thead th {\n",
       "        text-align: right;\n",
       "    }\n",
       "</style>\n",
       "<table border=\"1\" class=\"dataframe\">\n",
       "  <thead>\n",
       "    <tr style=\"text-align: right;\">\n",
       "      <th></th>\n",
       "      <th>Sales</th>\n",
       "      <th>Profit</th>\n",
       "      <th>Currency</th>\n",
       "    </tr>\n",
       "  </thead>\n",
       "  <tbody>\n",
       "    <tr>\n",
       "      <th>Q1</th>\n",
       "      <td>250.0</td>\n",
       "      <td>80.0</td>\n",
       "      <td>INR</td>\n",
       "    </tr>\n",
       "    <tr>\n",
       "      <th>Q2</th>\n",
       "      <td>300.0</td>\n",
       "      <td>NaN</td>\n",
       "      <td>INR</td>\n",
       "    </tr>\n",
       "    <tr>\n",
       "      <th>Q3</th>\n",
       "      <td>400.0</td>\n",
       "      <td>NaN</td>\n",
       "      <td>INR</td>\n",
       "    </tr>\n",
       "    <tr>\n",
       "      <th>Q5</th>\n",
       "      <td>NaN</td>\n",
       "      <td>NaN</td>\n",
       "      <td>INR</td>\n",
       "    </tr>\n",
       "  </tbody>\n",
       "</table>\n",
       "</div>"
      ],
      "text/plain": [
       "    Sales  Profit Currency\n",
       "Q1  250.0    80.0      INR\n",
       "Q2  300.0     NaN      INR\n",
       "Q3  400.0     NaN      INR\n",
       "Q5    NaN     NaN      INR"
      ]
     },
     "execution_count": 40,
     "metadata": {},
     "output_type": "execute_result"
    }
   ],
   "source": [
    "df5['Currency'] = 'INR'\n",
    "df5"
   ]
  },
  {
   "cell_type": "markdown",
   "id": "7bb9b8f4-34a8-4591-924e-493a86957548",
   "metadata": {},
   "source": [
    "### Variant C – Creating a DataFrame from a **Nested Dictionary**\n",
    "> Pattern: `pd.DataFrame({col1: {row1: val1, …}, col2: {…}})`\n",
    "\n",
    "---\n",
    "\n",
    "\n",
    "#### 🔹 1. Outer keys ➜ Columns\n",
    "- Each **outer dictionary key** becomes a **column label**.\n",
    "- Each **inner dictionary** contains key–value pairs where:\n",
    "  - **Inner keys** become **row labels (index)**.\n",
    "  - **Inner values** become **data values** in the respective column.\n"
   ]
  },
  {
   "cell_type": "code",
   "execution_count": 45,
   "id": "e1469eb1-9d00-4583-bb47-dce8a626cd61",
   "metadata": {},
   "outputs": [
    {
     "data": {
      "text/html": [
       "<div>\n",
       "<style scoped>\n",
       "    .dataframe tbody tr th:only-of-type {\n",
       "        vertical-align: middle;\n",
       "    }\n",
       "\n",
       "    .dataframe tbody tr th {\n",
       "        vertical-align: top;\n",
       "    }\n",
       "\n",
       "    .dataframe thead th {\n",
       "        text-align: right;\n",
       "    }\n",
       "</style>\n",
       "<table border=\"1\" class=\"dataframe\">\n",
       "  <thead>\n",
       "    <tr style=\"text-align: right;\">\n",
       "      <th></th>\n",
       "      <th>Math</th>\n",
       "      <th>Sci</th>\n",
       "    </tr>\n",
       "  </thead>\n",
       "  <tbody>\n",
       "    <tr>\n",
       "      <th>Alice</th>\n",
       "      <td>85.0</td>\n",
       "      <td>NaN</td>\n",
       "    </tr>\n",
       "    <tr>\n",
       "      <th>Bob</th>\n",
       "      <td>78.0</td>\n",
       "      <td>82.0</td>\n",
       "    </tr>\n",
       "    <tr>\n",
       "      <th>Cara</th>\n",
       "      <td>NaN</td>\n",
       "      <td>91.0</td>\n",
       "    </tr>\n",
       "  </tbody>\n",
       "</table>\n",
       "</div>"
      ],
      "text/plain": [
       "       Math   Sci\n",
       "Alice  85.0   NaN\n",
       "Bob    78.0  82.0\n",
       "Cara    NaN  91.0"
      ]
     },
     "execution_count": 45,
     "metadata": {},
     "output_type": "execute_result"
    }
   ],
   "source": [
    "nested = {'Math': {'Alice': 85, 'Bob': 78},\n",
    "          'Sci' : {'Bob': 82, 'Cara': 91}}\n",
    "df6 = pd.DataFrame(nested)\n",
    "df6"
   ]
  },
  {
   "cell_type": "markdown",
   "id": "4354ca0e-dd5c-44f7-80ba-e405cf2e382c",
   "metadata": {},
   "source": [
    "### Some Operations on Data using Pandas"
   ]
  },
  {
   "cell_type": "markdown",
   "id": "1dddf6b2-fb9a-4814-b379-82099254cc20",
   "metadata": {},
   "source": [
    "### 1. merge() – SQL-Style Joins in Pandas\n",
    "* merge() in pandas is similar to SQL joins (INNER, LEFT, RIGHT, OUTER).\n",
    "* It combines rows from two DataFrames based on common columns or index.\n",
    "* Syntax:\n",
    "* pd.merge(left, right, how='inner', on='key')\n"
   ]
  },
  {
   "cell_type": "markdown",
   "id": "4ebc20ef-8dbb-4311-9113-3570aad5c66a",
   "metadata": {},
   "source": [
    "* Parameters:\n",
    "    * left, right: DataFrames to merge\n",
    "    * how: type of join – 'inner', 'outer', 'left', 'right'\n",
    "    * on: column name(s) to join on\n",
    "    * left_on, right_on: join columns in left and right DataFrames if column names differ\n",
    "\n"
   ]
  },
  {
   "cell_type": "code",
   "execution_count": 8,
   "id": "c8ab8e92-f53c-42a5-a579-bede95713a56",
   "metadata": {},
   "outputs": [
    {
     "data": {
      "text/html": [
       "<div>\n",
       "<style scoped>\n",
       "    .dataframe tbody tr th:only-of-type {\n",
       "        vertical-align: middle;\n",
       "    }\n",
       "\n",
       "    .dataframe tbody tr th {\n",
       "        vertical-align: top;\n",
       "    }\n",
       "\n",
       "    .dataframe thead th {\n",
       "        text-align: right;\n",
       "    }\n",
       "</style>\n",
       "<table border=\"1\" class=\"dataframe\">\n",
       "  <thead>\n",
       "    <tr style=\"text-align: right;\">\n",
       "      <th></th>\n",
       "      <th>ID</th>\n",
       "      <th>Name</th>\n",
       "      <th>Score</th>\n",
       "    </tr>\n",
       "  </thead>\n",
       "  <tbody>\n",
       "    <tr>\n",
       "      <th>0</th>\n",
       "      <td>2</td>\n",
       "      <td>Bob</td>\n",
       "      <td>85</td>\n",
       "    </tr>\n",
       "    <tr>\n",
       "      <th>1</th>\n",
       "      <td>3</td>\n",
       "      <td>Charlie</td>\n",
       "      <td>90</td>\n",
       "    </tr>\n",
       "  </tbody>\n",
       "</table>\n",
       "</div>"
      ],
      "text/plain": [
       "   ID     Name  Score\n",
       "0   2      Bob     85\n",
       "1   3  Charlie     90"
      ]
     },
     "execution_count": 8,
     "metadata": {},
     "output_type": "execute_result"
    }
   ],
   "source": [
    "import pandas as pd\n",
    "\n",
    "df1 = pd.DataFrame({'ID': [1, 2, 3], 'Name': ['Alice', 'Bob', 'Charlie']})\n",
    "df2 = pd.DataFrame({'ID': [2, 3, 4], 'Score': [85, 90, 75]})\n",
    "\n",
    "result = pd.merge(df1, df2, on='ID', how='inner')\n",
    "result\n"
   ]
  },
  {
   "cell_type": "code",
   "execution_count": 10,
   "id": "12fc3ac2-39fb-49c0-9bb0-9dba72615c2a",
   "metadata": {},
   "outputs": [
    {
     "data": {
      "text/html": [
       "<div>\n",
       "<style scoped>\n",
       "    .dataframe tbody tr th:only-of-type {\n",
       "        vertical-align: middle;\n",
       "    }\n",
       "\n",
       "    .dataframe tbody tr th {\n",
       "        vertical-align: top;\n",
       "    }\n",
       "\n",
       "    .dataframe thead th {\n",
       "        text-align: right;\n",
       "    }\n",
       "</style>\n",
       "<table border=\"1\" class=\"dataframe\">\n",
       "  <thead>\n",
       "    <tr style=\"text-align: right;\">\n",
       "      <th></th>\n",
       "      <th>ID</th>\n",
       "      <th>Name</th>\n",
       "      <th>Score</th>\n",
       "    </tr>\n",
       "  </thead>\n",
       "  <tbody>\n",
       "    <tr>\n",
       "      <th>0</th>\n",
       "      <td>1</td>\n",
       "      <td>Alice</td>\n",
       "      <td>NaN</td>\n",
       "    </tr>\n",
       "    <tr>\n",
       "      <th>1</th>\n",
       "      <td>2</td>\n",
       "      <td>Bob</td>\n",
       "      <td>85.0</td>\n",
       "    </tr>\n",
       "    <tr>\n",
       "      <th>2</th>\n",
       "      <td>3</td>\n",
       "      <td>Charlie</td>\n",
       "      <td>90.0</td>\n",
       "    </tr>\n",
       "  </tbody>\n",
       "</table>\n",
       "</div>"
      ],
      "text/plain": [
       "   ID     Name  Score\n",
       "0   1    Alice    NaN\n",
       "1   2      Bob   85.0\n",
       "2   3  Charlie   90.0"
      ]
     },
     "execution_count": 10,
     "metadata": {},
     "output_type": "execute_result"
    }
   ],
   "source": [
    "\n",
    "result = pd.merge(df1, df2, on='ID', how='left')\n",
    "result"
   ]
  },
  {
   "cell_type": "markdown",
   "id": "546c3d9f-f272-4a9a-b6ca-184007a7eac9",
   "metadata": {},
   "source": [
    "### Merge on Different Column Names:\n"
   ]
  },
  {
   "cell_type": "code",
   "execution_count": 13,
   "id": "82147077-0321-4858-9a6a-8fc7ce769745",
   "metadata": {},
   "outputs": [
    {
     "data": {
      "text/html": [
       "<div>\n",
       "<style scoped>\n",
       "    .dataframe tbody tr th:only-of-type {\n",
       "        vertical-align: middle;\n",
       "    }\n",
       "\n",
       "    .dataframe tbody tr th {\n",
       "        vertical-align: top;\n",
       "    }\n",
       "\n",
       "    .dataframe thead th {\n",
       "        text-align: right;\n",
       "    }\n",
       "</style>\n",
       "<table border=\"1\" class=\"dataframe\">\n",
       "  <thead>\n",
       "    <tr style=\"text-align: right;\">\n",
       "      <th></th>\n",
       "      <th>ID</th>\n",
       "      <th>Name</th>\n",
       "      <th>emp_id</th>\n",
       "      <th>dept</th>\n",
       "    </tr>\n",
       "  </thead>\n",
       "  <tbody>\n",
       "    <tr>\n",
       "      <th>0</th>\n",
       "      <td>1</td>\n",
       "      <td>Alice</td>\n",
       "      <td>1</td>\n",
       "      <td>HR</td>\n",
       "    </tr>\n",
       "    <tr>\n",
       "      <th>1</th>\n",
       "      <td>2</td>\n",
       "      <td>Bob</td>\n",
       "      <td>2</td>\n",
       "      <td>IT</td>\n",
       "    </tr>\n",
       "    <tr>\n",
       "      <th>2</th>\n",
       "      <td>3</td>\n",
       "      <td>Charlie</td>\n",
       "      <td>3</td>\n",
       "      <td>Finance</td>\n",
       "    </tr>\n",
       "  </tbody>\n",
       "</table>\n",
       "</div>"
      ],
      "text/plain": [
       "   ID     Name  emp_id     dept\n",
       "0   1    Alice       1       HR\n",
       "1   2      Bob       2       IT\n",
       "2   3  Charlie       3  Finance"
      ]
     },
     "execution_count": 13,
     "metadata": {},
     "output_type": "execute_result"
    }
   ],
   "source": [
    "df3 = pd.DataFrame({'emp_id': [1, 2, 3], 'dept': ['HR', 'IT', 'Finance']})\n",
    "result = pd.merge(df1, df3, left_on='ID', right_on='emp_id', how='inner')\n",
    "result"
   ]
  },
  {
   "cell_type": "code",
   "execution_count": 15,
   "id": "80c70c0e-f46e-4c6d-99a5-d29d0cddd01b",
   "metadata": {},
   "outputs": [
    {
     "data": {
      "text/html": [
       "<div>\n",
       "<style scoped>\n",
       "    .dataframe tbody tr th:only-of-type {\n",
       "        vertical-align: middle;\n",
       "    }\n",
       "\n",
       "    .dataframe tbody tr th {\n",
       "        vertical-align: top;\n",
       "    }\n",
       "\n",
       "    .dataframe thead th {\n",
       "        text-align: right;\n",
       "    }\n",
       "</style>\n",
       "<table border=\"1\" class=\"dataframe\">\n",
       "  <thead>\n",
       "    <tr style=\"text-align: right;\">\n",
       "      <th></th>\n",
       "      <th>ID</th>\n",
       "      <th>Name</th>\n",
       "      <th>Score</th>\n",
       "    </tr>\n",
       "  </thead>\n",
       "  <tbody>\n",
       "    <tr>\n",
       "      <th>0</th>\n",
       "      <td>2</td>\n",
       "      <td>Bob</td>\n",
       "      <td>85</td>\n",
       "    </tr>\n",
       "    <tr>\n",
       "      <th>1</th>\n",
       "      <td>3</td>\n",
       "      <td>Charlie</td>\n",
       "      <td>90</td>\n",
       "    </tr>\n",
       "  </tbody>\n",
       "</table>\n",
       "</div>"
      ],
      "text/plain": [
       "   ID     Name  Score\n",
       "0   2      Bob     85\n",
       "1   3  Charlie     90"
      ]
     },
     "execution_count": 15,
     "metadata": {},
     "output_type": "execute_result"
    }
   ],
   "source": [
    "result = df1.merge(df2, on='ID', how='inner')\n",
    "result"
   ]
  },
  {
   "cell_type": "markdown",
   "id": "6c0b147a-1552-4ae9-b74b-7fc2781fdce1",
   "metadata": {},
   "source": [
    "### Difference Between pd.merge() and df1.merge(df2)\n",
    "| Feature            | `pd.merge()`                                       | `df1.merge(df2)`                                |\n",
    "| ------------------ | -------------------------------------------------- | ----------------------------------------------- |\n",
    "| **Calling Style**  | Function-style                                     | Method-style (called on a DataFrame)            |\n",
    "| **First Argument** | Both DataFrames must be passed                     | `df1` is the calling object, `df2` is passed    |\n",
    "| **Usage Context**  | Useful in scripting, chaining, or functional style | More intuitive in object-oriented style         |\n",
    "| **Flexibility**    | Slightly more verbose but explicit                 | Cleaner when working with one primary DataFrame |\n"
   ]
  },
  {
   "cell_type": "markdown",
   "id": "2ff9e57b-e119-4333-bc18-51bdb698cf5d",
   "metadata": {},
   "source": [
    "| Use `pd.merge()` when...                                         | Use `df.merge()` when...                       |\n",
    "| ---------------------------------------------------------------- | ---------------------------------------------- |\n",
    "| You want to merge two dataframes equally (no preference of left) | You are merging into a \"main\" DataFrame (`df`) |\n",
    "| You’re using chaining or function-style logic                    | You prefer cleaner, object-oriented syntax     |\n"
   ]
  },
  {
   "cell_type": "markdown",
   "id": "e3392b93-5889-43a7-9c3b-b269b56e3c35",
   "metadata": {},
   "source": [
    "### join() – Join by Index"
   ]
  },
  {
   "cell_type": "markdown",
   "id": "d747798e-ff74-4af3-8439-20e52eaeaac6",
   "metadata": {},
   "source": [
    "* join() is used to combine two DataFrames on index or a key column.\n",
    "* Default behavior is left join.\n",
    "* Simpler syntax than merge() when index-based joining is intended.\n",
    "* Useful when: One DataFrame has meaningful index and the other has a key column or index to match."
   ]
  },
  {
   "cell_type": "code",
   "execution_count": 23,
   "id": "2029e659-7aa9-4b7c-904b-c5454d0daf12",
   "metadata": {},
   "outputs": [
    {
     "data": {
      "text/html": [
       "<div>\n",
       "<style scoped>\n",
       "    .dataframe tbody tr th:only-of-type {\n",
       "        vertical-align: middle;\n",
       "    }\n",
       "\n",
       "    .dataframe tbody tr th {\n",
       "        vertical-align: top;\n",
       "    }\n",
       "\n",
       "    .dataframe thead th {\n",
       "        text-align: right;\n",
       "    }\n",
       "</style>\n",
       "<table border=\"1\" class=\"dataframe\">\n",
       "  <thead>\n",
       "    <tr style=\"text-align: right;\">\n",
       "      <th></th>\n",
       "      <th>Name</th>\n",
       "    </tr>\n",
       "  </thead>\n",
       "  <tbody>\n",
       "    <tr>\n",
       "      <th>1</th>\n",
       "      <td>Alice</td>\n",
       "    </tr>\n",
       "    <tr>\n",
       "      <th>2</th>\n",
       "      <td>Bob</td>\n",
       "    </tr>\n",
       "    <tr>\n",
       "      <th>3</th>\n",
       "      <td>Charlie</td>\n",
       "    </tr>\n",
       "  </tbody>\n",
       "</table>\n",
       "</div>"
      ],
      "text/plain": [
       "      Name\n",
       "1    Alice\n",
       "2      Bob\n",
       "3  Charlie"
      ]
     },
     "execution_count": 23,
     "metadata": {},
     "output_type": "execute_result"
    }
   ],
   "source": [
    "df1 = pd.DataFrame({'Name': ['Alice', 'Bob', 'Charlie']}, index=[1, 2, 3])\n",
    "df2 = pd.DataFrame({'Score': [90, 85, 88]}, index=[2, 3, 4])\n",
    "\n",
    "df1"
   ]
  },
  {
   "cell_type": "code",
   "execution_count": 25,
   "id": "261de900-4d4c-4c99-922d-73a765cb6112",
   "metadata": {},
   "outputs": [
    {
     "data": {
      "text/html": [
       "<div>\n",
       "<style scoped>\n",
       "    .dataframe tbody tr th:only-of-type {\n",
       "        vertical-align: middle;\n",
       "    }\n",
       "\n",
       "    .dataframe tbody tr th {\n",
       "        vertical-align: top;\n",
       "    }\n",
       "\n",
       "    .dataframe thead th {\n",
       "        text-align: right;\n",
       "    }\n",
       "</style>\n",
       "<table border=\"1\" class=\"dataframe\">\n",
       "  <thead>\n",
       "    <tr style=\"text-align: right;\">\n",
       "      <th></th>\n",
       "      <th>Score</th>\n",
       "    </tr>\n",
       "  </thead>\n",
       "  <tbody>\n",
       "    <tr>\n",
       "      <th>2</th>\n",
       "      <td>90</td>\n",
       "    </tr>\n",
       "    <tr>\n",
       "      <th>3</th>\n",
       "      <td>85</td>\n",
       "    </tr>\n",
       "    <tr>\n",
       "      <th>4</th>\n",
       "      <td>88</td>\n",
       "    </tr>\n",
       "  </tbody>\n",
       "</table>\n",
       "</div>"
      ],
      "text/plain": [
       "   Score\n",
       "2     90\n",
       "3     85\n",
       "4     88"
      ]
     },
     "execution_count": 25,
     "metadata": {},
     "output_type": "execute_result"
    }
   ],
   "source": [
    "df2"
   ]
  },
  {
   "cell_type": "code",
   "execution_count": 29,
   "id": "f7ee1b6f-c8f3-4570-b51b-cdd517c64954",
   "metadata": {},
   "outputs": [
    {
     "data": {
      "text/html": [
       "<div>\n",
       "<style scoped>\n",
       "    .dataframe tbody tr th:only-of-type {\n",
       "        vertical-align: middle;\n",
       "    }\n",
       "\n",
       "    .dataframe tbody tr th {\n",
       "        vertical-align: top;\n",
       "    }\n",
       "\n",
       "    .dataframe thead th {\n",
       "        text-align: right;\n",
       "    }\n",
       "</style>\n",
       "<table border=\"1\" class=\"dataframe\">\n",
       "  <thead>\n",
       "    <tr style=\"text-align: right;\">\n",
       "      <th></th>\n",
       "      <th>Name</th>\n",
       "      <th>Score</th>\n",
       "    </tr>\n",
       "  </thead>\n",
       "  <tbody>\n",
       "    <tr>\n",
       "      <th>2</th>\n",
       "      <td>Bob</td>\n",
       "      <td>90</td>\n",
       "    </tr>\n",
       "    <tr>\n",
       "      <th>3</th>\n",
       "      <td>Charlie</td>\n",
       "      <td>85</td>\n",
       "    </tr>\n",
       "  </tbody>\n",
       "</table>\n",
       "</div>"
      ],
      "text/plain": [
       "      Name  Score\n",
       "2      Bob     90\n",
       "3  Charlie     85"
      ]
     },
     "execution_count": 29,
     "metadata": {},
     "output_type": "execute_result"
    }
   ],
   "source": [
    "result = df1.join(df2, how='inner')\n",
    "result"
   ]
  },
  {
   "cell_type": "code",
   "execution_count": 35,
   "id": "cca92715-036f-40fe-8318-48feccecd569",
   "metadata": {},
   "outputs": [
    {
     "data": {
      "text/html": [
       "<div>\n",
       "<style scoped>\n",
       "    .dataframe tbody tr th:only-of-type {\n",
       "        vertical-align: middle;\n",
       "    }\n",
       "\n",
       "    .dataframe tbody tr th {\n",
       "        vertical-align: top;\n",
       "    }\n",
       "\n",
       "    .dataframe thead th {\n",
       "        text-align: right;\n",
       "    }\n",
       "</style>\n",
       "<table border=\"1\" class=\"dataframe\">\n",
       "  <thead>\n",
       "    <tr style=\"text-align: right;\">\n",
       "      <th></th>\n",
       "      <th>Name</th>\n",
       "      <th>Score</th>\n",
       "    </tr>\n",
       "  </thead>\n",
       "  <tbody>\n",
       "    <tr>\n",
       "      <th>1</th>\n",
       "      <td>Alice</td>\n",
       "      <td>NaN</td>\n",
       "    </tr>\n",
       "    <tr>\n",
       "      <th>2</th>\n",
       "      <td>Bob</td>\n",
       "      <td>90.0</td>\n",
       "    </tr>\n",
       "    <tr>\n",
       "      <th>3</th>\n",
       "      <td>Charlie</td>\n",
       "      <td>85.0</td>\n",
       "    </tr>\n",
       "  </tbody>\n",
       "</table>\n",
       "</div>"
      ],
      "text/plain": [
       "      Name  Score\n",
       "1    Alice    NaN\n",
       "2      Bob   90.0\n",
       "3  Charlie   85.0"
      ]
     },
     "execution_count": 35,
     "metadata": {},
     "output_type": "execute_result"
    }
   ],
   "source": [
    "result = df1.join(df2)\n",
    "result"
   ]
  },
  {
   "cell_type": "code",
   "execution_count": 37,
   "id": "b318723e-f49e-4888-a857-ce99d081dd81",
   "metadata": {},
   "outputs": [
    {
     "data": {
      "text/html": [
       "<div>\n",
       "<style scoped>\n",
       "    .dataframe tbody tr th:only-of-type {\n",
       "        vertical-align: middle;\n",
       "    }\n",
       "\n",
       "    .dataframe tbody tr th {\n",
       "        vertical-align: top;\n",
       "    }\n",
       "\n",
       "    .dataframe thead th {\n",
       "        text-align: right;\n",
       "    }\n",
       "</style>\n",
       "<table border=\"1\" class=\"dataframe\">\n",
       "  <thead>\n",
       "    <tr style=\"text-align: right;\">\n",
       "      <th></th>\n",
       "      <th>Name</th>\n",
       "      <th>Score</th>\n",
       "      <th>Age</th>\n",
       "    </tr>\n",
       "  </thead>\n",
       "  <tbody>\n",
       "    <tr>\n",
       "      <th>1</th>\n",
       "      <td>Alice</td>\n",
       "      <td>NaN</td>\n",
       "      <td>25.0</td>\n",
       "    </tr>\n",
       "    <tr>\n",
       "      <th>2</th>\n",
       "      <td>Bob</td>\n",
       "      <td>90.0</td>\n",
       "      <td>30.0</td>\n",
       "    </tr>\n",
       "    <tr>\n",
       "      <th>3</th>\n",
       "      <td>Charlie</td>\n",
       "      <td>85.0</td>\n",
       "      <td>22.0</td>\n",
       "    </tr>\n",
       "  </tbody>\n",
       "</table>\n",
       "</div>"
      ],
      "text/plain": [
       "      Name  Score   Age\n",
       "1    Alice    NaN  25.0\n",
       "2      Bob   90.0  30.0\n",
       "3  Charlie   85.0  22.0"
      ]
     },
     "execution_count": 37,
     "metadata": {},
     "output_type": "execute_result"
    }
   ],
   "source": [
    "df3 = pd.DataFrame({'Age': [25, 30, 22]}, index=[1, 2, 3])\n",
    "result = df1.join([df2, df3])\n",
    "result"
   ]
  },
  {
   "cell_type": "markdown",
   "id": "4a8cfd48-da9f-4c03-9711-e0d39e8e9815",
   "metadata": {},
   "source": [
    "### concat() – Stack DataFrames Vertically or Horizontally\n",
    "\n",
    "* concat() is used to concatenate multiple DataFrames along a particular axis.\n",
    "* Can be used to stack vertically (axis=0) or side-by-side (axis=1).\n",
    "* It does not remove duplicates or merge based on key – just sticks DataFrames together."
   ]
  },
  {
   "cell_type": "code",
   "execution_count": 42,
   "id": "920dfcc7-b530-45c5-bf8f-f7a35f2db4c2",
   "metadata": {},
   "outputs": [
    {
     "data": {
      "text/html": [
       "<div>\n",
       "<style scoped>\n",
       "    .dataframe tbody tr th:only-of-type {\n",
       "        vertical-align: middle;\n",
       "    }\n",
       "\n",
       "    .dataframe tbody tr th {\n",
       "        vertical-align: top;\n",
       "    }\n",
       "\n",
       "    .dataframe thead th {\n",
       "        text-align: right;\n",
       "    }\n",
       "</style>\n",
       "<table border=\"1\" class=\"dataframe\">\n",
       "  <thead>\n",
       "    <tr style=\"text-align: right;\">\n",
       "      <th></th>\n",
       "      <th>Name</th>\n",
       "      <th>Score</th>\n",
       "    </tr>\n",
       "  </thead>\n",
       "  <tbody>\n",
       "    <tr>\n",
       "      <th>1</th>\n",
       "      <td>Alice</td>\n",
       "      <td>NaN</td>\n",
       "    </tr>\n",
       "    <tr>\n",
       "      <th>2</th>\n",
       "      <td>Bob</td>\n",
       "      <td>90.0</td>\n",
       "    </tr>\n",
       "    <tr>\n",
       "      <th>3</th>\n",
       "      <td>Charlie</td>\n",
       "      <td>85.0</td>\n",
       "    </tr>\n",
       "    <tr>\n",
       "      <th>4</th>\n",
       "      <td>NaN</td>\n",
       "      <td>88.0</td>\n",
       "    </tr>\n",
       "  </tbody>\n",
       "</table>\n",
       "</div>"
      ],
      "text/plain": [
       "      Name  Score\n",
       "1    Alice    NaN\n",
       "2      Bob   90.0\n",
       "3  Charlie   85.0\n",
       "4      NaN   88.0"
      ]
     },
     "execution_count": 42,
     "metadata": {},
     "output_type": "execute_result"
    }
   ],
   "source": [
    "result = pd.concat([df1, df2], axis=1)\n",
    "result"
   ]
  },
  {
   "cell_type": "code",
   "execution_count": 47,
   "id": "96e1da96-efd3-457f-bdc4-c14ba78ea6cc",
   "metadata": {},
   "outputs": [
    {
     "data": {
      "text/html": [
       "<div>\n",
       "<style scoped>\n",
       "    .dataframe tbody tr th:only-of-type {\n",
       "        vertical-align: middle;\n",
       "    }\n",
       "\n",
       "    .dataframe tbody tr th {\n",
       "        vertical-align: top;\n",
       "    }\n",
       "\n",
       "    .dataframe thead th {\n",
       "        text-align: right;\n",
       "    }\n",
       "</style>\n",
       "<table border=\"1\" class=\"dataframe\">\n",
       "  <thead>\n",
       "    <tr style=\"text-align: right;\">\n",
       "      <th></th>\n",
       "      <th>ID</th>\n",
       "      <th>Name</th>\n",
       "      <th>ID</th>\n",
       "      <th>Name</th>\n",
       "    </tr>\n",
       "  </thead>\n",
       "  <tbody>\n",
       "    <tr>\n",
       "      <th>0</th>\n",
       "      <td>1</td>\n",
       "      <td>Alice</td>\n",
       "      <td>3</td>\n",
       "      <td>Charlie</td>\n",
       "    </tr>\n",
       "    <tr>\n",
       "      <th>1</th>\n",
       "      <td>2</td>\n",
       "      <td>Bob</td>\n",
       "      <td>4</td>\n",
       "      <td>David</td>\n",
       "    </tr>\n",
       "  </tbody>\n",
       "</table>\n",
       "</div>"
      ],
      "text/plain": [
       "   ID   Name  ID     Name\n",
       "0   1  Alice   3  Charlie\n",
       "1   2    Bob   4    David"
      ]
     },
     "execution_count": 47,
     "metadata": {},
     "output_type": "execute_result"
    }
   ],
   "source": [
    "df1 = pd.DataFrame({'ID': [1, 2], 'Name': ['Alice', 'Bob']})\n",
    "df2 = pd.DataFrame({'ID': [3, 4], 'Name': ['Charlie', 'David']})\n",
    "\n",
    "result = pd.concat([df1, df2], axis=1)\n",
    "result"
   ]
  },
  {
   "cell_type": "markdown",
   "id": "6f9d4a7f-84f1-4c03-bf31-d1fbdaf0cc64",
   "metadata": {},
   "source": [
    "| Operation  | Method        | Joins On                     | Default Join | Notes                                |\n",
    "| ---------- | ------------- | ---------------------------- | ------------ | ------------------------------------ |\n",
    "| `merge()`  | `pd.merge()`  | Column(s) or index           | `inner`      | Most flexible, SQL-like joins        |\n",
    "| `join()`   | `df1.join()`  | Index (or column with param) | `left`       | Simpler syntax for index-based joins |\n",
    "| `concat()` | `pd.concat()` | No matching required         | N/A          | Concatenates DataFrames along axis   |\n"
   ]
  },
  {
   "cell_type": "code",
   "execution_count": null,
   "id": "657db0b5-7db0-4786-b406-ef82abb06af2",
   "metadata": {},
   "outputs": [],
   "source": []
  }
 ],
 "metadata": {
  "kernelspec": {
   "display_name": "Python [conda env:base] *",
   "language": "python",
   "name": "conda-base-py"
  },
  "language_info": {
   "codemirror_mode": {
    "name": "ipython",
    "version": 3
   },
   "file_extension": ".py",
   "mimetype": "text/x-python",
   "name": "python",
   "nbconvert_exporter": "python",
   "pygments_lexer": "ipython3",
   "version": "3.12.7"
  }
 },
 "nbformat": 4,
 "nbformat_minor": 5
}
