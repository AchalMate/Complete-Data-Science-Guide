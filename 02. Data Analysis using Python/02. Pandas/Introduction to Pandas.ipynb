{
 "cells": [
  {
   "cell_type": "markdown",
   "id": "d6ee9924-99f6-4eaa-864d-ce967d86ee0a",
   "metadata": {},
   "source": [
    "### What is Pandas?"
   ]
  },
  {
   "cell_type": "markdown",
   "id": "b7c2f986-f0d4-4b38-a7c4-c9838f44eac1",
   "metadata": {},
   "source": [
    "Pandas is a Python library used for data manipulation, analysis, and cleaning. \n",
    "It provides powerful data structures for handling labeled data — particularly useful for:\n",
    "\n",
    "* Tabular data (like Excel or SQL tables)\n",
    "* Time-series data\n",
    "* Missing values\n",
    "* Grouped operations"
   ]
  },
  {
   "cell_type": "markdown",
   "id": "aa25b0c6-9fd6-4980-a902-4d7314081338",
   "metadata": {},
   "source": [
    "### Why Use Pandas?\n",
    "| Feature                 | Benefit                                             |\n",
    "| ----------------------- | --------------------------------------------------- |\n",
    "| **Easy data handling**  | Read, write, clean, reshape data with few lines     |\n",
    "| **Built-in functions**  | Statistical, aggregation, and transformation tools  |\n",
    "| **Time-series support** | Dates and times can be parsed, indexed, resampled   |\n",
    "| **High performance**    | Built on top of NumPy for fast numerical operations |\n",
    "| **File I/O**            | Read/write from CSV, Excel, SQL, JSON, etc.         |\n"
   ]
  },
  {
   "cell_type": "markdown",
   "id": "bef6688d-a660-44da-b291-086cf637255e",
   "metadata": {},
   "source": [
    "### When is Pandas Used?\n",
    "\n",
    "* Reading data from CSV/Excel/SQL\n",
    "* Cleaning and transforming data\n",
    "* Performing EDA (Exploratory Data Analysis)\n",
    "* Feature engineering before ML model training\n",
    "* Handling missing data and duplicates\n",
    "* Time-series analysis and forecasting"
   ]
  },
  {
   "cell_type": "markdown",
   "id": "9b9b6e2c-f528-4c12-bad9-c3b153ae8b43",
   "metadata": {},
   "source": [
    "### Advantages of Pandas\n",
    "* Easy to learn and write\n",
    "* Integration with NumPy, Matplotlib, Scikit-learn, etc.\n",
    "* Intuitive row/column indexing\n",
    "* Vectorized operations (faster than for-loops)\n",
    "* Handles large datasets efficiently"
   ]
  },
  {
   "cell_type": "markdown",
   "id": "a331f468-0ed8-4a46-a45d-2304a62652a4",
   "metadata": {},
   "source": [
    "### Pandas Data Structures\n",
    "1. Series (1D)\n",
    "2. DataFrame (2D)"
   ]
  },
  {
   "cell_type": "code",
   "execution_count": null,
   "id": "be35ae87-a2e8-414d-8ce6-99fda0b9c731",
   "metadata": {},
   "outputs": [],
   "source": []
  }
 ],
 "metadata": {
  "kernelspec": {
   "display_name": "Python [conda env:Data_Science]",
   "language": "python",
   "name": "conda-env-Data_Science-py"
  },
  "language_info": {
   "codemirror_mode": {
    "name": "ipython",
    "version": 3
   },
   "file_extension": ".py",
   "mimetype": "text/x-python",
   "name": "python",
   "nbconvert_exporter": "python",
   "pygments_lexer": "ipython3",
   "version": "3.13.1"
  }
 },
 "nbformat": 4,
 "nbformat_minor": 5
}
