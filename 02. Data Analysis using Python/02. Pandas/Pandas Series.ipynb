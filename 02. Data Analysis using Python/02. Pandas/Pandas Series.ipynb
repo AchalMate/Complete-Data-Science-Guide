{
 "cells": [
  {
   "cell_type": "markdown",
   "id": "b13c38be-2082-49a9-ae59-635e67f23f5b",
   "metadata": {},
   "source": [
    "### Pandas Series\n",
    "A Pandas Series is a one-dimensional labeled array capable of holding any data type (integers, strings, floats, etc.).\n",
    "\n",
    "### Key Characteristics:\n",
    "* Similar to a NumPy array, but with labels (indexes).\n",
    "* Default index starts from 0 if not specified.\n",
    "* Built using pd.Series() constructor"
   ]
  },
  {
   "cell_type": "markdown",
   "id": "c18ecb4d-1673-42b2-9ea4-bfad06864c8d",
   "metadata": {},
   "source": [
    "### 1.Create a Series\n",
    "Syntax = pd.Series(data, index=None, dtype=None)\n",
    "| Parameter | Description                                    |\n",
    "| --------- | ---------------------------------------------- |\n",
    "| `data`    | List, NumPy array, dictionary, or scalar value |\n",
    "| `index`   | Optional labels for elements                   |\n",
    "| `dtype`   | Data type (optional)                           |\n"
   ]
  },
  {
   "cell_type": "markdown",
   "id": "1c3ce72d-5c8f-4886-8da5-db894aa69fda",
   "metadata": {},
   "source": [
    "### Methods of Creating Series\n",
    "#### 1. From a List,Tuples\n",
    "\n"
   ]
  },
  {
   "cell_type": "code",
   "execution_count": 52,
   "id": "d2a6f305-d394-4689-b678-31df713acb94",
   "metadata": {},
   "outputs": [
    {
     "name": "stdout",
     "output_type": "stream",
     "text": [
      "0    10\n",
      "1    20\n",
      "2    30\n",
      "dtype: int64\n"
     ]
    }
   ],
   "source": [
    "import pandas as pd\n",
    "import numpy as np\n",
    "s1 = pd.Series([10, 20, 30])\n",
    "print(s1)"
   ]
  },
  {
   "cell_type": "code",
   "execution_count": 24,
   "id": "9537df8c-1c7d-4502-85ee-440739bb6c48",
   "metadata": {},
   "outputs": [
    {
     "data": {
      "text/plain": [
       "0    10\n",
       "1    20\n",
       "2    30\n",
       "dtype: int64"
      ]
     },
     "execution_count": 24,
     "metadata": {},
     "output_type": "execute_result"
    }
   ],
   "source": [
    "sss1 = pd.Series((10,20,30))\n",
    "sss1"
   ]
  },
  {
   "cell_type": "code",
   "execution_count": 27,
   "id": "e95ca963-7715-4869-9517-253ee83573d4",
   "metadata": {},
   "outputs": [
    {
     "name": "stdout",
     "output_type": "stream",
     "text": [
      "0       a\n",
      "1     2.5\n",
      "2    True\n",
      "dtype: object\n"
     ]
    }
   ],
   "source": [
    "# With mixed types\n",
    "s2 = pd.Series(['a', 2.5, True])\n",
    "print(s2)"
   ]
  },
  {
   "cell_type": "code",
   "execution_count": 29,
   "id": "e15f1806-93f1-4531-a7dc-37a0f728c7db",
   "metadata": {},
   "outputs": [
    {
     "name": "stdout",
     "output_type": "stream",
     "text": [
      "0    1.1\n",
      "1    2.2\n",
      "2    3.3\n",
      "dtype: float64\n"
     ]
    }
   ],
   "source": [
    "# 3: With float values\n",
    "s3 = pd.Series([1.1, 2.2, 3.3])\n",
    "print(s3)"
   ]
  },
  {
   "cell_type": "markdown",
   "id": "e4cff5ed-600f-4f4f-9e45-1fa48ee947b8",
   "metadata": {},
   "source": [
    "#### 2.From a List with Custom Index"
   ]
  },
  {
   "cell_type": "code",
   "execution_count": 32,
   "id": "3a0a4315-73d3-46a1-bb5c-cb69db1b4a0f",
   "metadata": {},
   "outputs": [
    {
     "name": "stdout",
     "output_type": "stream",
     "text": [
      "a    100\n",
      "b    200\n",
      "c    300\n",
      "dtype: int64\n"
     ]
    }
   ],
   "source": [
    "s1 = pd.Series([100, 200, 300], index=['a', 'b', 'c'])\n",
    "print(s1)"
   ]
  },
  {
   "cell_type": "code",
   "execution_count": 36,
   "id": "98d8b6d5-559b-43da-9103-af80ffc7162f",
   "metadata": {},
   "outputs": [
    {
     "name": "stdout",
     "output_type": "stream",
     "text": [
      "x     apple\n",
      "y    banana\n",
      "z     grape\n",
      "dtype: object\n"
     ]
    }
   ],
   "source": [
    "s2 = pd.Series(('apple', 'banana', 'grape'), index=['x', 'y', 'z'])\n",
    "print(s2)\n"
   ]
  },
  {
   "cell_type": "code",
   "execution_count": 38,
   "id": "fe0ce218-0d53-4257-ad75-50a4b8b40ae7",
   "metadata": {},
   "outputs": [
    {
     "name": "stdout",
     "output_type": "stream",
     "text": [
      "101    10.5\n",
      "102    20.5\n",
      "103    30.5\n",
      "dtype: float64\n"
     ]
    }
   ],
   "source": [
    "s3 = pd.Series([10.5, 20.5, 30.5], index=[101, 102, 103])\n",
    "print(s3)"
   ]
  },
  {
   "cell_type": "markdown",
   "id": "7896cdaf-281d-41c7-b13f-6602644b3571",
   "metadata": {},
   "source": [
    "This is useful when your data has labels like product IDs or dates."
   ]
  },
  {
   "cell_type": "markdown",
   "id": "227e79d7-49c6-4f65-8f0f-a64088c4cf19",
   "metadata": {},
   "source": [
    "#### 3. From a Dictionary"
   ]
  },
  {
   "cell_type": "code",
   "execution_count": 42,
   "id": "cfff0871-e8d0-4558-b7c7-0e9d1076af4e",
   "metadata": {},
   "outputs": [
    {
     "name": "stdout",
     "output_type": "stream",
     "text": [
      "a    1\n",
      "b    2\n",
      "c    3\n",
      "dtype: int64\n"
     ]
    }
   ],
   "source": [
    "s1 = pd.Series({'a': 1, 'b': 2, 'c': 3})\n",
    "print(s1)"
   ]
  },
  {
   "cell_type": "code",
   "execution_count": 44,
   "id": "9d2515e2-c794-46c7-adf5-a0a49564ea4b",
   "metadata": {},
   "outputs": [
    {
     "name": "stdout",
     "output_type": "stream",
     "text": [
      "x    [red, yellow]\n",
      "y            green\n",
      "dtype: object\n"
     ]
    }
   ],
   "source": [
    "s2 = pd.Series({'x': ['red','yellow'], 'y': 'green'})\n",
    "print(s2)\n"
   ]
  },
  {
   "cell_type": "code",
   "execution_count": 46,
   "id": "0588ada2-05b2-4f2d-8899-e77321dcc2ac",
   "metadata": {},
   "outputs": [
    {
     "name": "stdout",
     "output_type": "stream",
     "text": [
      "a    10.0\n",
      "b    20.0\n",
      "c     NaN\n",
      "dtype: float64\n"
     ]
    }
   ],
   "source": [
    "#  Missing index will show NaN\n",
    "s3 = pd.Series({'a': 10, 'b': 20}, index=['a', 'b', 'c'])\n",
    "print(s3)"
   ]
  },
  {
   "cell_type": "markdown",
   "id": "a4a17a57-0ce0-4d91-a70a-f7c95e3431a4",
   "metadata": {},
   "source": [
    "If index is provided and a key is missing, its value becomes NaN."
   ]
  },
  {
   "cell_type": "markdown",
   "id": "4f04637b-c570-441a-9b6f-d4c2a0bce55c",
   "metadata": {},
   "source": [
    "#### 4.Using np.array\n",
    "You can create a Pandas Series using a NumPy array. This is useful when you already have data in NumPy format and want to leverage Pandas functionalities."
   ]
  },
  {
   "cell_type": "code",
   "execution_count": 54,
   "id": "69c737b7-2931-44e8-b45b-5f1b4c0f492f",
   "metadata": {},
   "outputs": [
    {
     "name": "stdout",
     "output_type": "stream",
     "text": [
      "0    10\n",
      "1    20\n",
      "2    30\n",
      "dtype: int64\n"
     ]
    }
   ],
   "source": [
    "# 1: Basic numeric array\n",
    "s1 = pd.Series(np.array([10, 20, 30]))\n",
    "print(s1)"
   ]
  },
  {
   "cell_type": "code",
   "execution_count": 56,
   "id": "1c41c5b8-7120-400c-acee-284d6384aa12",
   "metadata": {},
   "outputs": [
    {
     "name": "stdout",
     "output_type": "stream",
     "text": [
      "x    100\n",
      "y    200\n",
      "z    300\n",
      "dtype: int64\n"
     ]
    }
   ],
   "source": [
    " # 2: With custom index\n",
    "s2 = pd.Series(np.array([100, 200, 300]), index=['x', 'y', 'z'])\n",
    "print(s2)"
   ]
  },
  {
   "cell_type": "code",
   "execution_count": 58,
   "id": "172b8dc7-ff55-4d3b-b1f9-7185208c31f6",
   "metadata": {},
   "outputs": [
    {
     "name": "stdout",
     "output_type": "stream",
     "text": [
      "0    apple\n",
      "1     10.5\n",
      "2     True\n",
      "dtype: object\n"
     ]
    }
   ],
   "source": [
    "# 3: Mixed data types\n",
    "s3 = pd.Series(np.array(['apple', 10.5, True]))\n",
    "print(s3)"
   ]
  },
  {
   "cell_type": "markdown",
   "id": "cae57613-44b5-4b6e-801f-9f0376e1c981",
   "metadata": {},
   "source": [
    "#### 5. Using Scalar Values\n",
    "You can also create a Series with a single scalar value, repeated across a specified index."
   ]
  },
  {
   "cell_type": "code",
   "execution_count": 61,
   "id": "771d94e1-59b3-4489-b2cb-c8b7c72447da",
   "metadata": {},
   "outputs": [
    {
     "name": "stdout",
     "output_type": "stream",
     "text": [
      "a    5\n",
      "b    5\n",
      "c    5\n",
      "dtype: int64\n"
     ]
    }
   ],
   "source": [
    "# 1: Fill Series with same number\n",
    "s1 = pd.Series(5, index=['a', 'b', 'c'])\n",
    "print(s1)"
   ]
  },
  {
   "cell_type": "code",
   "execution_count": 63,
   "id": "cc9db7ea-ebb6-42d4-bc45-e2be9f5a1e3e",
   "metadata": {},
   "outputs": [
    {
     "name": "stdout",
     "output_type": "stream",
     "text": [
      "0    Hello\n",
      "1    Hello\n",
      "2    Hello\n",
      "dtype: object\n"
     ]
    }
   ],
   "source": [
    " # 2: Fill Series with a string\n",
    "s2 = pd.Series(\"Hello\", index=[0, 1, 2])\n",
    "print(s2)"
   ]
  },
  {
   "cell_type": "code",
   "execution_count": 65,
   "id": "3279a976-6c6e-48e0-98e4-e75a62c9418b",
   "metadata": {},
   "outputs": [
    {
     "name": "stdout",
     "output_type": "stream",
     "text": [
      "yes      True\n",
      "no       True\n",
      "maybe    True\n",
      "dtype: bool\n"
     ]
    }
   ],
   "source": [
    " # 3: Fill with Boolean\n",
    "s3 = pd.Series(True, index=['yes', 'no', 'maybe'])\n",
    "print(s3)"
   ]
  },
  {
   "cell_type": "markdown",
   "id": "df958299-c35d-4017-9304-50ae708a2cbf",
   "metadata": {},
   "source": [
    "##### Scalar-based Series must include the index parameter, otherwise it creates a single-element Series."
   ]
  },
  {
   "cell_type": "code",
   "execution_count": 72,
   "id": "4fddb28b-2622-47f0-839b-9ce0950a3911",
   "metadata": {},
   "outputs": [
    {
     "data": {
      "text/plain": [
       "0    Welcome\n",
       "dtype: object"
      ]
     },
     "execution_count": 72,
     "metadata": {},
     "output_type": "execute_result"
    }
   ],
   "source": [
    "s4 = pd.Series('Welcome')\n",
    "s4"
   ]
  },
  {
   "cell_type": "markdown",
   "id": "303b5c17-1f5d-4ab7-9ad1-6862e2dd6b27",
   "metadata": {},
   "source": [
    "### Series Functions and Methods"
   ]
  },
  {
   "cell_type": "markdown",
   "id": "92f7a521-cbd7-40f0-8d77-cc3685e402c7",
   "metadata": {},
   "source": [
    "### A. Basic Inspection Methods"
   ]
  },
  {
   "cell_type": "markdown",
   "id": "94df368b-8f33-4580-843e-e296fa708445",
   "metadata": {},
   "source": [
    "#### .head(n) – Returns first n elements\n",
    "* Purpose\n",
    "  * Returns the first n elements of the Series.\n",
    "* Why Use It\n",
    "    * Used to preview the top records (especially large datasets).\n",
    "* Notes\n",
    "  * Default value of n is 5"
   ]
  },
  {
   "cell_type": "code",
   "execution_count": 80,
   "id": "80107e6f-eee4-4b79-a862-59eeb2b197af",
   "metadata": {},
   "outputs": [
    {
     "data": {
      "text/plain": [
       "0    10\n",
       "1    20\n",
       "2    30\n",
       "3    40\n",
       "4    50\n",
       "5    34\n",
       "6    56\n",
       "7    23\n",
       "8    17\n",
       "9    89\n",
       "dtype: int64"
      ]
     },
     "execution_count": 80,
     "metadata": {},
     "output_type": "execute_result"
    }
   ],
   "source": [
    "s = pd.Series([10, 20, 30, 40, 50,34,56,23,17,89])\n",
    "s"
   ]
  },
  {
   "cell_type": "code",
   "execution_count": 86,
   "id": "83b0f9d8-65f7-41f1-95b2-c6989066d248",
   "metadata": {},
   "outputs": [
    {
     "data": {
      "text/plain": [
       "0    10\n",
       "1    20\n",
       "2    30\n",
       "3    40\n",
       "4    50\n",
       "dtype: int64"
      ]
     },
     "execution_count": 86,
     "metadata": {},
     "output_type": "execute_result"
    }
   ],
   "source": [
    "s.head()"
   ]
  },
  {
   "cell_type": "code",
   "execution_count": 82,
   "id": "bdb65d39-8f35-4b71-83fd-5c9c656950ec",
   "metadata": {},
   "outputs": [
    {
     "data": {
      "text/plain": [
       "0    10\n",
       "1    20\n",
       "dtype: int64"
      ]
     },
     "execution_count": 82,
     "metadata": {},
     "output_type": "execute_result"
    }
   ],
   "source": [
    "s.head(2)"
   ]
  },
  {
   "cell_type": "code",
   "execution_count": 84,
   "id": "9331b3c5-3df7-4051-8df6-a5badd6ff331",
   "metadata": {},
   "outputs": [
    {
     "data": {
      "text/plain": [
       "0    10\n",
       "1    20\n",
       "2    30\n",
       "dtype: int64"
      ]
     },
     "execution_count": 84,
     "metadata": {},
     "output_type": "execute_result"
    }
   ],
   "source": [
    "s.head(3)"
   ]
  },
  {
   "cell_type": "markdown",
   "id": "e522fc8f-91e6-4755-9c1c-61532ccffe17",
   "metadata": {},
   "source": [
    "#### .tail(n) – Get last n rows\n",
    "* Purpose:\n",
    "    * Returns the last n elements of the Series.\n",
    "* Why Use It:\n",
    "    * Used to inspect recent values, often useful with time-series data."
   ]
  },
  {
   "cell_type": "code",
   "execution_count": 89,
   "id": "1921246f-3923-4eb8-9068-05f8740dc8e0",
   "metadata": {},
   "outputs": [
    {
     "data": {
      "text/plain": [
       "5    34\n",
       "6    56\n",
       "7    23\n",
       "8    17\n",
       "9    89\n",
       "dtype: int64"
      ]
     },
     "execution_count": 89,
     "metadata": {},
     "output_type": "execute_result"
    }
   ],
   "source": [
    "s.tail()"
   ]
  },
  {
   "cell_type": "code",
   "execution_count": 91,
   "id": "b22eca1a-189c-4551-a798-3816fdb6d5b2",
   "metadata": {},
   "outputs": [
    {
     "data": {
      "text/plain": [
       "6    56\n",
       "7    23\n",
       "8    17\n",
       "9    89\n",
       "dtype: int64"
      ]
     },
     "execution_count": 91,
     "metadata": {},
     "output_type": "execute_result"
    }
   ],
   "source": [
    "s.tail(4)"
   ]
  },
  {
   "cell_type": "markdown",
   "id": "c0fc7cb1-807f-4b72-88f1-48dfae06b90e",
   "metadata": {},
   "source": [
    "#### .dtype – Data Type of Series Elements\n",
    "* Purpose:\n",
    "    * Returns the data type (dtype) of the Series elements.\n",
    "* Why Use It:\n",
    "    * Important to understand how data is stored internally — e.g., int64, object.\n",
    "##### Comman Datatypes\n",
    "| Data Type        | Description                 |\n",
    "| ---------------- | --------------------------- |\n",
    "| `int64`          | Integer values              |\n",
    "| `float64`        | Decimal numbers             |\n",
    "| `object`         | Strings or mixed types      |\n",
    "| `bool`           | Boolean values (True/False) |\n",
    "| `datetime64[ns]` | Date and time values        |\n"
   ]
  },
  {
   "cell_type": "code",
   "execution_count": 94,
   "id": "b1ed49cb-c483-4b8e-8c1d-d4c27848992b",
   "metadata": {},
   "outputs": [
    {
     "data": {
      "text/plain": [
       "dtype('int64')"
      ]
     },
     "execution_count": 94,
     "metadata": {},
     "output_type": "execute_result"
    }
   ],
   "source": [
    "s.dtype"
   ]
  },
  {
   "cell_type": "code",
   "execution_count": 108,
   "id": "516fccee-c34d-4d14-a9dd-f7a09b7f7af6",
   "metadata": {},
   "outputs": [
    {
     "name": "stdout",
     "output_type": "stream",
     "text": [
      "object\n"
     ]
    }
   ],
   "source": [
    "s2 = pd.Series(['a', 'b'])\n",
    "print(s2.dtype)"
   ]
  },
  {
   "cell_type": "code",
   "execution_count": 110,
   "id": "3a3cea5b-9215-4be2-a158-83f8488609f8",
   "metadata": {},
   "outputs": [
    {
     "name": "stdout",
     "output_type": "stream",
     "text": [
      "bool\n"
     ]
    }
   ],
   "source": [
    "pd.Series([1.5, 2.5])\n",
    "print(s3.dtype)"
   ]
  },
  {
   "cell_type": "code",
   "execution_count": 112,
   "id": "88932ee1-0eaf-4d01-8e4b-a3bd601c89d3",
   "metadata": {},
   "outputs": [
    {
     "data": {
      "text/plain": [
       "dtype('O')"
      ]
     },
     "execution_count": 112,
     "metadata": {},
     "output_type": "execute_result"
    }
   ],
   "source": [
    "s4 = pd.Series(['a', 2.5, True])\n",
    "s4.dtype"
   ]
  },
  {
   "cell_type": "markdown",
   "id": "941fa560-ad71-4250-b1a3-8af148e85abc",
   "metadata": {},
   "source": [
    "### .index - Returns the index (labels) of the Series.\n",
    "* Why Use It:\n",
    "    * To inspect or manipulate row labels of the Series."
   ]
  },
  {
   "cell_type": "code",
   "execution_count": 116,
   "id": "27c02e9a-935e-45ab-b4b6-a010f8e65bfb",
   "metadata": {},
   "outputs": [
    {
     "name": "stdout",
     "output_type": "stream",
     "text": [
      "Index(['a', 'b', 'c'], dtype='object')\n"
     ]
    }
   ],
   "source": [
    "s = pd.Series([10, 20, 30], index=['a', 'b', 'c'])\n",
    "print(s.index)"
   ]
  },
  {
   "cell_type": "code",
   "execution_count": 120,
   "id": "0491abea-7069-4c3e-8a4d-83fbb67b2e7d",
   "metadata": {},
   "outputs": [
    {
     "name": "stdout",
     "output_type": "stream",
     "text": [
      "['a', 'b', 'c']\n"
     ]
    }
   ],
   "source": [
    "print(list(s.index))"
   ]
  },
  {
   "cell_type": "code",
   "execution_count": 122,
   "id": "8f286854-a76e-4bbd-87f6-27ab323a9395",
   "metadata": {},
   "outputs": [
    {
     "data": {
      "text/plain": [
       "Index(['x', 'y', 'z'], dtype='object')"
      ]
     },
     "execution_count": 122,
     "metadata": {},
     "output_type": "execute_result"
    }
   ],
   "source": [
    "s.index = ['x', 'y', 'z']\n",
    "s.index"
   ]
  },
  {
   "cell_type": "markdown",
   "id": "3774c7f1-02b4-4a24-a41e-57346031c846",
   "metadata": {},
   "source": [
    "### .values - Returns the underlying data as a NumPy array.\n",
    "* Why Use It:\n",
    "    * To perform raw numerical operations or NumPy integrations."
   ]
  },
  {
   "cell_type": "code",
   "execution_count": 127,
   "id": "82b802e7-2139-4711-8e46-fff94e9f9100",
   "metadata": {},
   "outputs": [
    {
     "data": {
      "text/plain": [
       "x    10\n",
       "y    20\n",
       "z    30\n",
       "dtype: int64"
      ]
     },
     "execution_count": 127,
     "metadata": {},
     "output_type": "execute_result"
    }
   ],
   "source": [
    "s"
   ]
  },
  {
   "cell_type": "code",
   "execution_count": 129,
   "id": "ad8ae45e-fe38-4fe2-91bd-3c9d0fe3e0e1",
   "metadata": {},
   "outputs": [
    {
     "data": {
      "text/plain": [
       "array([10, 20, 30])"
      ]
     },
     "execution_count": 129,
     "metadata": {},
     "output_type": "execute_result"
    }
   ],
   "source": [
    "s.values"
   ]
  },
  {
   "cell_type": "code",
   "execution_count": 131,
   "id": "06fa533f-ed62-4ccd-956e-99c40ec96dd3",
   "metadata": {},
   "outputs": [
    {
     "name": "stdout",
     "output_type": "stream",
     "text": [
      "<class 'numpy.ndarray'>\n"
     ]
    }
   ],
   "source": [
    "print(type(s.values))"
   ]
  },
  {
   "cell_type": "markdown",
   "id": "751e507d-41b0-4141-8a2a-5cc8d810c5c5",
   "metadata": {},
   "source": [
    "### B. Mathematical & Statistical Functions"
   ]
  },
  {
   "cell_type": "markdown",
   "id": "2632c3ac-321e-49a1-b098-23827c43c8e3",
   "metadata": {},
   "source": [
    "#### .sum(), .mean(), .median() \n",
    "* These methods compute aggregate statistics.\n",
    "* Used for quick numeric summaries — common in EDA."
   ]
  },
  {
   "cell_type": "code",
   "execution_count": 137,
   "id": "5afce59f-c7ca-470a-a785-4e2c3d85f2a4",
   "metadata": {},
   "outputs": [
    {
     "name": "stdout",
     "output_type": "stream",
     "text": [
      "60\n",
      "20.0\n",
      "20.0\n"
     ]
    }
   ],
   "source": [
    "s = pd.Series([10, 20, 30])\n",
    "print(s.sum())    \n",
    "print(s.mean())    \n",
    "print(s.median()) \n"
   ]
  },
  {
   "cell_type": "markdown",
   "id": "004a5129-14b8-4f87-8f3e-a2daf748d22f",
   "metadata": {},
   "source": [
    "#### .min(), .max(), .std()"
   ]
  },
  {
   "cell_type": "code",
   "execution_count": 140,
   "id": "807cc8d3-f71f-4638-949e-e29affdb62b5",
   "metadata": {},
   "outputs": [
    {
     "name": "stdout",
     "output_type": "stream",
     "text": [
      "10\n",
      "30\n",
      "10.0\n"
     ]
    }
   ],
   "source": [
    "print(s.min())  \n",
    "print(s.max())   \n",
    "print(s.std())   \n"
   ]
  },
  {
   "cell_type": "markdown",
   "id": "94430937-54de-427a-ba45-ea599e01c843",
   "metadata": {},
   "source": [
    "#### .describe() – Summary statistics\n",
    "* Gives a summary of statistics for the Series."
   ]
  },
  {
   "cell_type": "code",
   "execution_count": 143,
   "id": "54c0b21d-c51b-472f-b445-0648c04c9b93",
   "metadata": {},
   "outputs": [
    {
     "name": "stdout",
     "output_type": "stream",
     "text": [
      "count     3.0\n",
      "mean     20.0\n",
      "std      10.0\n",
      "min      10.0\n",
      "25%      15.0\n",
      "50%      20.0\n",
      "75%      25.0\n",
      "max      30.0\n",
      "dtype: float64\n"
     ]
    }
   ],
   "source": [
    "print(s.describe())\n"
   ]
  },
  {
   "cell_type": "code",
   "execution_count": 258,
   "id": "708c0711-6ae9-4a56-9b9e-75e12d5d6e1b",
   "metadata": {},
   "outputs": [
    {
     "name": "stdout",
     "output_type": "stream",
     "text": [
      "count         3\n",
      "unique        2\n",
      "top       False\n",
      "freq          2\n",
      "dtype: object\n"
     ]
    }
   ],
   "source": [
    "s2 = pd.Series([True, False, False])\n",
    "print(s2.describe())\n",
    "# Works differently for object and bool types:"
   ]
  },
  {
   "cell_type": "code",
   "execution_count": 155,
   "id": "7c216595-8bc2-445c-9260-da985448ad35",
   "metadata": {},
   "outputs": [
    {
     "name": "stdout",
     "output_type": "stream",
     "text": [
      "count     4\n",
      "unique    3\n",
      "top       b\n",
      "freq      2\n",
      "dtype: object\n"
     ]
    }
   ],
   "source": [
    "s3 = pd.Series(['c', 'b', 'b', 'a'])\n",
    "print(s3.describe())\n"
   ]
  },
  {
   "cell_type": "markdown",
   "id": "c876936f-0aba-4165-b01b-5f1bf22e64eb",
   "metadata": {},
   "source": [
    "### C. Data Cleaning & Missing Values"
   ]
  },
  {
   "cell_type": "markdown",
   "id": "7e853b03-b33e-46dd-9af8-1e0be54f9d86",
   "metadata": {},
   "source": [
    "### .isnull() and .notnull()\n",
    "* Detect missing (NaN) values."
   ]
  },
  {
   "cell_type": "code",
   "execution_count": 261,
   "id": "42b89119-3993-4544-94ac-3980cb4b2b80",
   "metadata": {},
   "outputs": [
    {
     "name": "stdout",
     "output_type": "stream",
     "text": [
      "0    False\n",
      "1     True\n",
      "2    False\n",
      "3     True\n",
      "dtype: bool\n"
     ]
    }
   ],
   "source": [
    "s = pd.Series([1, None, 3, np.nan])\n",
    "#True for NaN\n",
    "print(s.isnull())"
   ]
  },
  {
   "cell_type": "code",
   "execution_count": 263,
   "id": "beb7c041-517c-4ada-b34f-a6bfbbd53093",
   "metadata": {},
   "outputs": [
    {
     "name": "stdout",
     "output_type": "stream",
     "text": [
      "0     True\n",
      "1    False\n",
      "2     True\n",
      "3    False\n",
      "dtype: bool\n"
     ]
    }
   ],
   "source": [
    "# True for valid\n",
    "print(s.notnull())"
   ]
  },
  {
   "cell_type": "code",
   "execution_count": 267,
   "id": "1ab0d57a-bcc9-4997-8e67-f0dc9b86947a",
   "metadata": {},
   "outputs": [
    {
     "name": "stdout",
     "output_type": "stream",
     "text": [
      "0    1.0\n",
      "2    3.0\n",
      "dtype: float64\n"
     ]
    }
   ],
   "source": [
    "# Filter non-null values\n",
    "print(s[s.notnull()])"
   ]
  },
  {
   "cell_type": "markdown",
   "id": "76d12695-781f-49bf-86f8-de3287debe91",
   "metadata": {},
   "source": [
    "### .fillna(value) - Fill Missing Data\n",
    "* Replaces all NaN values with a specific value or method.\n",
    "* syntax:-\n",
    "  * series.fillna(value)\n",
    "  * series.fillna(method='ffill' or 'bfill')"
   ]
  },
  {
   "cell_type": "code",
   "execution_count": 166,
   "id": "34de0833-67ee-411b-a7ab-406833027ee7",
   "metadata": {},
   "outputs": [
    {
     "name": "stdout",
     "output_type": "stream",
     "text": [
      "0    1.0\n",
      "1    0.0\n",
      "2    3.0\n",
      "3    0.0\n",
      "dtype: float64\n"
     ]
    }
   ],
   "source": [
    "print(s.fillna(0))"
   ]
  },
  {
   "cell_type": "markdown",
   "id": "0f815f2d-07e5-4818-8d01-f40031179cf6",
   "metadata": {},
   "source": [
    "* When working with missing data (NaN), we often want to fill those gaps with nearby values. Two powerful methods in Pandas to do this are:\n",
    "| Method           | Meaning           | How it works                                     |\n",
    "| ---------------- | ----------------- | ------------------------------------------------ |\n",
    "| `method='ffill'` | **Forward fill**  | Fills `NaN` with the **previous** non-null value |\n",
    "| `method='bfill'` | **Backward fill** | Fills `NaN` with the **next** non-null value     |\n"
   ]
  },
  {
   "cell_type": "markdown",
   "id": "deb37619-33d2-40cc-bd5f-92f7cb5eb98b",
   "metadata": {},
   "source": [
    "Use Case:\n",
    "* Time-series or sequential data where a value may be missing but nearby values are good approximations.\n",
    "* Stock prices, sensor readings, form submissions, etc."
   ]
  },
  {
   "cell_type": "markdown",
   "id": "6c89130f-a934-4f27-bb91-3aa1d2b466e0",
   "metadata": {},
   "source": [
    "####  Forward fill"
   ]
  },
  {
   "cell_type": "code",
   "execution_count": 168,
   "id": "08ae8a15-c73c-40a4-92b6-a27c0bb67faa",
   "metadata": {},
   "outputs": [
    {
     "name": "stdout",
     "output_type": "stream",
     "text": [
      "0    1.0\n",
      "1    1.0\n",
      "2    3.0\n",
      "3    3.0\n",
      "dtype: float64\n"
     ]
    },
    {
     "name": "stderr",
     "output_type": "stream",
     "text": [
      "C:\\Users\\hp\\AppData\\Local\\Temp\\ipykernel_4656\\2408257328.py:2: FutureWarning: Series.fillna with 'method' is deprecated and will raise in a future version. Use obj.ffill() or obj.bfill() instead.\n",
      "  print(s.fillna(method='ffill'))  # Forward fill\n"
     ]
    }
   ],
   "source": [
    "s = pd.Series([1, None, 3, np.nan])\n",
    "print(s.fillna(method='ffill'))  "
   ]
  },
  {
   "cell_type": "markdown",
   "id": "9891aade-0405-404e-a86e-5f0775b25487",
   "metadata": {},
   "source": [
    "#### Backward fill"
   ]
  },
  {
   "cell_type": "code",
   "execution_count": 173,
   "id": "a94e8a8b-7f7d-4fb3-a66b-6300066f064c",
   "metadata": {},
   "outputs": [
    {
     "name": "stdout",
     "output_type": "stream",
     "text": [
      "0    1.0\n",
      "1    3.0\n",
      "2    3.0\n",
      "3    NaN\n",
      "dtype: float64\n"
     ]
    },
    {
     "name": "stderr",
     "output_type": "stream",
     "text": [
      "C:\\Users\\hp\\AppData\\Local\\Temp\\ipykernel_4656\\1270384784.py:2: FutureWarning: Series.fillna with 'method' is deprecated and will raise in a future version. Use obj.ffill() or obj.bfill() instead.\n",
      "  print(s.fillna(method='bfill'))\n"
     ]
    }
   ],
   "source": [
    "s = pd.Series([1, None, 3, np.nan])\n",
    "print(s.fillna(method='bfill'))"
   ]
  },
  {
   "cell_type": "code",
   "execution_count": 289,
   "id": "c6c25ffb-1848-42dd-988b-07ce1f8a6b30",
   "metadata": {},
   "outputs": [],
   "source": [
    "# print(s.fillna(method='ffill', limit=2))\n",
    "# Only 2 NaNs are filled after the first value due to limit=2.\n",
    "# Trailing NaNs (at end) remain NaN because there's no later value to pull back."
   ]
  },
  {
   "cell_type": "markdown",
   "id": "f3fc51d3-4def-40cb-bb93-877b2a74eb92",
   "metadata": {},
   "source": [
    "| Method    | Action                    | Use Case                            |\n",
    "| --------- | ------------------------- | ----------------------------------- |\n",
    "| `ffill`   | Fill with previous value  | Fill future blanks with past values |\n",
    "| `bfill`   | Fill with next value      | Fill past blanks with future values |\n",
    "| `limit=n` | Limit the number of fills | Avoid overfitting missing data      |\n"
   ]
  },
  {
   "cell_type": "markdown",
   "id": "68e33b44-8933-4be3-aade-f0908b34295b",
   "metadata": {},
   "source": [
    "### When to Use Which?\n",
    "| Scenario                             | Recommended Fill |\n",
    "| ------------------------------------ | ---------------- |\n",
    "| Time-series going forward            | Forward fill     |\n",
    "| Backfilling previous missing records | Backward fill    |\n",
    "| Avoiding overwriting early/late NaNs | Use limit param  |\n"
   ]
  },
  {
   "cell_type": "markdown",
   "id": "e25a2c61-e89d-46dd-ad2c-b85376ccaec2",
   "metadata": {},
   "source": [
    "### D. Transformation Methods"
   ]
  },
  {
   "cell_type": "markdown",
   "id": "79c8a1d4-0eaf-4725-8e35-6e2eb94a5a1d",
   "metadata": {},
   "source": [
    "### .apply(function) - Apply a function to each element\n",
    "* Used to apply any custom function row-wise."
   ]
  },
  {
   "cell_type": "code",
   "execution_count": 275,
   "id": "9887faab-30f1-45c1-84bd-3f4708f58083",
   "metadata": {},
   "outputs": [
    {
     "data": {
      "text/plain": [
       "0    15\n",
       "1    27\n",
       "2    39\n",
       "dtype: int64"
      ]
     },
     "execution_count": 275,
     "metadata": {},
     "output_type": "execute_result"
    }
   ],
   "source": [
    "s = pd.Series([15, 27, 39])\n",
    "s"
   ]
  },
  {
   "cell_type": "code",
   "execution_count": 191,
   "id": "4255f071-6692-42f1-a053-0a65f03f498e",
   "metadata": {},
   "outputs": [
    {
     "data": {
      "text/plain": [
       "0    20\n",
       "1    32\n",
       "2    44\n",
       "dtype: int64"
      ]
     },
     "execution_count": 191,
     "metadata": {},
     "output_type": "execute_result"
    }
   ],
   "source": [
    "s22 = s.apply(lambda x: x + 5)\n",
    "s22"
   ]
  },
  {
   "cell_type": "code",
   "execution_count": 193,
   "id": "0568a5ec-e2ab-4acb-91d2-6c501c9826b4",
   "metadata": {},
   "outputs": [
    {
     "data": {
      "text/plain": [
       "0    15\n",
       "1    27\n",
       "2    39\n",
       "dtype: int64"
      ]
     },
     "execution_count": 193,
     "metadata": {},
     "output_type": "execute_result"
    }
   ],
   "source": [
    "s"
   ]
  },
  {
   "cell_type": "code",
   "execution_count": 185,
   "id": "db62ea1d-b343-473c-9bd0-f87e98a7c9e3",
   "metadata": {},
   "outputs": [
    {
     "data": {
      "text/plain": [
       "0     225\n",
       "1     729\n",
       "2    1521\n",
       "dtype: int64"
      ]
     },
     "execution_count": 185,
     "metadata": {},
     "output_type": "execute_result"
    }
   ],
   "source": [
    "s.apply(lambda x: x**2)"
   ]
  },
  {
   "cell_type": "code",
   "execution_count": 197,
   "id": "5d4b4f85-0efd-4ded-89bf-ec1695931efb",
   "metadata": {},
   "outputs": [
    {
     "data": {
      "text/plain": [
       "0    15\n",
       "1    27\n",
       "2    39\n",
       "dtype: object"
      ]
     },
     "execution_count": 197,
     "metadata": {},
     "output_type": "execute_result"
    }
   ],
   "source": [
    "s.apply(str)"
   ]
  },
  {
   "cell_type": "code",
   "execution_count": 277,
   "id": "78a4bf2b-2f93-4357-bbe0-ac8413eceec1",
   "metadata": {},
   "outputs": [
    {
     "name": "stdout",
     "output_type": "stream",
     "text": [
      "0     225\n",
      "1     729\n",
      "2    1521\n",
      "dtype: int64\n"
     ]
    }
   ],
   "source": [
    "def square(x): \n",
    "    return x**2\n",
    "print(s.apply(square))"
   ]
  },
  {
   "cell_type": "markdown",
   "id": "df6c7115-acc4-4366-81f4-032ad39a7dc7",
   "metadata": {},
   "source": [
    "#### .map(dict/function) - Element-wise Transformation\n",
    "* Transforms each value in a Series using a function or mapping dict."
   ]
  },
  {
   "cell_type": "code",
   "execution_count": 216,
   "id": "610fb7bd-0b62-4f2f-b965-21673fe9959d",
   "metadata": {},
   "outputs": [
    {
     "name": "stdout",
     "output_type": "stream",
     "text": [
      "0      One\n",
      "1      Two\n",
      "2    Three\n",
      "dtype: object\n"
     ]
    }
   ],
   "source": [
    "s = pd.Series([1, 2, 3])\n",
    "print(s.map({1: 'One', 2: 'Two', 3: 'Three'}))"
   ]
  },
  {
   "cell_type": "code",
   "execution_count": 208,
   "id": "fa06dfdc-59af-49e3-a7c3-cb0933291b62",
   "metadata": {},
   "outputs": [
    {
     "name": "stdout",
     "output_type": "stream",
     "text": [
      "0    10\n",
      "1    20\n",
      "2    30\n",
      "dtype: int64\n"
     ]
    }
   ],
   "source": [
    "print(s.map(lambda x: x * 10))"
   ]
  },
  {
   "cell_type": "code",
   "execution_count": 218,
   "id": "07af3119-e97e-4d1f-89d6-6d40b5684d4d",
   "metadata": {},
   "outputs": [
    {
     "name": "stdout",
     "output_type": "stream",
     "text": [
      "0    DOG\n",
      "1    CAT\n",
      "dtype: object\n"
     ]
    },
    {
     "data": {
      "text/plain": [
       "0    1\n",
       "1    2\n",
       "2    3\n",
       "dtype: int64"
      ]
     },
     "execution_count": 218,
     "metadata": {},
     "output_type": "execute_result"
    }
   ],
   "source": [
    "s2 = pd.Series(['dog', 'cat'])\n",
    "print(s2.map(str.upper))\n",
    "s"
   ]
  },
  {
   "cell_type": "markdown",
   "id": "88038173-9d79-476b-9eb7-2d19f268b979",
   "metadata": {},
   "source": [
    "### .astype(type) – Convert data type"
   ]
  },
  {
   "cell_type": "code",
   "execution_count": 221,
   "id": "a8313911-efba-4318-bb27-6129751c6652",
   "metadata": {},
   "outputs": [
    {
     "name": "stdout",
     "output_type": "stream",
     "text": [
      "0    1.0\n",
      "1    2.0\n",
      "2    3.0\n",
      "dtype: float64\n",
      "0    1\n",
      "1    2\n",
      "2    3\n",
      "dtype: object\n",
      "0    1\n",
      "1    2\n",
      "2    3\n",
      "dtype: int32\n"
     ]
    }
   ],
   "source": [
    "s = pd.Series([1, 2, 3])\n",
    "print(s.astype(float))\n",
    "print(s.astype(str))\n",
    "print(s.astype(\"int32\"))\n"
   ]
  },
  {
   "cell_type": "markdown",
   "id": "517c89bc-810b-4899-93b8-4484aea2bb03",
   "metadata": {},
   "source": [
    "### E. Sorting & Uniqueness"
   ]
  },
  {
   "cell_type": "markdown",
   "id": "10c2c915-bbe1-4b86-9d04-e31dedc9ea69",
   "metadata": {},
   "source": [
    "#### .sort_values(), .sort_index()\n",
    "* Sort the Series by values or index."
   ]
  },
  {
   "cell_type": "code",
   "execution_count": 225,
   "id": "d6b79114-9a02-48c7-9375-748a73bf6e72",
   "metadata": {},
   "outputs": [
    {
     "name": "stdout",
     "output_type": "stream",
     "text": [
      "a    10\n",
      "b    30\n",
      "e    40\n",
      "c    50\n",
      "d    90\n",
      "dtype: int64\n"
     ]
    }
   ],
   "source": [
    "s = pd.Series([50, 10, 30,90,40], index=['c', 'a', 'b','d','e'])\n",
    "print(s.sort_values())"
   ]
  },
  {
   "cell_type": "code",
   "execution_count": 227,
   "id": "23b2cd97-3bda-4f0c-88fb-dc8a7b424644",
   "metadata": {},
   "outputs": [
    {
     "name": "stdout",
     "output_type": "stream",
     "text": [
      "a    10\n",
      "b    30\n",
      "c    50\n",
      "d    90\n",
      "e    40\n",
      "dtype: int64\n"
     ]
    }
   ],
   "source": [
    "print(s.sort_index())"
   ]
  },
  {
   "cell_type": "code",
   "execution_count": 229,
   "id": "238397a4-05eb-43f4-a9cd-a68a78debc79",
   "metadata": {},
   "outputs": [
    {
     "name": "stdout",
     "output_type": "stream",
     "text": [
      "d    90\n",
      "c    50\n",
      "e    40\n",
      "b    30\n",
      "a    10\n",
      "dtype: int64\n"
     ]
    }
   ],
   "source": [
    "print(s.sort_values(ascending=False))"
   ]
  },
  {
   "cell_type": "markdown",
   "id": "dce374f1-8aa8-4fd9-88dd-df62a88a72a7",
   "metadata": {},
   "source": [
    "### .unique(), .nunique()\n",
    "* .unique() returns unique values as array.\n",
    "* .nunique() counts number of unique values."
   ]
  },
  {
   "cell_type": "code",
   "execution_count": 232,
   "id": "109b3eba-843d-4767-b4f2-279aad741c65",
   "metadata": {},
   "outputs": [
    {
     "name": "stdout",
     "output_type": "stream",
     "text": [
      "[1 2 3]\n"
     ]
    }
   ],
   "source": [
    "s = pd.Series([1, 2, 2, 3, 3, 3])\n",
    "print(s.unique()) "
   ]
  },
  {
   "cell_type": "code",
   "execution_count": 234,
   "id": "b62f9f37-b83e-45c2-b4e8-4d2169651a49",
   "metadata": {},
   "outputs": [
    {
     "name": "stdout",
     "output_type": "stream",
     "text": [
      "3\n"
     ]
    }
   ],
   "source": [
    "print(s.nunique())   "
   ]
  },
  {
   "cell_type": "code",
   "execution_count": 236,
   "id": "407177c7-ec19-4609-82a6-eb513a3a60e9",
   "metadata": {},
   "outputs": [
    {
     "name": "stdout",
     "output_type": "stream",
     "text": [
      "3\n"
     ]
    }
   ],
   "source": [
    "print(len(s.unique())) "
   ]
  },
  {
   "cell_type": "markdown",
   "id": "93dae4b6-98bc-4a22-9451-eab0b4d9ada7",
   "metadata": {},
   "source": [
    "### F. Miscellaneous"
   ]
  },
  {
   "cell_type": "markdown",
   "id": "817c3df0-bda7-4d31-8dfa-32cebbf7e87f",
   "metadata": {},
   "source": [
    "#### .copy() – Create a copy\n",
    "* Creates a deep copy of the Series (not linked to original memory)."
   ]
  },
  {
   "cell_type": "code",
   "execution_count": 241,
   "id": "ce9fe4f3-4c0f-47d2-bdfa-f3a00e7d37e5",
   "metadata": {},
   "outputs": [],
   "source": [
    "s = pd.Series([10, 20, 30])\n",
    "s_copy = s.copy()"
   ]
  },
  {
   "cell_type": "code",
   "execution_count": 243,
   "id": "1a9d10b9-0525-469d-8703-d0beecfc6aa1",
   "metadata": {},
   "outputs": [
    {
     "name": "stdout",
     "output_type": "stream",
     "text": [
      "0    10\n",
      "1    20\n",
      "2    30\n",
      "dtype: int64\n"
     ]
    }
   ],
   "source": [
    "print(s_copy)"
   ]
  },
  {
   "cell_type": "code",
   "execution_count": 245,
   "id": "b468ca16-3d01-49c8-b774-acb7162620ac",
   "metadata": {},
   "outputs": [
    {
     "name": "stdout",
     "output_type": "stream",
     "text": [
      "10 99\n"
     ]
    }
   ],
   "source": [
    "s_copy[0] = 99\n",
    "print(s[0], s_copy[0])"
   ]
  },
  {
   "cell_type": "markdown",
   "id": "a8d1f2eb-cfb7-4fb0-857a-caa60703edca",
   "metadata": {},
   "source": [
    "#### .equals() – Compare two series\n",
    "* Checks if two Series are exactly equal (including index and values)."
   ]
  },
  {
   "cell_type": "code",
   "execution_count": 248,
   "id": "4e49b233-e605-4ad7-8490-629390b95893",
   "metadata": {},
   "outputs": [
    {
     "name": "stdout",
     "output_type": "stream",
     "text": [
      "False\n"
     ]
    }
   ],
   "source": [
    "print(s.equals(s_copy)) "
   ]
  },
  {
   "cell_type": "code",
   "execution_count": 250,
   "id": "f1b8a87e-5792-49ef-936f-6e8c93e6736e",
   "metadata": {},
   "outputs": [
    {
     "name": "stdout",
     "output_type": "stream",
     "text": [
      "True\n"
     ]
    }
   ],
   "source": [
    "s1 = pd.Series([1, 2])\n",
    "s2 = pd.Series([1, 2])\n",
    "print(s1.equals(s2))"
   ]
  },
  {
   "cell_type": "code",
   "execution_count": 252,
   "id": "4e22a232-81df-4c3e-98b7-db4dc26e7707",
   "metadata": {},
   "outputs": [
    {
     "name": "stdout",
     "output_type": "stream",
     "text": [
      "False\n"
     ]
    }
   ],
   "source": [
    "s3 = pd.Series([2, 1])\n",
    "print(s1.equals(s3))"
   ]
  },
  {
   "cell_type": "code",
   "execution_count": 254,
   "id": "212e3eb5-4a4c-4c20-aeda-6a37ef3f5180",
   "metadata": {},
   "outputs": [
    {
     "name": "stdout",
     "output_type": "stream",
     "text": [
      "True\n"
     ]
    }
   ],
   "source": [
    "print(s1.equals(s1.copy()))"
   ]
  },
  {
   "cell_type": "code",
   "execution_count": null,
   "id": "1850b890-f543-43cb-92aa-63bce763c596",
   "metadata": {},
   "outputs": [],
   "source": []
  }
 ],
 "metadata": {
  "kernelspec": {
   "display_name": "Python [conda env:Data_Science]",
   "language": "python",
   "name": "conda-env-Data_Science-py"
  },
  "language_info": {
   "codemirror_mode": {
    "name": "ipython",
    "version": 3
   },
   "file_extension": ".py",
   "mimetype": "text/x-python",
   "name": "python",
   "nbconvert_exporter": "python",
   "pygments_lexer": "ipython3",
   "version": "3.13.1"
  }
 },
 "nbformat": 4,
 "nbformat_minor": 5
}
